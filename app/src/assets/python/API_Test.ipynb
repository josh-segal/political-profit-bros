{
 "cells": [
  {
   "cell_type": "code",
   "execution_count": 1,
   "id": "d6456984",
   "metadata": {},
   "outputs": [
    {
     "data": {
      "text/plain": [
       "[{'symbol': 'GLEN.L',\n",
       "  'name': 'Glencore plc',\n",
       "  'currency': 'GBp',\n",
       "  'stockExchange': 'London Stock Exchange',\n",
       "  'exchangeShortName': 'LSE'},\n",
       " {'symbol': 'GLENMARK.NS',\n",
       "  'name': 'Glenmark Pharmaceuticals Limited',\n",
       "  'currency': 'INR',\n",
       "  'stockExchange': 'National Stock Exchange of India',\n",
       "  'exchangeShortName': 'NSE'},\n",
       " {'symbol': 'GLENMARK.BO',\n",
       "  'name': 'Glenmark Pharmaceuticals Limited',\n",
       "  'currency': 'INR',\n",
       "  'stockExchange': 'Bombay Stock Exchange',\n",
       "  'exchangeShortName': 'BSE'},\n",
       " {'symbol': 'GLNCY',\n",
       "  'name': 'Glencore plc',\n",
       "  'currency': 'USD',\n",
       "  'stockExchange': 'Other OTC',\n",
       "  'exchangeShortName': 'PNK'},\n",
       " {'symbol': 'GLCNF',\n",
       "  'name': 'Glencore plc',\n",
       "  'currency': 'USD',\n",
       "  'stockExchange': 'Other OTC',\n",
       "  'exchangeShortName': 'PNK'},\n",
       " {'symbol': 'GLBZ',\n",
       "  'name': 'Glen Burnie Bancorp',\n",
       "  'currency': 'USD',\n",
       "  'stockExchange': 'NASDAQ Capital Market',\n",
       "  'exchangeShortName': 'NASDAQ'},\n",
       " {'symbol': 'GGMCW',\n",
       "  'name': 'Glenfarne Merger Corp.',\n",
       "  'currency': 'USD',\n",
       "  'stockExchange': 'NASDAQ Capital Market',\n",
       "  'exchangeShortName': 'NASDAQ'},\n",
       " {'symbol': 'GGMCU',\n",
       "  'name': 'Glenfarne Merger Corp.',\n",
       "  'currency': 'USD',\n",
       "  'stockExchange': 'NASDAQ Capital Market',\n",
       "  'exchangeShortName': 'NASDAQ'},\n",
       " {'symbol': 'GGMC',\n",
       "  'name': 'Glenfarne Merger Corp.',\n",
       "  'currency': 'USD',\n",
       "  'stockExchange': 'NASDAQ Capital Market',\n",
       "  'exchangeShortName': 'NASDAQ'},\n",
       " {'symbol': 'GVR.IR',\n",
       "  'name': 'Glenveagh Properties PLC',\n",
       "  'currency': 'EUR',\n",
       "  'stockExchange': 'Irish',\n",
       "  'exchangeShortName': 'EURONEXT'},\n",
       " {'symbol': 'GLV.L',\n",
       "  'name': 'Glenveagh Properties PLC',\n",
       "  'currency': 'EUR',\n",
       "  'stockExchange': 'London Stock Exchange',\n",
       "  'exchangeShortName': 'LSE'},\n",
       " {'symbol': 'GLVHF',\n",
       "  'name': 'Glenveagh Properties PLC',\n",
       "  'currency': 'USD',\n",
       "  'stockExchange': 'Other OTC',\n",
       "  'exchangeShortName': 'PNK'},\n",
       " {'symbol': 'GER.V',\n",
       "  'name': 'Glen Eagle Resources Inc.',\n",
       "  'currency': 'CAD',\n",
       "  'stockExchange': 'Toronto Stock Exchange Ventures',\n",
       "  'exchangeShortName': 'TSXV'},\n",
       " {'symbol': 'GERFF',\n",
       "  'name': 'Glen Eagle Resources Inc.',\n",
       "  'currency': 'USD',\n",
       "  'stockExchange': 'Other OTC',\n",
       "  'exchangeShortName': 'PNK'},\n",
       " {'symbol': 'GC1.AX',\n",
       "  'name': 'Glennon Small Companies Ltd',\n",
       "  'currency': 'AUD',\n",
       "  'stockExchange': 'Australian Securities Exchange',\n",
       "  'exchangeShortName': 'ASX'},\n",
       " {'symbol': 'GTLLX',\n",
       "  'name': 'Glenmede Large Cap Growth Ptf',\n",
       "  'currency': 'USD',\n",
       "  'stockExchange': 'NASDAQ',\n",
       "  'exchangeShortName': 'NASDAQ'},\n",
       " {'symbol': 'GTAPX',\n",
       "  'name': 'Glenmede Long/Short Portfolio',\n",
       "  'currency': 'USD',\n",
       "  'stockExchange': 'NASDAQ',\n",
       "  'exchangeShortName': 'NASDAQ'},\n",
       " {'symbol': 'GLS.NS',\n",
       "  'name': 'Glenmark Life Sciences Limited',\n",
       "  'currency': 'INR',\n",
       "  'stockExchange': 'National Stock Exchange of India',\n",
       "  'exchangeShortName': 'NSE'},\n",
       " {'symbol': 'GLS.BO',\n",
       "  'name': 'Glenmark Life Sciences Limited',\n",
       "  'currency': 'INR',\n",
       "  'stockExchange': 'Bombay Stock Exchange',\n",
       "  'exchangeShortName': 'BSE'},\n",
       " {'symbol': 'GTTMX',\n",
       "  'name': 'Glenmede Total Market Portfolio',\n",
       "  'currency': 'USD',\n",
       "  'stockExchange': 'NASDAQ',\n",
       "  'exchangeShortName': 'NASDAQ'},\n",
       " {'symbol': 'GLRP',\n",
       "  'name': 'Glen Rose Petroleum Corporation',\n",
       "  'currency': 'USD',\n",
       "  'stockExchange': 'Other OTC',\n",
       "  'exchangeShortName': 'PNK'},\n",
       " {'symbol': 'GTSOX',\n",
       "  'name': 'Glenmede Secured Options Portfolio',\n",
       "  'currency': 'USD',\n",
       "  'stockExchange': 'NASDAQ',\n",
       "  'exchangeShortName': 'NASDAQ'},\n",
       " {'symbol': 'GTSCX',\n",
       "  'name': 'Glenmede Small Cap Equity Portfolio',\n",
       "  'currency': 'USD',\n",
       "  'stockExchange': 'NASDAQ',\n",
       "  'exchangeShortName': 'NASDAQ'},\n",
       " {'symbol': 'GTCEX',\n",
       "  'name': 'Glenmede Strategic Equity Portfolio',\n",
       "  'currency': 'USD',\n",
       "  'stockExchange': 'NASDAQ',\n",
       "  'exchangeShortName': 'NASDAQ'},\n",
       " {'symbol': 'GLNV',\n",
       "  'name': 'Glenville Bank Holding Company, Inc.',\n",
       "  'currency': 'USD',\n",
       "  'stockExchange': 'Other OTC',\n",
       "  'exchangeShortName': 'PNK'},\n",
       " {'symbol': 'GTCIX',\n",
       "  'name': 'Glenmede Fund International Portfolio',\n",
       "  'currency': 'USD',\n",
       "  'stockExchange': 'NASDAQ',\n",
       "  'exchangeShortName': 'NASDAQ'},\n",
       " {'symbol': 'GTCGX',\n",
       "  'name': 'Glenmede Fund Core Fixed Income Portfolio',\n",
       "  'currency': 'USD',\n",
       "  'stockExchange': 'NASDAQ',\n",
       "  'exchangeShortName': 'NASDAQ'},\n",
       " {'symbol': 'GTCSX',\n",
       "  'name': 'Glenmede Small Cap Equity Portfolio Class Advisor',\n",
       "  'currency': 'USD',\n",
       "  'stockExchange': 'NASDAQ',\n",
       "  'exchangeShortName': 'NASDAQ'},\n",
       " {'symbol': 'GTLOX',\n",
       "  'name': 'Glenmede Quantitative U.S. Large Cap Core Equity Portfolio',\n",
       "  'currency': 'USD',\n",
       "  'stockExchange': 'NASDAQ',\n",
       "  'exchangeShortName': 'NASDAQ'},\n",
       " {'symbol': 'GTLIX',\n",
       "  'name': 'Glenmede Quantitative U.S. Large Cap Core Equity Portfolio',\n",
       "  'currency': 'USD',\n",
       "  'stockExchange': 'NASDAQ',\n",
       "  'exchangeShortName': 'NASDAQ'},\n",
       " {'symbol': '2931.T',\n",
       "  'name': 'Euglena Co., Ltd.',\n",
       "  'currency': 'JPY',\n",
       "  'stockExchange': 'Tokyo',\n",
       "  'exchangeShortName': 'JPX'},\n",
       " {'symbol': '688112.SS',\n",
       "  'name': 'Siglent Technologies CO., Ltd.',\n",
       "  'currency': 'CNY',\n",
       "  'stockExchange': 'Shanghai',\n",
       "  'exchangeShortName': 'SHH'},\n",
       " {'symbol': 'NDIGLENHKL1.CO',\n",
       "  'name': 'Investeringsforeningen Nordea Invest - Global Enhanced',\n",
       "  'currency': 'DKK',\n",
       "  'stockExchange': 'Copenhagen',\n",
       "  'exchangeShortName': 'CPH'},\n",
       " {'symbol': '0008.KL',\n",
       "  'name': 'Willowglen MSC Berhad',\n",
       "  'currency': 'MYR',\n",
       "  'stockExchange': 'Kuala Lumpur',\n",
       "  'exchangeShortName': 'KLS'},\n",
       " {'symbol': '3LGL.L',\n",
       "  'name': 'GraniteShares 3x Long Glencore Daily ETC',\n",
       "  'currency': 'GBp',\n",
       "  'stockExchange': 'London Stock Exchange',\n",
       "  'exchangeShortName': 'LSE'}]"
      ]
     },
     "execution_count": 1,
     "metadata": {},
     "output_type": "execute_result"
    }
   ],
   "source": [
    "import json \n",
    "import pandas as pd \n",
    "import requests \n",
    "import yfinance as yf \n",
    "import os\n",
    "import plotly.express as px \n",
    "from datetime import datetime\n",
    "import plotly.graph_objects as go\n",
    "import numpy as np\n",
    "import matplotlib.pyplot as plt\n",
    "from collections import Counter\n",
    "stock_ticker = 'GLEN'\n",
    "key = '&apikey=j479N8NO7P5sw8YI1X0srvkDDWGQPODS'\n",
    "real_url = f'https://financialmodelingprep.com/api/v3/search?query={stock_ticker}{key}'\n",
    "response = requests.get(real_url)\n",
    "data = response.json()\n",
    "\n",
    "\n",
    "data\n"
   ]
  },
  {
   "cell_type": "code",
   "execution_count": null,
   "id": "6a3c474b",
   "metadata": {},
   "outputs": [],
   "source": [
    "import re\n",
    "\n",
    "\n",
    "names = soup.find_all(class_='q-fieldset politician-name')\n",
    "name_lst = [name.text for name in names]\n",
    "\n",
    "party_pattern = re.compile(r'q-field party party--')\n",
    "parties = soup.find_all(class_=party_pattern)\n",
    "party_lst = [party.text for party in parties]\n",
    "\n",
    "chamber_pattern = re.compile(r'q-field chamber chamber--')\n",
    "chambers = soup.find_all(class_=chamber_pattern)\n",
    "chamber_lst = [chamber.text for chamber in chambers]\n",
    "\n",
    "state_pattern = re.compile(r'q-field us-state-compact us-state-compact--')\n",
    "states = soup.find_all(class_=state_pattern)\n",
    "state_lst = [state.text for state in states]\n",
    "\n",
    "issuers = soup.find_all(class_='q-fieldset issuer-name')\n",
    "issuer_lst = [issue.text for issue in issuers]\n",
    "\n",
    "issuers_ticker = soup.find_all(class_='q-field issuer-ticker')\n",
    "issuer_ticker_lst = [ticker.text for ticker in issuers_ticker]\n",
    "\n",
    "\n",
    "type_pattern = re.compile(r'q-field tx-type tx-type--')\n",
    "types = soup.find_all(class_=type_pattern)\n",
    "type_lst = [typee.text.capitalize() for typee in types]\n",
    "\n",
    "\"\"\"\n",
    "date_lst = []\n",
    "dates = soup.find_all(class_='q-cell cell--count-issuers flavour--lv')\n",
    "for date in dates:\n",
    "    years = date.find_all(class_='q-label')\n",
    "    days_months = date.find_all(class_='q-value')\n",
    "    for year, day_month in zip(years, days_months):\n",
    "        if year.text != 'Issuers': \n",
    "            #print(f'{year.text}{day_month.text}')\n",
    "            date_object = datetime.strptime(f'{year.text}{day_month.text}', \"%Y %d %b\")\n",
    "            date_lst.append(datetime(year=date_object.year, month=date_object.month, day=date_object.day))\n",
    "\"\"\"                  \n",
    "trade_prices = soup.find_all(class_='q-cell cell--trade-price')\n",
    "#for price in trade_prices:\n",
    "    \n",
    "print(trade_prices)\n",
    "#trade_prices_lst = [price.text for price in trade_prices]\n",
    "\n",
    "\n",
    "df = pd.DataFrame({\n",
    "    'Name': politician_name_lst,\n",
    "    'Party': politician_party_lst,\n",
    "    'Chamber': chamber_lst,\n",
    "    'State': state_lst,\n",
    "    'Issuer': issuer_lst,\n",
    "    'Ticker': issuer_ticker_lst,\n",
    "    'Type': type_lst\n",
    "    #'Published': date_lst[::2],\n",
    "    #'Traded': date_lst[1::2]\n",
    "        \n",
    "    }\n",
    ")\n",
    "\n",
    "df"
   ]
  },
  {
   "cell_type": "markdown",
   "id": "4f95d8e1",
   "metadata": {},
   "source": [
    "### Web Scraping Politicians"
   ]
  },
  {
   "cell_type": "code",
   "execution_count": 373,
   "id": "17365813",
   "metadata": {},
   "outputs": [],
   "source": [
    "from bs4 import BeautifulSoup\n",
    "url = 'https://bff.capitoltrades.com/trades?per_page=96&page=3&pageSize=96'\n",
    "json_try = requests.get(url)\n",
    "dict_json = json.loads(json_try.text)"
   ]
  },
  {
   "cell_type": "code",
   "execution_count": 374,
   "id": "29e70b8c",
   "metadata": {},
   "outputs": [
    {
     "data": {
      "text/plain": [
       "{'_txId': 20003773481,\n",
       " '_politicianId': 'M001157',\n",
       " '_assetId': 100005342,\n",
       " '_issuerId': 430093,\n",
       " 'pubDate': '2024-05-21T13:05:05Z',\n",
       " 'filingDate': '2024-05-17',\n",
       " 'txDate': '2024-04-22',\n",
       " 'txType': 'buy',\n",
       " 'txTypeExtended': None,\n",
       " 'hasCapitalGains': False,\n",
       " 'owner': 'child',\n",
       " 'chamber': 'house',\n",
       " 'price': 74.02,\n",
       " 'size': 440,\n",
       " 'sizeRangeHigh': 676,\n",
       " 'sizeRangeLow': 203,\n",
       " 'value': 32500,\n",
       " 'filingId': 204852136,\n",
       " 'filingURL': 'https://disclosures-clerk.house.gov/public_disc/ptr-pdfs/2024/8220320.pdf',\n",
       " 'reportingGap': 25,\n",
       " 'comment': None,\n",
       " 'committees': ['hsfa', 'hshm'],\n",
       " 'asset': {'assetType': 'stock', 'assetTicker': 'BJ:US', 'instrument': None},\n",
       " 'issuer': {'_stateId': 'ma',\n",
       "  'c2iq': 'LGZVU1C8',\n",
       "  'country': 'us',\n",
       "  'issuerName': \"BJ's Wholesale Club Holdings Inc\",\n",
       "  'issuerTicker': 'BJ:US',\n",
       "  'sector': 'consumer-staples'},\n",
       " 'politician': {'_stateId': 'tx',\n",
       "  'chamber': 'house',\n",
       "  'dob': '1962-01-14',\n",
       "  'firstName': 'Michael',\n",
       "  'gender': 'male',\n",
       "  'lastName': 'McCaul',\n",
       "  'nickname': None,\n",
       "  'party': 'republican'},\n",
       " 'labels': []}"
      ]
     },
     "execution_count": 374,
     "metadata": {},
     "output_type": "execute_result"
    }
   ],
   "source": [
    "dict_json['data'][0]"
   ]
  },
  {
   "cell_type": "code",
   "execution_count": 375,
   "id": "1fb54ae9",
   "metadata": {},
   "outputs": [],
   "source": [
    "name_lst = [index['politician']['firstName'] + \" \" + index['politician']['lastName'] for index in dict_json['data']]\n",
    "id_lst = [index['_politicianId'] for index in dict_json['data']]\n",
    "party_lst = [index['politician']['party'].capitalize() for index in dict_json['data']]\n",
    "chamber_lst = [index['politician']['chamber'].capitalize() for index in dict_json['data']]\n",
    "state_lst = [index['politician']['_stateId'].upper() for index in dict_json['data']]\n",
    "asset_type_lst = [index['asset']['assetType'].capitalize() for index in dict_json['data']]\n",
    "issuer_lst = [index['issuer']['issuerName'] for index in dict_json['data']]\n",
    "issuer_ticker_lst = []\n",
    "for index in dict_json['data']:\n",
    "    if index['issuer']['issuerTicker'] is not None:\n",
    "        issuer_ticker_lst.append(index['issuer']['issuerTicker'].split(':')[0])\n",
    "    else:\n",
    "        issuer_ticker_lst.append(None)\n",
    "\n",
    "issuer_country_lst = [index['issuer']['country'] for index in dict_json['data']]\n",
    "type_lst = [index['txType'].capitalize() for index in dict_json['data']]\n",
    "\n",
    "date_lst = []\n",
    "for index in dict_json['data']:\n",
    "    date_object = datetime.strptime(index['txDate'], '%Y-%m-%d')\n",
    "    date_lst.append(date_object)\n",
    "\n",
    "trade_size_lst = [index['size'] for index in dict_json['data']]\n",
    "trade_price = [index['price'] for index in dict_json['data']]\n",
    "trade_value = [index['value'] for index in dict_json['data']]\n"
   ]
  },
  {
   "cell_type": "code",
   "execution_count": 19,
   "id": "dda170a6",
   "metadata": {},
   "outputs": [
    {
     "data": {
      "text/html": [
       "<div>\n",
       "<style scoped>\n",
       "    .dataframe tbody tr th:only-of-type {\n",
       "        vertical-align: middle;\n",
       "    }\n",
       "\n",
       "    .dataframe tbody tr th {\n",
       "        vertical-align: top;\n",
       "    }\n",
       "\n",
       "    .dataframe thead th {\n",
       "        text-align: right;\n",
       "    }\n",
       "</style>\n",
       "<table border=\"1\" class=\"dataframe\">\n",
       "  <thead>\n",
       "    <tr style=\"text-align: right;\">\n",
       "      <th></th>\n",
       "      <th>Name</th>\n",
       "      <th>Politician Id</th>\n",
       "      <th>Party</th>\n",
       "      <th>Chamber</th>\n",
       "      <th>State</th>\n",
       "      <th>Asset Type</th>\n",
       "      <th>Issuer</th>\n",
       "      <th>Ticker</th>\n",
       "      <th>Issuer Country</th>\n",
       "      <th>Type</th>\n",
       "      <th>Date</th>\n",
       "      <th>Trade Size</th>\n",
       "      <th>Trade Price</th>\n",
       "      <th>Trade Value</th>\n",
       "    </tr>\n",
       "  </thead>\n",
       "  <tbody>\n",
       "    <tr>\n",
       "      <th>0</th>\n",
       "      <td>Peter Sessions</td>\n",
       "      <td>S000250</td>\n",
       "      <td>Republican</td>\n",
       "      <td>House</td>\n",
       "      <td>TX</td>\n",
       "      <td>Municipal-security</td>\n",
       "      <td>US TREASURY BILLS</td>\n",
       "      <td>None</td>\n",
       "      <td>None</td>\n",
       "      <td>Buy</td>\n",
       "      <td>2023-06-23</td>\n",
       "      <td>NaN</td>\n",
       "      <td>NaN</td>\n",
       "      <td>8000</td>\n",
       "    </tr>\n",
       "    <tr>\n",
       "      <th>1</th>\n",
       "      <td>Daniel Meuser</td>\n",
       "      <td>M001204</td>\n",
       "      <td>Republican</td>\n",
       "      <td>House</td>\n",
       "      <td>PA</td>\n",
       "      <td>Stock</td>\n",
       "      <td>NVIDIA Corporation</td>\n",
       "      <td>NVDA</td>\n",
       "      <td>us</td>\n",
       "      <td>Sell</td>\n",
       "      <td>2023-05-31</td>\n",
       "      <td>992.0</td>\n",
       "      <td>378.34</td>\n",
       "      <td>375000</td>\n",
       "    </tr>\n",
       "    <tr>\n",
       "      <th>2</th>\n",
       "      <td>Stephen Cohen</td>\n",
       "      <td>C001068</td>\n",
       "      <td>Democrat</td>\n",
       "      <td>House</td>\n",
       "      <td>TN</td>\n",
       "      <td>Stock</td>\n",
       "      <td>First Horizon Corp</td>\n",
       "      <td>FHN</td>\n",
       "      <td>us</td>\n",
       "      <td>Buy</td>\n",
       "      <td>2023-05-26</td>\n",
       "      <td>2988.0</td>\n",
       "      <td>10.88</td>\n",
       "      <td>32500</td>\n",
       "    </tr>\n",
       "    <tr>\n",
       "      <th>3</th>\n",
       "      <td>Peter Sessions</td>\n",
       "      <td>S000250</td>\n",
       "      <td>Republican</td>\n",
       "      <td>House</td>\n",
       "      <td>TX</td>\n",
       "      <td>Corporate-bond</td>\n",
       "      <td>JPMorgan Chase &amp; Co</td>\n",
       "      <td>JPM</td>\n",
       "      <td>us</td>\n",
       "      <td>Buy</td>\n",
       "      <td>2023-06-23</td>\n",
       "      <td>NaN</td>\n",
       "      <td>NaN</td>\n",
       "      <td>75000</td>\n",
       "    </tr>\n",
       "    <tr>\n",
       "      <th>4</th>\n",
       "      <td>Peter Sessions</td>\n",
       "      <td>S000250</td>\n",
       "      <td>Republican</td>\n",
       "      <td>House</td>\n",
       "      <td>TX</td>\n",
       "      <td>Municipal-security</td>\n",
       "      <td>US TREASURY BILLS</td>\n",
       "      <td>None</td>\n",
       "      <td>None</td>\n",
       "      <td>Buy</td>\n",
       "      <td>2023-06-23</td>\n",
       "      <td>NaN</td>\n",
       "      <td>NaN</td>\n",
       "      <td>75000</td>\n",
       "    </tr>\n",
       "    <tr>\n",
       "      <th>...</th>\n",
       "      <td>...</td>\n",
       "      <td>...</td>\n",
       "      <td>...</td>\n",
       "      <td>...</td>\n",
       "      <td>...</td>\n",
       "      <td>...</td>\n",
       "      <td>...</td>\n",
       "      <td>...</td>\n",
       "      <td>...</td>\n",
       "      <td>...</td>\n",
       "      <td>...</td>\n",
       "      <td>...</td>\n",
       "      <td>...</td>\n",
       "      <td>...</td>\n",
       "    </tr>\n",
       "    <tr>\n",
       "      <th>91</th>\n",
       "      <td>Michael McCaul</td>\n",
       "      <td>M001157</td>\n",
       "      <td>Republican</td>\n",
       "      <td>House</td>\n",
       "      <td>TX</td>\n",
       "      <td>Stock</td>\n",
       "      <td>Microsoft Corp</td>\n",
       "      <td>MSFT</td>\n",
       "      <td>us</td>\n",
       "      <td>Sell</td>\n",
       "      <td>2023-05-10</td>\n",
       "      <td>241.0</td>\n",
       "      <td>312.31</td>\n",
       "      <td>75000</td>\n",
       "    </tr>\n",
       "    <tr>\n",
       "      <th>92</th>\n",
       "      <td>Michael McCaul</td>\n",
       "      <td>M001157</td>\n",
       "      <td>Republican</td>\n",
       "      <td>House</td>\n",
       "      <td>TX</td>\n",
       "      <td>Stock</td>\n",
       "      <td>Alphabet Inc</td>\n",
       "      <td>GOOGL</td>\n",
       "      <td>us</td>\n",
       "      <td>Sell</td>\n",
       "      <td>2023-05-10</td>\n",
       "      <td>672.0</td>\n",
       "      <td>111.75</td>\n",
       "      <td>75000</td>\n",
       "    </tr>\n",
       "    <tr>\n",
       "      <th>93</th>\n",
       "      <td>Michael McCaul</td>\n",
       "      <td>M001157</td>\n",
       "      <td>Republican</td>\n",
       "      <td>House</td>\n",
       "      <td>TX</td>\n",
       "      <td>Stock</td>\n",
       "      <td>Microsoft Corp</td>\n",
       "      <td>MSFT</td>\n",
       "      <td>us</td>\n",
       "      <td>Sell</td>\n",
       "      <td>2023-05-18</td>\n",
       "      <td>550.0</td>\n",
       "      <td>318.52</td>\n",
       "      <td>175000</td>\n",
       "    </tr>\n",
       "    <tr>\n",
       "      <th>94</th>\n",
       "      <td>Michael McCaul</td>\n",
       "      <td>M001157</td>\n",
       "      <td>Republican</td>\n",
       "      <td>House</td>\n",
       "      <td>TX</td>\n",
       "      <td>Municipal-security</td>\n",
       "      <td>NEW YORK CITY HOUSING DEVELOPMENT CORP</td>\n",
       "      <td>None</td>\n",
       "      <td>None</td>\n",
       "      <td>Sell</td>\n",
       "      <td>2023-05-02</td>\n",
       "      <td>NaN</td>\n",
       "      <td>NaN</td>\n",
       "      <td>175000</td>\n",
       "    </tr>\n",
       "    <tr>\n",
       "      <th>95</th>\n",
       "      <td>Michael McCaul</td>\n",
       "      <td>M001157</td>\n",
       "      <td>Republican</td>\n",
       "      <td>House</td>\n",
       "      <td>TX</td>\n",
       "      <td>Municipal-security</td>\n",
       "      <td>KENTUCKY RURAL WATER FINANCE CORP</td>\n",
       "      <td>None</td>\n",
       "      <td>None</td>\n",
       "      <td>Sell</td>\n",
       "      <td>2023-05-01</td>\n",
       "      <td>NaN</td>\n",
       "      <td>NaN</td>\n",
       "      <td>175000</td>\n",
       "    </tr>\n",
       "  </tbody>\n",
       "</table>\n",
       "<p>96 rows × 14 columns</p>\n",
       "</div>"
      ],
      "text/plain": [
       "              Name Politician Id       Party Chamber State  \\\n",
       "0   Peter Sessions       S000250  Republican   House    TX   \n",
       "1    Daniel Meuser       M001204  Republican   House    PA   \n",
       "2    Stephen Cohen       C001068    Democrat   House    TN   \n",
       "3   Peter Sessions       S000250  Republican   House    TX   \n",
       "4   Peter Sessions       S000250  Republican   House    TX   \n",
       "..             ...           ...         ...     ...   ...   \n",
       "91  Michael McCaul       M001157  Republican   House    TX   \n",
       "92  Michael McCaul       M001157  Republican   House    TX   \n",
       "93  Michael McCaul       M001157  Republican   House    TX   \n",
       "94  Michael McCaul       M001157  Republican   House    TX   \n",
       "95  Michael McCaul       M001157  Republican   House    TX   \n",
       "\n",
       "            Asset Type                                  Issuer Ticker  \\\n",
       "0   Municipal-security                       US TREASURY BILLS   None   \n",
       "1                Stock                      NVIDIA Corporation   NVDA   \n",
       "2                Stock                      First Horizon Corp    FHN   \n",
       "3       Corporate-bond                     JPMorgan Chase & Co    JPM   \n",
       "4   Municipal-security                       US TREASURY BILLS   None   \n",
       "..                 ...                                     ...    ...   \n",
       "91               Stock                          Microsoft Corp   MSFT   \n",
       "92               Stock                            Alphabet Inc  GOOGL   \n",
       "93               Stock                          Microsoft Corp   MSFT   \n",
       "94  Municipal-security  NEW YORK CITY HOUSING DEVELOPMENT CORP   None   \n",
       "95  Municipal-security       KENTUCKY RURAL WATER FINANCE CORP   None   \n",
       "\n",
       "   Issuer Country  Type       Date  Trade Size  Trade Price  Trade Value  \n",
       "0            None   Buy 2023-06-23         NaN          NaN         8000  \n",
       "1              us  Sell 2023-05-31       992.0       378.34       375000  \n",
       "2              us   Buy 2023-05-26      2988.0        10.88        32500  \n",
       "3              us   Buy 2023-06-23         NaN          NaN        75000  \n",
       "4            None   Buy 2023-06-23         NaN          NaN        75000  \n",
       "..            ...   ...        ...         ...          ...          ...  \n",
       "91             us  Sell 2023-05-10       241.0       312.31        75000  \n",
       "92             us  Sell 2023-05-10       672.0       111.75        75000  \n",
       "93             us  Sell 2023-05-18       550.0       318.52       175000  \n",
       "94           None  Sell 2023-05-02         NaN          NaN       175000  \n",
       "95           None  Sell 2023-05-01         NaN          NaN       175000  \n",
       "\n",
       "[96 rows x 14 columns]"
      ]
     },
     "execution_count": 19,
     "metadata": {},
     "output_type": "execute_result"
    }
   ],
   "source": [
    "df = pd.DataFrame({\n",
    "    'Name': name_lst,\n",
    "    'Politician Id': id_lst,\n",
    "    'Party': party_lst,\n",
    "    'Chamber': chamber_lst,\n",
    "    'State': state_lst,\n",
    "    'Asset Type': asset_type_lst,\n",
    "    'Issuer': issuer_lst,\n",
    "    'Ticker': issuer_ticker_lst,\n",
    "    'Issuer Country': issuer_country_lst,\n",
    "    'Type': type_lst,\n",
    "    'Date': date_lst,\n",
    "    'Trade Size': trade_size_lst,\n",
    "    'Trade Price': trade_price,\n",
    "    'Trade Value': trade_value\n",
    "}\n",
    ")\n",
    "\n",
    "df\n"
   ]
  },
  {
   "cell_type": "markdown",
   "id": "027ff95c",
   "metadata": {},
   "source": []
  },
  {
   "cell_type": "code",
   "execution_count": 26,
   "id": "662f60e5",
   "metadata": {},
   "outputs": [],
   "source": [
    "df_list = []\n",
    "for num in range(1,250):\n",
    "    url = f'https://bff.capitoltrades.com/trades?per_page=96&page={num}&pageSize=96'\n",
    "    json_try = requests.get(url)\n",
    "    dict_json = json.loads(json_try.text)\n",
    "    \n",
    "    tx_id_lst = [index['_txId'] for index in dict_json['data']]\n",
    "    name_lst = [index['politician']['firstName'] + \" \" + index['politician']['lastName'] for index in dict_json['data']]\n",
    "    id_lst = [index['_politicianId'] for index in dict_json['data']]\n",
    "    party_lst = [index['politician']['party'].capitalize() for index in dict_json['data']]\n",
    "    chamber_lst = [index['politician']['chamber'].capitalize() for index in dict_json['data']]\n",
    "    state_lst = [index['politician']['_stateId'].upper() for index in dict_json['data']]\n",
    "    asset_type_lst = [index['asset']['assetType'].capitalize() for index in dict_json['data']]\n",
    "    issuer_lst = [index['issuer']['issuerName'].replace(\"'\", \"\") for index in dict_json['data']]\n",
    "    issuer_ticker_lst = []\n",
    "    for index in dict_json['data']:\n",
    "        if index['issuer']['issuerTicker'] is not None:\n",
    "            issuer_ticker_lst.append(index['issuer']['issuerTicker'].split(':')[0])\n",
    "        else:\n",
    "            issuer_ticker_lst.append(None)\n",
    "\n",
    "    issuer_country_lst = [index['issuer']['country'] for index in dict_json['data']]\n",
    "    type_lst = [index['txType'].capitalize() for index in dict_json['data']]\n",
    "\n",
    "    \n",
    "    filing_date_lst = []\n",
    "    date_lst = []\n",
    "    for index in dict_json['data']:\n",
    "        date_object = datetime.strptime(index['txDate'], '%Y-%m-%d')\n",
    "        filing_date_object = datetime.strptime(index['filingDate'], '%Y-%m-%d')\n",
    "        date_lst.append(date_object)\n",
    "        filing_date_lst.append(filing_date_object)\n",
    "\n",
    "    trade_size_lst = [index['size'] for index in dict_json['data']]\n",
    "    trade_price = [index['price'] for index in dict_json['data']]\n",
    "    trade_value = [index['value'] for index in dict_json['data']]\n",
    "    \n",
    "\n",
    "\n",
    "    \n",
    "    df = pd.DataFrame({\n",
    "        'txId': tx_id_lst,\n",
    "        'Name': name_lst,\n",
    "        'Politician_Id': id_lst,\n",
    "        'Party': party_lst,\n",
    "        'Chamber': chamber_lst,\n",
    "        'State': state_lst,\n",
    "        'Asset_Type': asset_type_lst,\n",
    "        'Issuer': issuer_lst,\n",
    "        'Ticker': issuer_ticker_lst,\n",
    "        'Issuer_Country': issuer_country_lst,\n",
    "        'Type': type_lst,\n",
    "        'Date_Traded': date_lst,\n",
    "        'Date_Published': filing_date_lst,\n",
    "        'Trade_Size': trade_size_lst,\n",
    "        'Trade_Price': trade_price,\n",
    "        'Trade_Value': trade_value\n",
    "    }\n",
    "    )\n",
    "    df_list.append(df)\n",
    "    \n",
    "df = pd.concat(df_list, ignore_index=True)\n",
    "\n",
    "df = df.set_index('txId')\n",
    "df.to_csv('politician_dataset.csv')\n",
    "    \n"
   ]
  },
  {
   "cell_type": "code",
   "execution_count": 25,
   "id": "e14c427b",
   "metadata": {},
   "outputs": [
    {
     "data": {
      "text/html": [
       "<div>\n",
       "<style scoped>\n",
       "    .dataframe tbody tr th:only-of-type {\n",
       "        vertical-align: middle;\n",
       "    }\n",
       "\n",
       "    .dataframe tbody tr th {\n",
       "        vertical-align: top;\n",
       "    }\n",
       "\n",
       "    .dataframe thead th {\n",
       "        text-align: right;\n",
       "    }\n",
       "</style>\n",
       "<table border=\"1\" class=\"dataframe\">\n",
       "  <thead>\n",
       "    <tr style=\"text-align: right;\">\n",
       "      <th></th>\n",
       "      <th>Name</th>\n",
       "      <th>Politician_Id</th>\n",
       "      <th>Party</th>\n",
       "      <th>Chamber</th>\n",
       "      <th>State</th>\n",
       "      <th>Asset_Type</th>\n",
       "      <th>Issuer</th>\n",
       "      <th>Ticker</th>\n",
       "      <th>Issuer_Country</th>\n",
       "      <th>Type</th>\n",
       "      <th>Date_Traded</th>\n",
       "      <th>Date_Published</th>\n",
       "      <th>Trade_Size</th>\n",
       "      <th>Trade_Price</th>\n",
       "      <th>Trade_Value</th>\n",
       "    </tr>\n",
       "    <tr>\n",
       "      <th>txId</th>\n",
       "      <th></th>\n",
       "      <th></th>\n",
       "      <th></th>\n",
       "      <th></th>\n",
       "      <th></th>\n",
       "      <th></th>\n",
       "      <th></th>\n",
       "      <th></th>\n",
       "      <th></th>\n",
       "      <th></th>\n",
       "      <th></th>\n",
       "      <th></th>\n",
       "      <th></th>\n",
       "      <th></th>\n",
       "      <th></th>\n",
       "    </tr>\n",
       "  </thead>\n",
       "  <tbody>\n",
       "    <tr>\n",
       "      <th>10000062432</th>\n",
       "      <td>Sheldon Whitehouse</td>\n",
       "      <td>W000802</td>\n",
       "      <td>Democrat</td>\n",
       "      <td>Senate</td>\n",
       "      <td>RI</td>\n",
       "      <td>Reit</td>\n",
       "      <td>Crown Castle International Corp</td>\n",
       "      <td>CCI</td>\n",
       "      <td>us</td>\n",
       "      <td>Buy</td>\n",
       "      <td>2024-05-10</td>\n",
       "      <td>2024-06-06</td>\n",
       "      <td>81.0</td>\n",
       "      <td>99.51</td>\n",
       "      <td>8000</td>\n",
       "    </tr>\n",
       "    <tr>\n",
       "      <th>10000062433</th>\n",
       "      <td>Sheldon Whitehouse</td>\n",
       "      <td>W000802</td>\n",
       "      <td>Democrat</td>\n",
       "      <td>Senate</td>\n",
       "      <td>RI</td>\n",
       "      <td>Stock</td>\n",
       "      <td>Diageo PLC</td>\n",
       "      <td>DEO</td>\n",
       "      <td>gb</td>\n",
       "      <td>Sell</td>\n",
       "      <td>2024-05-08</td>\n",
       "      <td>2024-06-06</td>\n",
       "      <td>231.0</td>\n",
       "      <td>140.91</td>\n",
       "      <td>32500</td>\n",
       "    </tr>\n",
       "    <tr>\n",
       "      <th>20003773595</th>\n",
       "      <td>Abigail Spanberger</td>\n",
       "      <td>S001209</td>\n",
       "      <td>Democrat</td>\n",
       "      <td>House</td>\n",
       "      <td>VA</td>\n",
       "      <td>Stock</td>\n",
       "      <td>L3Harris Technologies Inc</td>\n",
       "      <td>LHX</td>\n",
       "      <td>us</td>\n",
       "      <td>Sell</td>\n",
       "      <td>2024-06-04</td>\n",
       "      <td>2024-06-05</td>\n",
       "      <td>36.0</td>\n",
       "      <td>226.69</td>\n",
       "      <td>8000</td>\n",
       "    </tr>\n",
       "    <tr>\n",
       "      <th>20003773594</th>\n",
       "      <td>Peter Sessions</td>\n",
       "      <td>S000250</td>\n",
       "      <td>Republican</td>\n",
       "      <td>House</td>\n",
       "      <td>TX</td>\n",
       "      <td>Stock</td>\n",
       "      <td>ENVISTA HOLDINGS CORP</td>\n",
       "      <td>None</td>\n",
       "      <td>us</td>\n",
       "      <td>Sell</td>\n",
       "      <td>2024-06-06</td>\n",
       "      <td>2024-06-06</td>\n",
       "      <td>NaN</td>\n",
       "      <td>NaN</td>\n",
       "      <td>8000</td>\n",
       "    </tr>\n",
       "    <tr>\n",
       "      <th>20003773584</th>\n",
       "      <td>Carol Miller</td>\n",
       "      <td>M001205</td>\n",
       "      <td>Republican</td>\n",
       "      <td>House</td>\n",
       "      <td>WV</td>\n",
       "      <td>Stock</td>\n",
       "      <td>AT&amp;T Inc</td>\n",
       "      <td>T</td>\n",
       "      <td>us</td>\n",
       "      <td>Sell</td>\n",
       "      <td>2024-05-08</td>\n",
       "      <td>2024-06-05</td>\n",
       "      <td>468.0</td>\n",
       "      <td>17.11</td>\n",
       "      <td>8000</td>\n",
       "    </tr>\n",
       "    <tr>\n",
       "      <th>...</th>\n",
       "      <td>...</td>\n",
       "      <td>...</td>\n",
       "      <td>...</td>\n",
       "      <td>...</td>\n",
       "      <td>...</td>\n",
       "      <td>...</td>\n",
       "      <td>...</td>\n",
       "      <td>...</td>\n",
       "      <td>...</td>\n",
       "      <td>...</td>\n",
       "      <td>...</td>\n",
       "      <td>...</td>\n",
       "      <td>...</td>\n",
       "      <td>...</td>\n",
       "      <td>...</td>\n",
       "    </tr>\n",
       "    <tr>\n",
       "      <th>20003724408</th>\n",
       "      <td>Virginia Foxx</td>\n",
       "      <td>F000450</td>\n",
       "      <td>Republican</td>\n",
       "      <td>House</td>\n",
       "      <td>NC</td>\n",
       "      <td>Stock</td>\n",
       "      <td>Sisecam Resources LP</td>\n",
       "      <td>SIRE</td>\n",
       "      <td>us</td>\n",
       "      <td>Buy</td>\n",
       "      <td>2022-05-17</td>\n",
       "      <td>2022-06-04</td>\n",
       "      <td>439.0</td>\n",
       "      <td>18.24</td>\n",
       "      <td>8000</td>\n",
       "    </tr>\n",
       "    <tr>\n",
       "      <th>20003724409</th>\n",
       "      <td>Virginia Foxx</td>\n",
       "      <td>F000450</td>\n",
       "      <td>Republican</td>\n",
       "      <td>House</td>\n",
       "      <td>NC</td>\n",
       "      <td>Stock</td>\n",
       "      <td>Sisecam Resources LP</td>\n",
       "      <td>SIRE</td>\n",
       "      <td>us</td>\n",
       "      <td>Buy</td>\n",
       "      <td>2022-05-03</td>\n",
       "      <td>2022-06-04</td>\n",
       "      <td>410.0</td>\n",
       "      <td>19.57</td>\n",
       "      <td>8000</td>\n",
       "    </tr>\n",
       "    <tr>\n",
       "      <th>20003724410</th>\n",
       "      <td>Virginia Foxx</td>\n",
       "      <td>F000450</td>\n",
       "      <td>Republican</td>\n",
       "      <td>House</td>\n",
       "      <td>NC</td>\n",
       "      <td>Stock</td>\n",
       "      <td>Sisecam Resources LP</td>\n",
       "      <td>SIRE</td>\n",
       "      <td>us</td>\n",
       "      <td>Buy</td>\n",
       "      <td>2022-05-06</td>\n",
       "      <td>2022-06-04</td>\n",
       "      <td>426.0</td>\n",
       "      <td>18.82</td>\n",
       "      <td>8000</td>\n",
       "    </tr>\n",
       "    <tr>\n",
       "      <th>20003724411</th>\n",
       "      <td>Virginia Foxx</td>\n",
       "      <td>F000450</td>\n",
       "      <td>Republican</td>\n",
       "      <td>House</td>\n",
       "      <td>NC</td>\n",
       "      <td>Stock</td>\n",
       "      <td>USD Partners LP</td>\n",
       "      <td>USDP</td>\n",
       "      <td>us</td>\n",
       "      <td>Buy</td>\n",
       "      <td>2022-05-09</td>\n",
       "      <td>2022-06-04</td>\n",
       "      <td>1380.0</td>\n",
       "      <td>5.80</td>\n",
       "      <td>8000</td>\n",
       "    </tr>\n",
       "    <tr>\n",
       "      <th>20003724412</th>\n",
       "      <td>Virginia Foxx</td>\n",
       "      <td>F000450</td>\n",
       "      <td>Republican</td>\n",
       "      <td>House</td>\n",
       "      <td>NC</td>\n",
       "      <td>Stock</td>\n",
       "      <td>Warner Bros Discover Inc</td>\n",
       "      <td>WBD</td>\n",
       "      <td>us</td>\n",
       "      <td>Sell</td>\n",
       "      <td>2022-05-17</td>\n",
       "      <td>2022-06-04</td>\n",
       "      <td>1771.0</td>\n",
       "      <td>18.36</td>\n",
       "      <td>32500</td>\n",
       "    </tr>\n",
       "  </tbody>\n",
       "</table>\n",
       "<p>23904 rows × 15 columns</p>\n",
       "</div>"
      ],
      "text/plain": [
       "                           Name Politician_Id       Party Chamber State  \\\n",
       "txId                                                                      \n",
       "10000062432  Sheldon Whitehouse       W000802    Democrat  Senate    RI   \n",
       "10000062433  Sheldon Whitehouse       W000802    Democrat  Senate    RI   \n",
       "20003773595  Abigail Spanberger       S001209    Democrat   House    VA   \n",
       "20003773594      Peter Sessions       S000250  Republican   House    TX   \n",
       "20003773584        Carol Miller       M001205  Republican   House    WV   \n",
       "...                         ...           ...         ...     ...   ...   \n",
       "20003724408       Virginia Foxx       F000450  Republican   House    NC   \n",
       "20003724409       Virginia Foxx       F000450  Republican   House    NC   \n",
       "20003724410       Virginia Foxx       F000450  Republican   House    NC   \n",
       "20003724411       Virginia Foxx       F000450  Republican   House    NC   \n",
       "20003724412       Virginia Foxx       F000450  Republican   House    NC   \n",
       "\n",
       "            Asset_Type                           Issuer Ticker Issuer_Country  \\\n",
       "txId                                                                            \n",
       "10000062432       Reit  Crown Castle International Corp    CCI             us   \n",
       "10000062433      Stock                       Diageo PLC    DEO             gb   \n",
       "20003773595      Stock        L3Harris Technologies Inc    LHX             us   \n",
       "20003773594      Stock            ENVISTA HOLDINGS CORP   None             us   \n",
       "20003773584      Stock                         AT&T Inc      T             us   \n",
       "...                ...                              ...    ...            ...   \n",
       "20003724408      Stock             Sisecam Resources LP   SIRE             us   \n",
       "20003724409      Stock             Sisecam Resources LP   SIRE             us   \n",
       "20003724410      Stock             Sisecam Resources LP   SIRE             us   \n",
       "20003724411      Stock                  USD Partners LP   USDP             us   \n",
       "20003724412      Stock         Warner Bros Discover Inc    WBD             us   \n",
       "\n",
       "             Type Date_Traded Date_Published  Trade_Size  Trade_Price  \\\n",
       "txId                                                                    \n",
       "10000062432   Buy  2024-05-10     2024-06-06        81.0        99.51   \n",
       "10000062433  Sell  2024-05-08     2024-06-06       231.0       140.91   \n",
       "20003773595  Sell  2024-06-04     2024-06-05        36.0       226.69   \n",
       "20003773594  Sell  2024-06-06     2024-06-06         NaN          NaN   \n",
       "20003773584  Sell  2024-05-08     2024-06-05       468.0        17.11   \n",
       "...           ...         ...            ...         ...          ...   \n",
       "20003724408   Buy  2022-05-17     2022-06-04       439.0        18.24   \n",
       "20003724409   Buy  2022-05-03     2022-06-04       410.0        19.57   \n",
       "20003724410   Buy  2022-05-06     2022-06-04       426.0        18.82   \n",
       "20003724411   Buy  2022-05-09     2022-06-04      1380.0         5.80   \n",
       "20003724412  Sell  2022-05-17     2022-06-04      1771.0        18.36   \n",
       "\n",
       "             Trade_Value  \n",
       "txId                      \n",
       "10000062432         8000  \n",
       "10000062433        32500  \n",
       "20003773595         8000  \n",
       "20003773594         8000  \n",
       "20003773584         8000  \n",
       "...                  ...  \n",
       "20003724408         8000  \n",
       "20003724409         8000  \n",
       "20003724410         8000  \n",
       "20003724411         8000  \n",
       "20003724412        32500  \n",
       "\n",
       "[23904 rows x 15 columns]"
      ]
     },
     "execution_count": 25,
     "metadata": {},
     "output_type": "execute_result"
    }
   ],
   "source": [
    "df.set_index('txId')"
   ]
  },
  {
   "cell_type": "code",
   "execution_count": 30,
   "id": "9e385bb2",
   "metadata": {},
   "outputs": [
    {
     "data": {
      "text/plain": [
       "(29, 15)"
      ]
     },
     "execution_count": 30,
     "metadata": {},
     "output_type": "execute_result"
    }
   ],
   "source": [
    "df[df['Name'] == 'Doris Matsui'].shape\n"
   ]
  },
  {
   "cell_type": "markdown",
   "id": "dd763be1",
   "metadata": {},
   "source": [
    "### Bar graph\n",
    "    * Ticker and Trade Values order by ticker\n",
    "   "
   ]
  },
  {
   "cell_type": "code",
   "execution_count": 71,
   "id": "88d87ab6",
   "metadata": {},
   "outputs": [
    {
     "data": {
      "text/html": [
       "<div>\n",
       "<style scoped>\n",
       "    .dataframe tbody tr th:only-of-type {\n",
       "        vertical-align: middle;\n",
       "    }\n",
       "\n",
       "    .dataframe tbody tr th {\n",
       "        vertical-align: top;\n",
       "    }\n",
       "\n",
       "    .dataframe thead th {\n",
       "        text-align: right;\n",
       "    }\n",
       "</style>\n",
       "<table border=\"1\" class=\"dataframe\">\n",
       "  <thead>\n",
       "    <tr style=\"text-align: right;\">\n",
       "      <th></th>\n",
       "      <th>txId</th>\n",
       "      <th>Name</th>\n",
       "      <th>Politician Id</th>\n",
       "      <th>Party</th>\n",
       "      <th>Chamber</th>\n",
       "      <th>State</th>\n",
       "      <th>Asset Type</th>\n",
       "      <th>Issuer</th>\n",
       "      <th>Ticker</th>\n",
       "      <th>Issuer Country</th>\n",
       "      <th>Type</th>\n",
       "      <th>Date Traded</th>\n",
       "      <th>Date Published</th>\n",
       "      <th>Trade Size</th>\n",
       "      <th>Trade Price</th>\n",
       "      <th>Trade Value</th>\n",
       "    </tr>\n",
       "  </thead>\n",
       "  <tbody>\n",
       "    <tr>\n",
       "      <th>0</th>\n",
       "      <td>20003773574</td>\n",
       "      <td>Suzanne Lee</td>\n",
       "      <td>L000590</td>\n",
       "      <td>Democrat</td>\n",
       "      <td>House</td>\n",
       "      <td>NV</td>\n",
       "      <td>Stock</td>\n",
       "      <td>RHEINMETALL AG</td>\n",
       "      <td>RNMBY</td>\n",
       "      <td>de</td>\n",
       "      <td>Buy</td>\n",
       "      <td>2024-05-10</td>\n",
       "      <td>2024-05-24</td>\n",
       "      <td>70.0</td>\n",
       "      <td>115.347</td>\n",
       "      <td>8000</td>\n",
       "    </tr>\n",
       "    <tr>\n",
       "      <th>8</th>\n",
       "      <td>20003773566</td>\n",
       "      <td>Stephen Lynch</td>\n",
       "      <td>L000562</td>\n",
       "      <td>Democrat</td>\n",
       "      <td>House</td>\n",
       "      <td>MA</td>\n",
       "      <td>Stock</td>\n",
       "      <td>NVIDIA Corporation</td>\n",
       "      <td>NVDA</td>\n",
       "      <td>us</td>\n",
       "      <td>Buy</td>\n",
       "      <td>2024-05-22</td>\n",
       "      <td>2024-05-23</td>\n",
       "      <td>9.0</td>\n",
       "      <td>949.500</td>\n",
       "      <td>8000</td>\n",
       "    </tr>\n",
       "    <tr>\n",
       "      <th>9</th>\n",
       "      <td>20003773564</td>\n",
       "      <td>Jeffrey Duncan</td>\n",
       "      <td>D000615</td>\n",
       "      <td>Republican</td>\n",
       "      <td>House</td>\n",
       "      <td>SC</td>\n",
       "      <td>Stock</td>\n",
       "      <td>Colgate-Palmolive Co</td>\n",
       "      <td>CL</td>\n",
       "      <td>us</td>\n",
       "      <td>Sell</td>\n",
       "      <td>2023-08-25</td>\n",
       "      <td>2024-05-23</td>\n",
       "      <td>109.0</td>\n",
       "      <td>73.830</td>\n",
       "      <td>8000</td>\n",
       "    </tr>\n",
       "    <tr>\n",
       "      <th>10</th>\n",
       "      <td>20003773565</td>\n",
       "      <td>Jeffrey Duncan</td>\n",
       "      <td>D000615</td>\n",
       "      <td>Republican</td>\n",
       "      <td>House</td>\n",
       "      <td>SC</td>\n",
       "      <td>Stock</td>\n",
       "      <td>JD.com Inc</td>\n",
       "      <td>JD</td>\n",
       "      <td>cn</td>\n",
       "      <td>Sell</td>\n",
       "      <td>2023-08-25</td>\n",
       "      <td>2024-05-23</td>\n",
       "      <td>244.0</td>\n",
       "      <td>32.960</td>\n",
       "      <td>8000</td>\n",
       "    </tr>\n",
       "    <tr>\n",
       "      <th>11</th>\n",
       "      <td>10000062398</td>\n",
       "      <td>Gary Peters</td>\n",
       "      <td>P000595</td>\n",
       "      <td>Democrat</td>\n",
       "      <td>Senate</td>\n",
       "      <td>MI</td>\n",
       "      <td>Stock</td>\n",
       "      <td>SOLVENTUM CORP</td>\n",
       "      <td>SOLV</td>\n",
       "      <td>us</td>\n",
       "      <td>Sell</td>\n",
       "      <td>2024-05-14</td>\n",
       "      <td>2024-05-23</td>\n",
       "      <td>NaN</td>\n",
       "      <td>NaN</td>\n",
       "      <td>8000</td>\n",
       "    </tr>\n",
       "    <tr>\n",
       "      <th>...</th>\n",
       "      <td>...</td>\n",
       "      <td>...</td>\n",
       "      <td>...</td>\n",
       "      <td>...</td>\n",
       "      <td>...</td>\n",
       "      <td>...</td>\n",
       "      <td>...</td>\n",
       "      <td>...</td>\n",
       "      <td>...</td>\n",
       "      <td>...</td>\n",
       "      <td>...</td>\n",
       "      <td>...</td>\n",
       "      <td>...</td>\n",
       "      <td>...</td>\n",
       "      <td>...</td>\n",
       "      <td>...</td>\n",
       "    </tr>\n",
       "    <tr>\n",
       "      <th>9497</th>\n",
       "      <td>20003764582</td>\n",
       "      <td>Michael McCaul</td>\n",
       "      <td>M001157</td>\n",
       "      <td>Republican</td>\n",
       "      <td>House</td>\n",
       "      <td>TX</td>\n",
       "      <td>Stock</td>\n",
       "      <td>Meta Platforms Inc</td>\n",
       "      <td>META</td>\n",
       "      <td>us</td>\n",
       "      <td>Sell</td>\n",
       "      <td>2023-05-10</td>\n",
       "      <td>2023-06-22</td>\n",
       "      <td>323.0</td>\n",
       "      <td>233.080</td>\n",
       "      <td>75000</td>\n",
       "    </tr>\n",
       "    <tr>\n",
       "      <th>9498</th>\n",
       "      <td>20003764583</td>\n",
       "      <td>Michael McCaul</td>\n",
       "      <td>M001157</td>\n",
       "      <td>Republican</td>\n",
       "      <td>House</td>\n",
       "      <td>TX</td>\n",
       "      <td>Stock</td>\n",
       "      <td>Evolution AB (publ)</td>\n",
       "      <td>EVVTY</td>\n",
       "      <td>se</td>\n",
       "      <td>Sell</td>\n",
       "      <td>2023-05-10</td>\n",
       "      <td>2023-06-22</td>\n",
       "      <td>591.0</td>\n",
       "      <td>127.037</td>\n",
       "      <td>75000</td>\n",
       "    </tr>\n",
       "    <tr>\n",
       "      <th>9499</th>\n",
       "      <td>20003764584</td>\n",
       "      <td>Michael McCaul</td>\n",
       "      <td>M001157</td>\n",
       "      <td>Republican</td>\n",
       "      <td>House</td>\n",
       "      <td>TX</td>\n",
       "      <td>Stock</td>\n",
       "      <td>Microsoft Corp</td>\n",
       "      <td>MSFT</td>\n",
       "      <td>us</td>\n",
       "      <td>Sell</td>\n",
       "      <td>2023-05-10</td>\n",
       "      <td>2023-06-22</td>\n",
       "      <td>241.0</td>\n",
       "      <td>312.310</td>\n",
       "      <td>75000</td>\n",
       "    </tr>\n",
       "    <tr>\n",
       "      <th>9500</th>\n",
       "      <td>20003764585</td>\n",
       "      <td>Michael McCaul</td>\n",
       "      <td>M001157</td>\n",
       "      <td>Republican</td>\n",
       "      <td>House</td>\n",
       "      <td>TX</td>\n",
       "      <td>Stock</td>\n",
       "      <td>Alphabet Inc</td>\n",
       "      <td>GOOGL</td>\n",
       "      <td>us</td>\n",
       "      <td>Sell</td>\n",
       "      <td>2023-05-10</td>\n",
       "      <td>2023-06-22</td>\n",
       "      <td>672.0</td>\n",
       "      <td>111.750</td>\n",
       "      <td>75000</td>\n",
       "    </tr>\n",
       "    <tr>\n",
       "      <th>9501</th>\n",
       "      <td>20003764586</td>\n",
       "      <td>Michael McCaul</td>\n",
       "      <td>M001157</td>\n",
       "      <td>Republican</td>\n",
       "      <td>House</td>\n",
       "      <td>TX</td>\n",
       "      <td>Stock</td>\n",
       "      <td>Microsoft Corp</td>\n",
       "      <td>MSFT</td>\n",
       "      <td>us</td>\n",
       "      <td>Sell</td>\n",
       "      <td>2023-05-18</td>\n",
       "      <td>2023-06-22</td>\n",
       "      <td>550.0</td>\n",
       "      <td>318.520</td>\n",
       "      <td>175000</td>\n",
       "    </tr>\n",
       "  </tbody>\n",
       "</table>\n",
       "<p>7944 rows × 16 columns</p>\n",
       "</div>"
      ],
      "text/plain": [
       "             txId            Name Politician Id       Party Chamber State  \\\n",
       "0     20003773574     Suzanne Lee       L000590    Democrat   House    NV   \n",
       "8     20003773566   Stephen Lynch       L000562    Democrat   House    MA   \n",
       "9     20003773564  Jeffrey Duncan       D000615  Republican   House    SC   \n",
       "10    20003773565  Jeffrey Duncan       D000615  Republican   House    SC   \n",
       "11    10000062398     Gary Peters       P000595    Democrat  Senate    MI   \n",
       "...           ...             ...           ...         ...     ...   ...   \n",
       "9497  20003764582  Michael McCaul       M001157  Republican   House    TX   \n",
       "9498  20003764583  Michael McCaul       M001157  Republican   House    TX   \n",
       "9499  20003764584  Michael McCaul       M001157  Republican   House    TX   \n",
       "9500  20003764585  Michael McCaul       M001157  Republican   House    TX   \n",
       "9501  20003764586  Michael McCaul       M001157  Republican   House    TX   \n",
       "\n",
       "     Asset Type                Issuer Ticker Issuer Country  Type Date Traded  \\\n",
       "0         Stock        RHEINMETALL AG  RNMBY             de   Buy  2024-05-10   \n",
       "8         Stock    NVIDIA Corporation   NVDA             us   Buy  2024-05-22   \n",
       "9         Stock  Colgate-Palmolive Co     CL             us  Sell  2023-08-25   \n",
       "10        Stock            JD.com Inc     JD             cn  Sell  2023-08-25   \n",
       "11        Stock        SOLVENTUM CORP   SOLV             us  Sell  2024-05-14   \n",
       "...         ...                   ...    ...            ...   ...         ...   \n",
       "9497      Stock    Meta Platforms Inc   META             us  Sell  2023-05-10   \n",
       "9498      Stock   Evolution AB (publ)  EVVTY             se  Sell  2023-05-10   \n",
       "9499      Stock        Microsoft Corp   MSFT             us  Sell  2023-05-10   \n",
       "9500      Stock          Alphabet Inc  GOOGL             us  Sell  2023-05-10   \n",
       "9501      Stock        Microsoft Corp   MSFT             us  Sell  2023-05-18   \n",
       "\n",
       "     Date Published  Trade Size  Trade Price  Trade Value  \n",
       "0        2024-05-24        70.0      115.347         8000  \n",
       "8        2024-05-23         9.0      949.500         8000  \n",
       "9        2024-05-23       109.0       73.830         8000  \n",
       "10       2024-05-23       244.0       32.960         8000  \n",
       "11       2024-05-23         NaN          NaN         8000  \n",
       "...             ...         ...          ...          ...  \n",
       "9497     2023-06-22       323.0      233.080        75000  \n",
       "9498     2023-06-22       591.0      127.037        75000  \n",
       "9499     2023-06-22       241.0      312.310        75000  \n",
       "9500     2023-06-22       672.0      111.750        75000  \n",
       "9501     2023-06-22       550.0      318.520       175000  \n",
       "\n",
       "[7944 rows x 16 columns]"
      ]
     },
     "execution_count": 71,
     "metadata": {},
     "output_type": "execute_result"
    }
   ],
   "source": [
    "df_ticker = df.loc[df['Ticker'].notna()]\n",
    "df_ticker"
   ]
  },
  {
   "cell_type": "code",
   "execution_count": 75,
   "id": "7ddc3c95",
   "metadata": {},
   "outputs": [
    {
     "name": "stdout",
     "output_type": "stream",
     "text": [
      "[*********************100%%**********************]  1 of 1 completed\n"
     ]
    },
    {
     "data": {
      "application/vnd.plotly.v1+json": {
       "config": {
        "plotlyServerURL": "https://plot.ly"
       },
       "data": [
        {
         "close": [
          168.64999389648438,
          169.13999938964844,
          170.33999633789062,
          172.50999450683594,
          174.17999267578125,
          176.05999755859375,
          176.9199981689453,
          177.85000610351562,
          176.3800048828125,
          173.5500030517578
         ],
         "decreasing": {
          "line": {
           "color": "red"
          }
         },
         "high": [
          169.85000610351562,
          169.27999877929688,
          171.25,
          172.64999389648438,
          175.1199951171875,
          176.27000427246094,
          178.77000427246094,
          178.14999389648438,
          177.14999389648438,
          178.25
         ],
         "increasing": {
          "line": {
           "color": "green"
          }
         },
         "low": [
          166.19000244140625,
          164,
          168.8000030517578,
          170.50999450683594,
          172.69000244140625,
          173.69000244140625,
          176.0800018310547,
          175.80999755859375,
          175.2100067138672,
          172.9499969482422
         ],
         "open": [
          168.02999877929688,
          164.25999450683594,
          169.77000427246094,
          170.6300048828125,
          173.2899932861328,
          174.17999267578125,
          176.19000244140625,
          176.89999389648438,
          176.63999938964844,
          177.07000732421875
         ],
         "type": "candlestick",
         "x": [
          "2024-05-10T00:00:00",
          "2024-05-13T00:00:00",
          "2024-05-14T00:00:00",
          "2024-05-15T00:00:00",
          "2024-05-16T00:00:00",
          "2024-05-17T00:00:00",
          "2024-05-20T00:00:00",
          "2024-05-21T00:00:00",
          "2024-05-22T00:00:00",
          "2024-05-23T00:00:00"
         ]
        }
       ],
       "layout": {
        "template": {
         "data": {
          "bar": [
           {
            "error_x": {
             "color": "#2a3f5f"
            },
            "error_y": {
             "color": "#2a3f5f"
            },
            "marker": {
             "line": {
              "color": "#E5ECF6",
              "width": 0.5
             },
             "pattern": {
              "fillmode": "overlay",
              "size": 10,
              "solidity": 0.2
             }
            },
            "type": "bar"
           }
          ],
          "barpolar": [
           {
            "marker": {
             "line": {
              "color": "#E5ECF6",
              "width": 0.5
             },
             "pattern": {
              "fillmode": "overlay",
              "size": 10,
              "solidity": 0.2
             }
            },
            "type": "barpolar"
           }
          ],
          "carpet": [
           {
            "aaxis": {
             "endlinecolor": "#2a3f5f",
             "gridcolor": "white",
             "linecolor": "white",
             "minorgridcolor": "white",
             "startlinecolor": "#2a3f5f"
            },
            "baxis": {
             "endlinecolor": "#2a3f5f",
             "gridcolor": "white",
             "linecolor": "white",
             "minorgridcolor": "white",
             "startlinecolor": "#2a3f5f"
            },
            "type": "carpet"
           }
          ],
          "choropleth": [
           {
            "colorbar": {
             "outlinewidth": 0,
             "ticks": ""
            },
            "type": "choropleth"
           }
          ],
          "contour": [
           {
            "colorbar": {
             "outlinewidth": 0,
             "ticks": ""
            },
            "colorscale": [
             [
              0,
              "#0d0887"
             ],
             [
              0.1111111111111111,
              "#46039f"
             ],
             [
              0.2222222222222222,
              "#7201a8"
             ],
             [
              0.3333333333333333,
              "#9c179e"
             ],
             [
              0.4444444444444444,
              "#bd3786"
             ],
             [
              0.5555555555555556,
              "#d8576b"
             ],
             [
              0.6666666666666666,
              "#ed7953"
             ],
             [
              0.7777777777777778,
              "#fb9f3a"
             ],
             [
              0.8888888888888888,
              "#fdca26"
             ],
             [
              1,
              "#f0f921"
             ]
            ],
            "type": "contour"
           }
          ],
          "contourcarpet": [
           {
            "colorbar": {
             "outlinewidth": 0,
             "ticks": ""
            },
            "type": "contourcarpet"
           }
          ],
          "heatmap": [
           {
            "colorbar": {
             "outlinewidth": 0,
             "ticks": ""
            },
            "colorscale": [
             [
              0,
              "#0d0887"
             ],
             [
              0.1111111111111111,
              "#46039f"
             ],
             [
              0.2222222222222222,
              "#7201a8"
             ],
             [
              0.3333333333333333,
              "#9c179e"
             ],
             [
              0.4444444444444444,
              "#bd3786"
             ],
             [
              0.5555555555555556,
              "#d8576b"
             ],
             [
              0.6666666666666666,
              "#ed7953"
             ],
             [
              0.7777777777777778,
              "#fb9f3a"
             ],
             [
              0.8888888888888888,
              "#fdca26"
             ],
             [
              1,
              "#f0f921"
             ]
            ],
            "type": "heatmap"
           }
          ],
          "heatmapgl": [
           {
            "colorbar": {
             "outlinewidth": 0,
             "ticks": ""
            },
            "colorscale": [
             [
              0,
              "#0d0887"
             ],
             [
              0.1111111111111111,
              "#46039f"
             ],
             [
              0.2222222222222222,
              "#7201a8"
             ],
             [
              0.3333333333333333,
              "#9c179e"
             ],
             [
              0.4444444444444444,
              "#bd3786"
             ],
             [
              0.5555555555555556,
              "#d8576b"
             ],
             [
              0.6666666666666666,
              "#ed7953"
             ],
             [
              0.7777777777777778,
              "#fb9f3a"
             ],
             [
              0.8888888888888888,
              "#fdca26"
             ],
             [
              1,
              "#f0f921"
             ]
            ],
            "type": "heatmapgl"
           }
          ],
          "histogram": [
           {
            "marker": {
             "pattern": {
              "fillmode": "overlay",
              "size": 10,
              "solidity": 0.2
             }
            },
            "type": "histogram"
           }
          ],
          "histogram2d": [
           {
            "colorbar": {
             "outlinewidth": 0,
             "ticks": ""
            },
            "colorscale": [
             [
              0,
              "#0d0887"
             ],
             [
              0.1111111111111111,
              "#46039f"
             ],
             [
              0.2222222222222222,
              "#7201a8"
             ],
             [
              0.3333333333333333,
              "#9c179e"
             ],
             [
              0.4444444444444444,
              "#bd3786"
             ],
             [
              0.5555555555555556,
              "#d8576b"
             ],
             [
              0.6666666666666666,
              "#ed7953"
             ],
             [
              0.7777777777777778,
              "#fb9f3a"
             ],
             [
              0.8888888888888888,
              "#fdca26"
             ],
             [
              1,
              "#f0f921"
             ]
            ],
            "type": "histogram2d"
           }
          ],
          "histogram2dcontour": [
           {
            "colorbar": {
             "outlinewidth": 0,
             "ticks": ""
            },
            "colorscale": [
             [
              0,
              "#0d0887"
             ],
             [
              0.1111111111111111,
              "#46039f"
             ],
             [
              0.2222222222222222,
              "#7201a8"
             ],
             [
              0.3333333333333333,
              "#9c179e"
             ],
             [
              0.4444444444444444,
              "#bd3786"
             ],
             [
              0.5555555555555556,
              "#d8576b"
             ],
             [
              0.6666666666666666,
              "#ed7953"
             ],
             [
              0.7777777777777778,
              "#fb9f3a"
             ],
             [
              0.8888888888888888,
              "#fdca26"
             ],
             [
              1,
              "#f0f921"
             ]
            ],
            "type": "histogram2dcontour"
           }
          ],
          "mesh3d": [
           {
            "colorbar": {
             "outlinewidth": 0,
             "ticks": ""
            },
            "type": "mesh3d"
           }
          ],
          "parcoords": [
           {
            "line": {
             "colorbar": {
              "outlinewidth": 0,
              "ticks": ""
             }
            },
            "type": "parcoords"
           }
          ],
          "pie": [
           {
            "automargin": true,
            "type": "pie"
           }
          ],
          "scatter": [
           {
            "fillpattern": {
             "fillmode": "overlay",
             "size": 10,
             "solidity": 0.2
            },
            "type": "scatter"
           }
          ],
          "scatter3d": [
           {
            "line": {
             "colorbar": {
              "outlinewidth": 0,
              "ticks": ""
             }
            },
            "marker": {
             "colorbar": {
              "outlinewidth": 0,
              "ticks": ""
             }
            },
            "type": "scatter3d"
           }
          ],
          "scattercarpet": [
           {
            "marker": {
             "colorbar": {
              "outlinewidth": 0,
              "ticks": ""
             }
            },
            "type": "scattercarpet"
           }
          ],
          "scattergeo": [
           {
            "marker": {
             "colorbar": {
              "outlinewidth": 0,
              "ticks": ""
             }
            },
            "type": "scattergeo"
           }
          ],
          "scattergl": [
           {
            "marker": {
             "colorbar": {
              "outlinewidth": 0,
              "ticks": ""
             }
            },
            "type": "scattergl"
           }
          ],
          "scattermapbox": [
           {
            "marker": {
             "colorbar": {
              "outlinewidth": 0,
              "ticks": ""
             }
            },
            "type": "scattermapbox"
           }
          ],
          "scatterpolar": [
           {
            "marker": {
             "colorbar": {
              "outlinewidth": 0,
              "ticks": ""
             }
            },
            "type": "scatterpolar"
           }
          ],
          "scatterpolargl": [
           {
            "marker": {
             "colorbar": {
              "outlinewidth": 0,
              "ticks": ""
             }
            },
            "type": "scatterpolargl"
           }
          ],
          "scatterternary": [
           {
            "marker": {
             "colorbar": {
              "outlinewidth": 0,
              "ticks": ""
             }
            },
            "type": "scatterternary"
           }
          ],
          "surface": [
           {
            "colorbar": {
             "outlinewidth": 0,
             "ticks": ""
            },
            "colorscale": [
             [
              0,
              "#0d0887"
             ],
             [
              0.1111111111111111,
              "#46039f"
             ],
             [
              0.2222222222222222,
              "#7201a8"
             ],
             [
              0.3333333333333333,
              "#9c179e"
             ],
             [
              0.4444444444444444,
              "#bd3786"
             ],
             [
              0.5555555555555556,
              "#d8576b"
             ],
             [
              0.6666666666666666,
              "#ed7953"
             ],
             [
              0.7777777777777778,
              "#fb9f3a"
             ],
             [
              0.8888888888888888,
              "#fdca26"
             ],
             [
              1,
              "#f0f921"
             ]
            ],
            "type": "surface"
           }
          ],
          "table": [
           {
            "cells": {
             "fill": {
              "color": "#EBF0F8"
             },
             "line": {
              "color": "white"
             }
            },
            "header": {
             "fill": {
              "color": "#C8D4E3"
             },
             "line": {
              "color": "white"
             }
            },
            "type": "table"
           }
          ]
         },
         "layout": {
          "annotationdefaults": {
           "arrowcolor": "#2a3f5f",
           "arrowhead": 0,
           "arrowwidth": 1
          },
          "autotypenumbers": "strict",
          "coloraxis": {
           "colorbar": {
            "outlinewidth": 0,
            "ticks": ""
           }
          },
          "colorscale": {
           "diverging": [
            [
             0,
             "#8e0152"
            ],
            [
             0.1,
             "#c51b7d"
            ],
            [
             0.2,
             "#de77ae"
            ],
            [
             0.3,
             "#f1b6da"
            ],
            [
             0.4,
             "#fde0ef"
            ],
            [
             0.5,
             "#f7f7f7"
            ],
            [
             0.6,
             "#e6f5d0"
            ],
            [
             0.7,
             "#b8e186"
            ],
            [
             0.8,
             "#7fbc41"
            ],
            [
             0.9,
             "#4d9221"
            ],
            [
             1,
             "#276419"
            ]
           ],
           "sequential": [
            [
             0,
             "#0d0887"
            ],
            [
             0.1111111111111111,
             "#46039f"
            ],
            [
             0.2222222222222222,
             "#7201a8"
            ],
            [
             0.3333333333333333,
             "#9c179e"
            ],
            [
             0.4444444444444444,
             "#bd3786"
            ],
            [
             0.5555555555555556,
             "#d8576b"
            ],
            [
             0.6666666666666666,
             "#ed7953"
            ],
            [
             0.7777777777777778,
             "#fb9f3a"
            ],
            [
             0.8888888888888888,
             "#fdca26"
            ],
            [
             1,
             "#f0f921"
            ]
           ],
           "sequentialminus": [
            [
             0,
             "#0d0887"
            ],
            [
             0.1111111111111111,
             "#46039f"
            ],
            [
             0.2222222222222222,
             "#7201a8"
            ],
            [
             0.3333333333333333,
             "#9c179e"
            ],
            [
             0.4444444444444444,
             "#bd3786"
            ],
            [
             0.5555555555555556,
             "#d8576b"
            ],
            [
             0.6666666666666666,
             "#ed7953"
            ],
            [
             0.7777777777777778,
             "#fb9f3a"
            ],
            [
             0.8888888888888888,
             "#fdca26"
            ],
            [
             1,
             "#f0f921"
            ]
           ]
          },
          "colorway": [
           "#636efa",
           "#EF553B",
           "#00cc96",
           "#ab63fa",
           "#FFA15A",
           "#19d3f3",
           "#FF6692",
           "#B6E880",
           "#FF97FF",
           "#FECB52"
          ],
          "font": {
           "color": "#2a3f5f"
          },
          "geo": {
           "bgcolor": "white",
           "lakecolor": "white",
           "landcolor": "#E5ECF6",
           "showlakes": true,
           "showland": true,
           "subunitcolor": "white"
          },
          "hoverlabel": {
           "align": "left"
          },
          "hovermode": "closest",
          "mapbox": {
           "style": "light"
          },
          "paper_bgcolor": "white",
          "plot_bgcolor": "#E5ECF6",
          "polar": {
           "angularaxis": {
            "gridcolor": "white",
            "linecolor": "white",
            "ticks": ""
           },
           "bgcolor": "#E5ECF6",
           "radialaxis": {
            "gridcolor": "white",
            "linecolor": "white",
            "ticks": ""
           }
          },
          "scene": {
           "xaxis": {
            "backgroundcolor": "#E5ECF6",
            "gridcolor": "white",
            "gridwidth": 2,
            "linecolor": "white",
            "showbackground": true,
            "ticks": "",
            "zerolinecolor": "white"
           },
           "yaxis": {
            "backgroundcolor": "#E5ECF6",
            "gridcolor": "white",
            "gridwidth": 2,
            "linecolor": "white",
            "showbackground": true,
            "ticks": "",
            "zerolinecolor": "white"
           },
           "zaxis": {
            "backgroundcolor": "#E5ECF6",
            "gridcolor": "white",
            "gridwidth": 2,
            "linecolor": "white",
            "showbackground": true,
            "ticks": "",
            "zerolinecolor": "white"
           }
          },
          "shapedefaults": {
           "line": {
            "color": "#2a3f5f"
           }
          },
          "ternary": {
           "aaxis": {
            "gridcolor": "white",
            "linecolor": "white",
            "ticks": ""
           },
           "baxis": {
            "gridcolor": "white",
            "linecolor": "white",
            "ticks": ""
           },
           "bgcolor": "#E5ECF6",
           "caxis": {
            "gridcolor": "white",
            "linecolor": "white",
            "ticks": ""
           }
          },
          "title": {
           "x": 0.05
          },
          "xaxis": {
           "automargin": true,
           "gridcolor": "white",
           "linecolor": "white",
           "ticks": "",
           "title": {
            "standoff": 15
           },
           "zerolinecolor": "white",
           "zerolinewidth": 2
          },
          "yaxis": {
           "automargin": true,
           "gridcolor": "white",
           "linecolor": "white",
           "ticks": "",
           "title": {
            "standoff": 15
           },
           "zerolinecolor": "white",
           "zerolinewidth": 2
          }
         }
        },
        "title": {
         "text": "GOOGL stock price based on William Keating"
        },
        "xaxis": {
         "title": {
          "text": "Date"
         }
        },
        "yaxis": {
         "title": {
          "text": "Price"
         }
        }
       }
      },
      "text/html": [
       "<div>                            <div id=\"b8cb0067-6c29-4905-8433-7720b390615e\" class=\"plotly-graph-div\" style=\"height:525px; width:100%;\"></div>            <script type=\"text/javascript\">                require([\"plotly\"], function(Plotly) {                    window.PLOTLYENV=window.PLOTLYENV || {};                                    if (document.getElementById(\"b8cb0067-6c29-4905-8433-7720b390615e\")) {                    Plotly.newPlot(                        \"b8cb0067-6c29-4905-8433-7720b390615e\",                        [{\"close\":[168.64999389648438,169.13999938964844,170.33999633789062,172.50999450683594,174.17999267578125,176.05999755859375,176.9199981689453,177.85000610351562,176.3800048828125,173.5500030517578],\"decreasing\":{\"line\":{\"color\":\"red\"}},\"high\":[169.85000610351562,169.27999877929688,171.25,172.64999389648438,175.1199951171875,176.27000427246094,178.77000427246094,178.14999389648438,177.14999389648438,178.25],\"increasing\":{\"line\":{\"color\":\"green\"}},\"low\":[166.19000244140625,164.0,168.8000030517578,170.50999450683594,172.69000244140625,173.69000244140625,176.0800018310547,175.80999755859375,175.2100067138672,172.9499969482422],\"open\":[168.02999877929688,164.25999450683594,169.77000427246094,170.6300048828125,173.2899932861328,174.17999267578125,176.19000244140625,176.89999389648438,176.63999938964844,177.07000732421875],\"x\":[\"2024-05-10T00:00:00\",\"2024-05-13T00:00:00\",\"2024-05-14T00:00:00\",\"2024-05-15T00:00:00\",\"2024-05-16T00:00:00\",\"2024-05-17T00:00:00\",\"2024-05-20T00:00:00\",\"2024-05-21T00:00:00\",\"2024-05-22T00:00:00\",\"2024-05-23T00:00:00\"],\"type\":\"candlestick\"}],                        {\"template\":{\"data\":{\"histogram2dcontour\":[{\"type\":\"histogram2dcontour\",\"colorbar\":{\"outlinewidth\":0,\"ticks\":\"\"},\"colorscale\":[[0.0,\"#0d0887\"],[0.1111111111111111,\"#46039f\"],[0.2222222222222222,\"#7201a8\"],[0.3333333333333333,\"#9c179e\"],[0.4444444444444444,\"#bd3786\"],[0.5555555555555556,\"#d8576b\"],[0.6666666666666666,\"#ed7953\"],[0.7777777777777778,\"#fb9f3a\"],[0.8888888888888888,\"#fdca26\"],[1.0,\"#f0f921\"]]}],\"choropleth\":[{\"type\":\"choropleth\",\"colorbar\":{\"outlinewidth\":0,\"ticks\":\"\"}}],\"histogram2d\":[{\"type\":\"histogram2d\",\"colorbar\":{\"outlinewidth\":0,\"ticks\":\"\"},\"colorscale\":[[0.0,\"#0d0887\"],[0.1111111111111111,\"#46039f\"],[0.2222222222222222,\"#7201a8\"],[0.3333333333333333,\"#9c179e\"],[0.4444444444444444,\"#bd3786\"],[0.5555555555555556,\"#d8576b\"],[0.6666666666666666,\"#ed7953\"],[0.7777777777777778,\"#fb9f3a\"],[0.8888888888888888,\"#fdca26\"],[1.0,\"#f0f921\"]]}],\"heatmap\":[{\"type\":\"heatmap\",\"colorbar\":{\"outlinewidth\":0,\"ticks\":\"\"},\"colorscale\":[[0.0,\"#0d0887\"],[0.1111111111111111,\"#46039f\"],[0.2222222222222222,\"#7201a8\"],[0.3333333333333333,\"#9c179e\"],[0.4444444444444444,\"#bd3786\"],[0.5555555555555556,\"#d8576b\"],[0.6666666666666666,\"#ed7953\"],[0.7777777777777778,\"#fb9f3a\"],[0.8888888888888888,\"#fdca26\"],[1.0,\"#f0f921\"]]}],\"heatmapgl\":[{\"type\":\"heatmapgl\",\"colorbar\":{\"outlinewidth\":0,\"ticks\":\"\"},\"colorscale\":[[0.0,\"#0d0887\"],[0.1111111111111111,\"#46039f\"],[0.2222222222222222,\"#7201a8\"],[0.3333333333333333,\"#9c179e\"],[0.4444444444444444,\"#bd3786\"],[0.5555555555555556,\"#d8576b\"],[0.6666666666666666,\"#ed7953\"],[0.7777777777777778,\"#fb9f3a\"],[0.8888888888888888,\"#fdca26\"],[1.0,\"#f0f921\"]]}],\"contourcarpet\":[{\"type\":\"contourcarpet\",\"colorbar\":{\"outlinewidth\":0,\"ticks\":\"\"}}],\"contour\":[{\"type\":\"contour\",\"colorbar\":{\"outlinewidth\":0,\"ticks\":\"\"},\"colorscale\":[[0.0,\"#0d0887\"],[0.1111111111111111,\"#46039f\"],[0.2222222222222222,\"#7201a8\"],[0.3333333333333333,\"#9c179e\"],[0.4444444444444444,\"#bd3786\"],[0.5555555555555556,\"#d8576b\"],[0.6666666666666666,\"#ed7953\"],[0.7777777777777778,\"#fb9f3a\"],[0.8888888888888888,\"#fdca26\"],[1.0,\"#f0f921\"]]}],\"surface\":[{\"type\":\"surface\",\"colorbar\":{\"outlinewidth\":0,\"ticks\":\"\"},\"colorscale\":[[0.0,\"#0d0887\"],[0.1111111111111111,\"#46039f\"],[0.2222222222222222,\"#7201a8\"],[0.3333333333333333,\"#9c179e\"],[0.4444444444444444,\"#bd3786\"],[0.5555555555555556,\"#d8576b\"],[0.6666666666666666,\"#ed7953\"],[0.7777777777777778,\"#fb9f3a\"],[0.8888888888888888,\"#fdca26\"],[1.0,\"#f0f921\"]]}],\"mesh3d\":[{\"type\":\"mesh3d\",\"colorbar\":{\"outlinewidth\":0,\"ticks\":\"\"}}],\"scatter\":[{\"fillpattern\":{\"fillmode\":\"overlay\",\"size\":10,\"solidity\":0.2},\"type\":\"scatter\"}],\"parcoords\":[{\"type\":\"parcoords\",\"line\":{\"colorbar\":{\"outlinewidth\":0,\"ticks\":\"\"}}}],\"scatterpolargl\":[{\"type\":\"scatterpolargl\",\"marker\":{\"colorbar\":{\"outlinewidth\":0,\"ticks\":\"\"}}}],\"bar\":[{\"error_x\":{\"color\":\"#2a3f5f\"},\"error_y\":{\"color\":\"#2a3f5f\"},\"marker\":{\"line\":{\"color\":\"#E5ECF6\",\"width\":0.5},\"pattern\":{\"fillmode\":\"overlay\",\"size\":10,\"solidity\":0.2}},\"type\":\"bar\"}],\"scattergeo\":[{\"type\":\"scattergeo\",\"marker\":{\"colorbar\":{\"outlinewidth\":0,\"ticks\":\"\"}}}],\"scatterpolar\":[{\"type\":\"scatterpolar\",\"marker\":{\"colorbar\":{\"outlinewidth\":0,\"ticks\":\"\"}}}],\"histogram\":[{\"marker\":{\"pattern\":{\"fillmode\":\"overlay\",\"size\":10,\"solidity\":0.2}},\"type\":\"histogram\"}],\"scattergl\":[{\"type\":\"scattergl\",\"marker\":{\"colorbar\":{\"outlinewidth\":0,\"ticks\":\"\"}}}],\"scatter3d\":[{\"type\":\"scatter3d\",\"line\":{\"colorbar\":{\"outlinewidth\":0,\"ticks\":\"\"}},\"marker\":{\"colorbar\":{\"outlinewidth\":0,\"ticks\":\"\"}}}],\"scattermapbox\":[{\"type\":\"scattermapbox\",\"marker\":{\"colorbar\":{\"outlinewidth\":0,\"ticks\":\"\"}}}],\"scatterternary\":[{\"type\":\"scatterternary\",\"marker\":{\"colorbar\":{\"outlinewidth\":0,\"ticks\":\"\"}}}],\"scattercarpet\":[{\"type\":\"scattercarpet\",\"marker\":{\"colorbar\":{\"outlinewidth\":0,\"ticks\":\"\"}}}],\"carpet\":[{\"aaxis\":{\"endlinecolor\":\"#2a3f5f\",\"gridcolor\":\"white\",\"linecolor\":\"white\",\"minorgridcolor\":\"white\",\"startlinecolor\":\"#2a3f5f\"},\"baxis\":{\"endlinecolor\":\"#2a3f5f\",\"gridcolor\":\"white\",\"linecolor\":\"white\",\"minorgridcolor\":\"white\",\"startlinecolor\":\"#2a3f5f\"},\"type\":\"carpet\"}],\"table\":[{\"cells\":{\"fill\":{\"color\":\"#EBF0F8\"},\"line\":{\"color\":\"white\"}},\"header\":{\"fill\":{\"color\":\"#C8D4E3\"},\"line\":{\"color\":\"white\"}},\"type\":\"table\"}],\"barpolar\":[{\"marker\":{\"line\":{\"color\":\"#E5ECF6\",\"width\":0.5},\"pattern\":{\"fillmode\":\"overlay\",\"size\":10,\"solidity\":0.2}},\"type\":\"barpolar\"}],\"pie\":[{\"automargin\":true,\"type\":\"pie\"}]},\"layout\":{\"autotypenumbers\":\"strict\",\"colorway\":[\"#636efa\",\"#EF553B\",\"#00cc96\",\"#ab63fa\",\"#FFA15A\",\"#19d3f3\",\"#FF6692\",\"#B6E880\",\"#FF97FF\",\"#FECB52\"],\"font\":{\"color\":\"#2a3f5f\"},\"hovermode\":\"closest\",\"hoverlabel\":{\"align\":\"left\"},\"paper_bgcolor\":\"white\",\"plot_bgcolor\":\"#E5ECF6\",\"polar\":{\"bgcolor\":\"#E5ECF6\",\"angularaxis\":{\"gridcolor\":\"white\",\"linecolor\":\"white\",\"ticks\":\"\"},\"radialaxis\":{\"gridcolor\":\"white\",\"linecolor\":\"white\",\"ticks\":\"\"}},\"ternary\":{\"bgcolor\":\"#E5ECF6\",\"aaxis\":{\"gridcolor\":\"white\",\"linecolor\":\"white\",\"ticks\":\"\"},\"baxis\":{\"gridcolor\":\"white\",\"linecolor\":\"white\",\"ticks\":\"\"},\"caxis\":{\"gridcolor\":\"white\",\"linecolor\":\"white\",\"ticks\":\"\"}},\"coloraxis\":{\"colorbar\":{\"outlinewidth\":0,\"ticks\":\"\"}},\"colorscale\":{\"sequential\":[[0.0,\"#0d0887\"],[0.1111111111111111,\"#46039f\"],[0.2222222222222222,\"#7201a8\"],[0.3333333333333333,\"#9c179e\"],[0.4444444444444444,\"#bd3786\"],[0.5555555555555556,\"#d8576b\"],[0.6666666666666666,\"#ed7953\"],[0.7777777777777778,\"#fb9f3a\"],[0.8888888888888888,\"#fdca26\"],[1.0,\"#f0f921\"]],\"sequentialminus\":[[0.0,\"#0d0887\"],[0.1111111111111111,\"#46039f\"],[0.2222222222222222,\"#7201a8\"],[0.3333333333333333,\"#9c179e\"],[0.4444444444444444,\"#bd3786\"],[0.5555555555555556,\"#d8576b\"],[0.6666666666666666,\"#ed7953\"],[0.7777777777777778,\"#fb9f3a\"],[0.8888888888888888,\"#fdca26\"],[1.0,\"#f0f921\"]],\"diverging\":[[0,\"#8e0152\"],[0.1,\"#c51b7d\"],[0.2,\"#de77ae\"],[0.3,\"#f1b6da\"],[0.4,\"#fde0ef\"],[0.5,\"#f7f7f7\"],[0.6,\"#e6f5d0\"],[0.7,\"#b8e186\"],[0.8,\"#7fbc41\"],[0.9,\"#4d9221\"],[1,\"#276419\"]]},\"xaxis\":{\"gridcolor\":\"white\",\"linecolor\":\"white\",\"ticks\":\"\",\"title\":{\"standoff\":15},\"zerolinecolor\":\"white\",\"automargin\":true,\"zerolinewidth\":2},\"yaxis\":{\"gridcolor\":\"white\",\"linecolor\":\"white\",\"ticks\":\"\",\"title\":{\"standoff\":15},\"zerolinecolor\":\"white\",\"automargin\":true,\"zerolinewidth\":2},\"scene\":{\"xaxis\":{\"backgroundcolor\":\"#E5ECF6\",\"gridcolor\":\"white\",\"linecolor\":\"white\",\"showbackground\":true,\"ticks\":\"\",\"zerolinecolor\":\"white\",\"gridwidth\":2},\"yaxis\":{\"backgroundcolor\":\"#E5ECF6\",\"gridcolor\":\"white\",\"linecolor\":\"white\",\"showbackground\":true,\"ticks\":\"\",\"zerolinecolor\":\"white\",\"gridwidth\":2},\"zaxis\":{\"backgroundcolor\":\"#E5ECF6\",\"gridcolor\":\"white\",\"linecolor\":\"white\",\"showbackground\":true,\"ticks\":\"\",\"zerolinecolor\":\"white\",\"gridwidth\":2}},\"shapedefaults\":{\"line\":{\"color\":\"#2a3f5f\"}},\"annotationdefaults\":{\"arrowcolor\":\"#2a3f5f\",\"arrowhead\":0,\"arrowwidth\":1},\"geo\":{\"bgcolor\":\"white\",\"landcolor\":\"#E5ECF6\",\"subunitcolor\":\"white\",\"showland\":true,\"showlakes\":true,\"lakecolor\":\"white\"},\"title\":{\"x\":0.05},\"mapbox\":{\"style\":\"light\"}}},\"title\":{\"text\":\"GOOGL stock price based on William Keating\"},\"yaxis\":{\"title\":{\"text\":\"Price\"}},\"xaxis\":{\"title\":{\"text\":\"Date\"}}},                        {\"responsive\": true}                    ).then(function(){\n",
       "                            \n",
       "var gd = document.getElementById('b8cb0067-6c29-4905-8433-7720b390615e');\n",
       "var x = new MutationObserver(function (mutations, observer) {{\n",
       "        var display = window.getComputedStyle(gd).display;\n",
       "        if (!display || display === 'none') {{\n",
       "            console.log([gd, 'removed!']);\n",
       "            Plotly.purge(gd);\n",
       "            observer.disconnect();\n",
       "        }}\n",
       "}});\n",
       "\n",
       "// Listen for the removal of the full notebook cells\n",
       "var notebookContainer = gd.closest('#notebook-container');\n",
       "if (notebookContainer) {{\n",
       "    x.observe(notebookContainer, {childList: true});\n",
       "}}\n",
       "\n",
       "// Listen for the clearing of the current output cell\n",
       "var outputEl = gd.closest('.output');\n",
       "if (outputEl) {{\n",
       "    x.observe(outputEl, {childList: true});\n",
       "}}\n",
       "\n",
       "                        })                };                });            </script>        </div>"
      ]
     },
     "metadata": {},
     "output_type": "display_data"
    }
   ],
   "source": [
    "def add_bias_column(X):\n",
    "    \"\"\"\n",
    "    Args:\n",
    "        X (array): can be either 1-d or 2-d\n",
    "    \n",
    "    Returns:\n",
    "        Xnew (array): the same array, but 2-d with a column of 1's in the first spot\n",
    "    \"\"\"\n",
    "    \n",
    "    # If the array is 1-d\n",
    "    if len(X.shape) == 1:\n",
    "        Xnew = np.column_stack([np.ones(X.shape[0]), X])\n",
    "    \n",
    "    # If the array is 2-d\n",
    "    elif len(X.shape) == 2:\n",
    "        bias_col = np.ones((X.shape[0], 1))\n",
    "        Xnew = np.hstack([bias_col, X])\n",
    "        \n",
    "    else:\n",
    "        raise ValueError(\"Input array must be either 1-d or 2-d\")\n",
    "\n",
    "    return Xnew\n",
    "\n",
    "\n",
    "def line_of_best_fit(X, Y): \n",
    "    X_into_array = add_bias_column(X)\n",
    "    XtXinv = np.linalg.inv(np.matmul(X_into_array.T, X_into_array))\n",
    "    m = np.matmul(XtXinv, np.matmul(X_into_array.T, Y))\n",
    "    return m\n",
    "\n",
    "\n",
    "\n",
    "\n",
    "\n",
    "\n",
    "    \n",
    "    \n",
    "num = 10\n",
    "stock_graph(df_ticker, df_ticker.iloc[num,8], df_ticker.iloc[num, 11], df_ticker.iloc[num,12])\n",
    "\n",
    "\n"
   ]
  },
  {
   "cell_type": "code",
   "execution_count": 48,
   "id": "cabb38c2",
   "metadata": {},
   "outputs": [
    {
     "name": "stdout",
     "output_type": "stream",
     "text": [
      "[*********************100%%**********************]  1 of 1 completed\n"
     ]
    },
    {
     "data": {
      "application/vnd.plotly.v1+json": {
       "config": {
        "plotlyServerURL": "https://plot.ly"
       },
       "data": [
        {
         "close": [
          116.20999908447266,
          116.5999984741211,
          113.95999908447266,
          111.9000015258789,
          111.18000030517578,
          111.4280014038086,
          115.18000030517578,
          114.15499877929688,
          112.3499984741211,
          114.2040023803711
         ],
         "decreasing": {
          "line": {
           "color": "red"
          }
         },
         "high": [
          116.56999969482422,
          116.79000091552734,
          113.98999786376953,
          112.46600341796875,
          112.02999877929688,
          111.79000091552734,
          115.55999755859375,
          114.55500030517578,
          113.72000122070312,
          116.19999694824219
         ],
         "increasing": {
          "line": {
           "color": "green"
          }
         },
         "low": [
          115.11000061035156,
          115.81999969482422,
          112.2699966430664,
          111.31999969482422,
          111.06800079345703,
          111.01000213623047,
          114.04000091552734,
          113.06999969482422,
          112.2300033569336,
          114.2040023803711
         ],
         "open": [
          116.56999969482422,
          116.43000030517578,
          112.86000061035156,
          111.69499969482422,
          111.94000244140625,
          111.22000122070312,
          114.04000091552734,
          113.83999633789062,
          113.72000122070312,
          116
         ],
         "type": "candlestick",
         "x": [
          "2024-05-10T00:00:00",
          "2024-05-13T00:00:00",
          "2024-05-14T00:00:00",
          "2024-05-15T00:00:00",
          "2024-05-16T00:00:00",
          "2024-05-17T00:00:00",
          "2024-05-20T00:00:00",
          "2024-05-21T00:00:00",
          "2024-05-22T00:00:00",
          "2024-05-23T00:00:00"
         ]
        }
       ],
       "layout": {
        "template": {
         "data": {
          "bar": [
           {
            "error_x": {
             "color": "#2a3f5f"
            },
            "error_y": {
             "color": "#2a3f5f"
            },
            "marker": {
             "line": {
              "color": "#E5ECF6",
              "width": 0.5
             },
             "pattern": {
              "fillmode": "overlay",
              "size": 10,
              "solidity": 0.2
             }
            },
            "type": "bar"
           }
          ],
          "barpolar": [
           {
            "marker": {
             "line": {
              "color": "#E5ECF6",
              "width": 0.5
             },
             "pattern": {
              "fillmode": "overlay",
              "size": 10,
              "solidity": 0.2
             }
            },
            "type": "barpolar"
           }
          ],
          "carpet": [
           {
            "aaxis": {
             "endlinecolor": "#2a3f5f",
             "gridcolor": "white",
             "linecolor": "white",
             "minorgridcolor": "white",
             "startlinecolor": "#2a3f5f"
            },
            "baxis": {
             "endlinecolor": "#2a3f5f",
             "gridcolor": "white",
             "linecolor": "white",
             "minorgridcolor": "white",
             "startlinecolor": "#2a3f5f"
            },
            "type": "carpet"
           }
          ],
          "choropleth": [
           {
            "colorbar": {
             "outlinewidth": 0,
             "ticks": ""
            },
            "type": "choropleth"
           }
          ],
          "contour": [
           {
            "colorbar": {
             "outlinewidth": 0,
             "ticks": ""
            },
            "colorscale": [
             [
              0,
              "#0d0887"
             ],
             [
              0.1111111111111111,
              "#46039f"
             ],
             [
              0.2222222222222222,
              "#7201a8"
             ],
             [
              0.3333333333333333,
              "#9c179e"
             ],
             [
              0.4444444444444444,
              "#bd3786"
             ],
             [
              0.5555555555555556,
              "#d8576b"
             ],
             [
              0.6666666666666666,
              "#ed7953"
             ],
             [
              0.7777777777777778,
              "#fb9f3a"
             ],
             [
              0.8888888888888888,
              "#fdca26"
             ],
             [
              1,
              "#f0f921"
             ]
            ],
            "type": "contour"
           }
          ],
          "contourcarpet": [
           {
            "colorbar": {
             "outlinewidth": 0,
             "ticks": ""
            },
            "type": "contourcarpet"
           }
          ],
          "heatmap": [
           {
            "colorbar": {
             "outlinewidth": 0,
             "ticks": ""
            },
            "colorscale": [
             [
              0,
              "#0d0887"
             ],
             [
              0.1111111111111111,
              "#46039f"
             ],
             [
              0.2222222222222222,
              "#7201a8"
             ],
             [
              0.3333333333333333,
              "#9c179e"
             ],
             [
              0.4444444444444444,
              "#bd3786"
             ],
             [
              0.5555555555555556,
              "#d8576b"
             ],
             [
              0.6666666666666666,
              "#ed7953"
             ],
             [
              0.7777777777777778,
              "#fb9f3a"
             ],
             [
              0.8888888888888888,
              "#fdca26"
             ],
             [
              1,
              "#f0f921"
             ]
            ],
            "type": "heatmap"
           }
          ],
          "heatmapgl": [
           {
            "colorbar": {
             "outlinewidth": 0,
             "ticks": ""
            },
            "colorscale": [
             [
              0,
              "#0d0887"
             ],
             [
              0.1111111111111111,
              "#46039f"
             ],
             [
              0.2222222222222222,
              "#7201a8"
             ],
             [
              0.3333333333333333,
              "#9c179e"
             ],
             [
              0.4444444444444444,
              "#bd3786"
             ],
             [
              0.5555555555555556,
              "#d8576b"
             ],
             [
              0.6666666666666666,
              "#ed7953"
             ],
             [
              0.7777777777777778,
              "#fb9f3a"
             ],
             [
              0.8888888888888888,
              "#fdca26"
             ],
             [
              1,
              "#f0f921"
             ]
            ],
            "type": "heatmapgl"
           }
          ],
          "histogram": [
           {
            "marker": {
             "pattern": {
              "fillmode": "overlay",
              "size": 10,
              "solidity": 0.2
             }
            },
            "type": "histogram"
           }
          ],
          "histogram2d": [
           {
            "colorbar": {
             "outlinewidth": 0,
             "ticks": ""
            },
            "colorscale": [
             [
              0,
              "#0d0887"
             ],
             [
              0.1111111111111111,
              "#46039f"
             ],
             [
              0.2222222222222222,
              "#7201a8"
             ],
             [
              0.3333333333333333,
              "#9c179e"
             ],
             [
              0.4444444444444444,
              "#bd3786"
             ],
             [
              0.5555555555555556,
              "#d8576b"
             ],
             [
              0.6666666666666666,
              "#ed7953"
             ],
             [
              0.7777777777777778,
              "#fb9f3a"
             ],
             [
              0.8888888888888888,
              "#fdca26"
             ],
             [
              1,
              "#f0f921"
             ]
            ],
            "type": "histogram2d"
           }
          ],
          "histogram2dcontour": [
           {
            "colorbar": {
             "outlinewidth": 0,
             "ticks": ""
            },
            "colorscale": [
             [
              0,
              "#0d0887"
             ],
             [
              0.1111111111111111,
              "#46039f"
             ],
             [
              0.2222222222222222,
              "#7201a8"
             ],
             [
              0.3333333333333333,
              "#9c179e"
             ],
             [
              0.4444444444444444,
              "#bd3786"
             ],
             [
              0.5555555555555556,
              "#d8576b"
             ],
             [
              0.6666666666666666,
              "#ed7953"
             ],
             [
              0.7777777777777778,
              "#fb9f3a"
             ],
             [
              0.8888888888888888,
              "#fdca26"
             ],
             [
              1,
              "#f0f921"
             ]
            ],
            "type": "histogram2dcontour"
           }
          ],
          "mesh3d": [
           {
            "colorbar": {
             "outlinewidth": 0,
             "ticks": ""
            },
            "type": "mesh3d"
           }
          ],
          "parcoords": [
           {
            "line": {
             "colorbar": {
              "outlinewidth": 0,
              "ticks": ""
             }
            },
            "type": "parcoords"
           }
          ],
          "pie": [
           {
            "automargin": true,
            "type": "pie"
           }
          ],
          "scatter": [
           {
            "fillpattern": {
             "fillmode": "overlay",
             "size": 10,
             "solidity": 0.2
            },
            "type": "scatter"
           }
          ],
          "scatter3d": [
           {
            "line": {
             "colorbar": {
              "outlinewidth": 0,
              "ticks": ""
             }
            },
            "marker": {
             "colorbar": {
              "outlinewidth": 0,
              "ticks": ""
             }
            },
            "type": "scatter3d"
           }
          ],
          "scattercarpet": [
           {
            "marker": {
             "colorbar": {
              "outlinewidth": 0,
              "ticks": ""
             }
            },
            "type": "scattercarpet"
           }
          ],
          "scattergeo": [
           {
            "marker": {
             "colorbar": {
              "outlinewidth": 0,
              "ticks": ""
             }
            },
            "type": "scattergeo"
           }
          ],
          "scattergl": [
           {
            "marker": {
             "colorbar": {
              "outlinewidth": 0,
              "ticks": ""
             }
            },
            "type": "scattergl"
           }
          ],
          "scattermapbox": [
           {
            "marker": {
             "colorbar": {
              "outlinewidth": 0,
              "ticks": ""
             }
            },
            "type": "scattermapbox"
           }
          ],
          "scatterpolar": [
           {
            "marker": {
             "colorbar": {
              "outlinewidth": 0,
              "ticks": ""
             }
            },
            "type": "scatterpolar"
           }
          ],
          "scatterpolargl": [
           {
            "marker": {
             "colorbar": {
              "outlinewidth": 0,
              "ticks": ""
             }
            },
            "type": "scatterpolargl"
           }
          ],
          "scatterternary": [
           {
            "marker": {
             "colorbar": {
              "outlinewidth": 0,
              "ticks": ""
             }
            },
            "type": "scatterternary"
           }
          ],
          "surface": [
           {
            "colorbar": {
             "outlinewidth": 0,
             "ticks": ""
            },
            "colorscale": [
             [
              0,
              "#0d0887"
             ],
             [
              0.1111111111111111,
              "#46039f"
             ],
             [
              0.2222222222222222,
              "#7201a8"
             ],
             [
              0.3333333333333333,
              "#9c179e"
             ],
             [
              0.4444444444444444,
              "#bd3786"
             ],
             [
              0.5555555555555556,
              "#d8576b"
             ],
             [
              0.6666666666666666,
              "#ed7953"
             ],
             [
              0.7777777777777778,
              "#fb9f3a"
             ],
             [
              0.8888888888888888,
              "#fdca26"
             ],
             [
              1,
              "#f0f921"
             ]
            ],
            "type": "surface"
           }
          ],
          "table": [
           {
            "cells": {
             "fill": {
              "color": "#EBF0F8"
             },
             "line": {
              "color": "white"
             }
            },
            "header": {
             "fill": {
              "color": "#C8D4E3"
             },
             "line": {
              "color": "white"
             }
            },
            "type": "table"
           }
          ]
         },
         "layout": {
          "annotationdefaults": {
           "arrowcolor": "#2a3f5f",
           "arrowhead": 0,
           "arrowwidth": 1
          },
          "autotypenumbers": "strict",
          "coloraxis": {
           "colorbar": {
            "outlinewidth": 0,
            "ticks": ""
           }
          },
          "colorscale": {
           "diverging": [
            [
             0,
             "#8e0152"
            ],
            [
             0.1,
             "#c51b7d"
            ],
            [
             0.2,
             "#de77ae"
            ],
            [
             0.3,
             "#f1b6da"
            ],
            [
             0.4,
             "#fde0ef"
            ],
            [
             0.5,
             "#f7f7f7"
            ],
            [
             0.6,
             "#e6f5d0"
            ],
            [
             0.7,
             "#b8e186"
            ],
            [
             0.8,
             "#7fbc41"
            ],
            [
             0.9,
             "#4d9221"
            ],
            [
             1,
             "#276419"
            ]
           ],
           "sequential": [
            [
             0,
             "#0d0887"
            ],
            [
             0.1111111111111111,
             "#46039f"
            ],
            [
             0.2222222222222222,
             "#7201a8"
            ],
            [
             0.3333333333333333,
             "#9c179e"
            ],
            [
             0.4444444444444444,
             "#bd3786"
            ],
            [
             0.5555555555555556,
             "#d8576b"
            ],
            [
             0.6666666666666666,
             "#ed7953"
            ],
            [
             0.7777777777777778,
             "#fb9f3a"
            ],
            [
             0.8888888888888888,
             "#fdca26"
            ],
            [
             1,
             "#f0f921"
            ]
           ],
           "sequentialminus": [
            [
             0,
             "#0d0887"
            ],
            [
             0.1111111111111111,
             "#46039f"
            ],
            [
             0.2222222222222222,
             "#7201a8"
            ],
            [
             0.3333333333333333,
             "#9c179e"
            ],
            [
             0.4444444444444444,
             "#bd3786"
            ],
            [
             0.5555555555555556,
             "#d8576b"
            ],
            [
             0.6666666666666666,
             "#ed7953"
            ],
            [
             0.7777777777777778,
             "#fb9f3a"
            ],
            [
             0.8888888888888888,
             "#fdca26"
            ],
            [
             1,
             "#f0f921"
            ]
           ]
          },
          "colorway": [
           "#636efa",
           "#EF553B",
           "#00cc96",
           "#ab63fa",
           "#FFA15A",
           "#19d3f3",
           "#FF6692",
           "#B6E880",
           "#FF97FF",
           "#FECB52"
          ],
          "font": {
           "color": "#2a3f5f"
          },
          "geo": {
           "bgcolor": "white",
           "lakecolor": "white",
           "landcolor": "#E5ECF6",
           "showlakes": true,
           "showland": true,
           "subunitcolor": "white"
          },
          "hoverlabel": {
           "align": "left"
          },
          "hovermode": "closest",
          "mapbox": {
           "style": "light"
          },
          "paper_bgcolor": "white",
          "plot_bgcolor": "#E5ECF6",
          "polar": {
           "angularaxis": {
            "gridcolor": "white",
            "linecolor": "white",
            "ticks": ""
           },
           "bgcolor": "#E5ECF6",
           "radialaxis": {
            "gridcolor": "white",
            "linecolor": "white",
            "ticks": ""
           }
          },
          "scene": {
           "xaxis": {
            "backgroundcolor": "#E5ECF6",
            "gridcolor": "white",
            "gridwidth": 2,
            "linecolor": "white",
            "showbackground": true,
            "ticks": "",
            "zerolinecolor": "white"
           },
           "yaxis": {
            "backgroundcolor": "#E5ECF6",
            "gridcolor": "white",
            "gridwidth": 2,
            "linecolor": "white",
            "showbackground": true,
            "ticks": "",
            "zerolinecolor": "white"
           },
           "zaxis": {
            "backgroundcolor": "#E5ECF6",
            "gridcolor": "white",
            "gridwidth": 2,
            "linecolor": "white",
            "showbackground": true,
            "ticks": "",
            "zerolinecolor": "white"
           }
          },
          "shapedefaults": {
           "line": {
            "color": "#2a3f5f"
           }
          },
          "ternary": {
           "aaxis": {
            "gridcolor": "white",
            "linecolor": "white",
            "ticks": ""
           },
           "baxis": {
            "gridcolor": "white",
            "linecolor": "white",
            "ticks": ""
           },
           "bgcolor": "#E5ECF6",
           "caxis": {
            "gridcolor": "white",
            "linecolor": "white",
            "ticks": ""
           }
          },
          "title": {
           "x": 0.05
          },
          "xaxis": {
           "automargin": true,
           "gridcolor": "white",
           "linecolor": "white",
           "ticks": "",
           "title": {
            "standoff": 15
           },
           "zerolinecolor": "white",
           "zerolinewidth": 2
          },
          "yaxis": {
           "automargin": true,
           "gridcolor": "white",
           "linecolor": "white",
           "ticks": "",
           "title": {
            "standoff": 15
           },
           "zerolinecolor": "white",
           "zerolinewidth": 2
          }
         }
        },
        "title": {
         "text": "RNMBY stock price"
        },
        "xaxis": {
         "title": {
          "text": "Date"
         }
        },
        "yaxis": {
         "title": {
          "text": "Price"
         }
        }
       }
      },
      "text/html": [
       "<div>                            <div id=\"a820c3cf-a8c5-4f6a-ae00-ddf2152a206c\" class=\"plotly-graph-div\" style=\"height:525px; width:100%;\"></div>            <script type=\"text/javascript\">                require([\"plotly\"], function(Plotly) {                    window.PLOTLYENV=window.PLOTLYENV || {};                                    if (document.getElementById(\"a820c3cf-a8c5-4f6a-ae00-ddf2152a206c\")) {                    Plotly.newPlot(                        \"a820c3cf-a8c5-4f6a-ae00-ddf2152a206c\",                        [{\"close\":[116.20999908447266,116.5999984741211,113.95999908447266,111.9000015258789,111.18000030517578,111.4280014038086,115.18000030517578,114.15499877929688,112.3499984741211,114.2040023803711],\"decreasing\":{\"line\":{\"color\":\"red\"}},\"high\":[116.56999969482422,116.79000091552734,113.98999786376953,112.46600341796875,112.02999877929688,111.79000091552734,115.55999755859375,114.55500030517578,113.72000122070312,116.19999694824219],\"increasing\":{\"line\":{\"color\":\"green\"}},\"low\":[115.11000061035156,115.81999969482422,112.2699966430664,111.31999969482422,111.06800079345703,111.01000213623047,114.04000091552734,113.06999969482422,112.2300033569336,114.2040023803711],\"open\":[116.56999969482422,116.43000030517578,112.86000061035156,111.69499969482422,111.94000244140625,111.22000122070312,114.04000091552734,113.83999633789062,113.72000122070312,116.0],\"x\":[\"2024-05-10T00:00:00\",\"2024-05-13T00:00:00\",\"2024-05-14T00:00:00\",\"2024-05-15T00:00:00\",\"2024-05-16T00:00:00\",\"2024-05-17T00:00:00\",\"2024-05-20T00:00:00\",\"2024-05-21T00:00:00\",\"2024-05-22T00:00:00\",\"2024-05-23T00:00:00\"],\"type\":\"candlestick\"}],                        {\"template\":{\"data\":{\"histogram2dcontour\":[{\"type\":\"histogram2dcontour\",\"colorbar\":{\"outlinewidth\":0,\"ticks\":\"\"},\"colorscale\":[[0.0,\"#0d0887\"],[0.1111111111111111,\"#46039f\"],[0.2222222222222222,\"#7201a8\"],[0.3333333333333333,\"#9c179e\"],[0.4444444444444444,\"#bd3786\"],[0.5555555555555556,\"#d8576b\"],[0.6666666666666666,\"#ed7953\"],[0.7777777777777778,\"#fb9f3a\"],[0.8888888888888888,\"#fdca26\"],[1.0,\"#f0f921\"]]}],\"choropleth\":[{\"type\":\"choropleth\",\"colorbar\":{\"outlinewidth\":0,\"ticks\":\"\"}}],\"histogram2d\":[{\"type\":\"histogram2d\",\"colorbar\":{\"outlinewidth\":0,\"ticks\":\"\"},\"colorscale\":[[0.0,\"#0d0887\"],[0.1111111111111111,\"#46039f\"],[0.2222222222222222,\"#7201a8\"],[0.3333333333333333,\"#9c179e\"],[0.4444444444444444,\"#bd3786\"],[0.5555555555555556,\"#d8576b\"],[0.6666666666666666,\"#ed7953\"],[0.7777777777777778,\"#fb9f3a\"],[0.8888888888888888,\"#fdca26\"],[1.0,\"#f0f921\"]]}],\"heatmap\":[{\"type\":\"heatmap\",\"colorbar\":{\"outlinewidth\":0,\"ticks\":\"\"},\"colorscale\":[[0.0,\"#0d0887\"],[0.1111111111111111,\"#46039f\"],[0.2222222222222222,\"#7201a8\"],[0.3333333333333333,\"#9c179e\"],[0.4444444444444444,\"#bd3786\"],[0.5555555555555556,\"#d8576b\"],[0.6666666666666666,\"#ed7953\"],[0.7777777777777778,\"#fb9f3a\"],[0.8888888888888888,\"#fdca26\"],[1.0,\"#f0f921\"]]}],\"heatmapgl\":[{\"type\":\"heatmapgl\",\"colorbar\":{\"outlinewidth\":0,\"ticks\":\"\"},\"colorscale\":[[0.0,\"#0d0887\"],[0.1111111111111111,\"#46039f\"],[0.2222222222222222,\"#7201a8\"],[0.3333333333333333,\"#9c179e\"],[0.4444444444444444,\"#bd3786\"],[0.5555555555555556,\"#d8576b\"],[0.6666666666666666,\"#ed7953\"],[0.7777777777777778,\"#fb9f3a\"],[0.8888888888888888,\"#fdca26\"],[1.0,\"#f0f921\"]]}],\"contourcarpet\":[{\"type\":\"contourcarpet\",\"colorbar\":{\"outlinewidth\":0,\"ticks\":\"\"}}],\"contour\":[{\"type\":\"contour\",\"colorbar\":{\"outlinewidth\":0,\"ticks\":\"\"},\"colorscale\":[[0.0,\"#0d0887\"],[0.1111111111111111,\"#46039f\"],[0.2222222222222222,\"#7201a8\"],[0.3333333333333333,\"#9c179e\"],[0.4444444444444444,\"#bd3786\"],[0.5555555555555556,\"#d8576b\"],[0.6666666666666666,\"#ed7953\"],[0.7777777777777778,\"#fb9f3a\"],[0.8888888888888888,\"#fdca26\"],[1.0,\"#f0f921\"]]}],\"surface\":[{\"type\":\"surface\",\"colorbar\":{\"outlinewidth\":0,\"ticks\":\"\"},\"colorscale\":[[0.0,\"#0d0887\"],[0.1111111111111111,\"#46039f\"],[0.2222222222222222,\"#7201a8\"],[0.3333333333333333,\"#9c179e\"],[0.4444444444444444,\"#bd3786\"],[0.5555555555555556,\"#d8576b\"],[0.6666666666666666,\"#ed7953\"],[0.7777777777777778,\"#fb9f3a\"],[0.8888888888888888,\"#fdca26\"],[1.0,\"#f0f921\"]]}],\"mesh3d\":[{\"type\":\"mesh3d\",\"colorbar\":{\"outlinewidth\":0,\"ticks\":\"\"}}],\"scatter\":[{\"fillpattern\":{\"fillmode\":\"overlay\",\"size\":10,\"solidity\":0.2},\"type\":\"scatter\"}],\"parcoords\":[{\"type\":\"parcoords\",\"line\":{\"colorbar\":{\"outlinewidth\":0,\"ticks\":\"\"}}}],\"scatterpolargl\":[{\"type\":\"scatterpolargl\",\"marker\":{\"colorbar\":{\"outlinewidth\":0,\"ticks\":\"\"}}}],\"bar\":[{\"error_x\":{\"color\":\"#2a3f5f\"},\"error_y\":{\"color\":\"#2a3f5f\"},\"marker\":{\"line\":{\"color\":\"#E5ECF6\",\"width\":0.5},\"pattern\":{\"fillmode\":\"overlay\",\"size\":10,\"solidity\":0.2}},\"type\":\"bar\"}],\"scattergeo\":[{\"type\":\"scattergeo\",\"marker\":{\"colorbar\":{\"outlinewidth\":0,\"ticks\":\"\"}}}],\"scatterpolar\":[{\"type\":\"scatterpolar\",\"marker\":{\"colorbar\":{\"outlinewidth\":0,\"ticks\":\"\"}}}],\"histogram\":[{\"marker\":{\"pattern\":{\"fillmode\":\"overlay\",\"size\":10,\"solidity\":0.2}},\"type\":\"histogram\"}],\"scattergl\":[{\"type\":\"scattergl\",\"marker\":{\"colorbar\":{\"outlinewidth\":0,\"ticks\":\"\"}}}],\"scatter3d\":[{\"type\":\"scatter3d\",\"line\":{\"colorbar\":{\"outlinewidth\":0,\"ticks\":\"\"}},\"marker\":{\"colorbar\":{\"outlinewidth\":0,\"ticks\":\"\"}}}],\"scattermapbox\":[{\"type\":\"scattermapbox\",\"marker\":{\"colorbar\":{\"outlinewidth\":0,\"ticks\":\"\"}}}],\"scatterternary\":[{\"type\":\"scatterternary\",\"marker\":{\"colorbar\":{\"outlinewidth\":0,\"ticks\":\"\"}}}],\"scattercarpet\":[{\"type\":\"scattercarpet\",\"marker\":{\"colorbar\":{\"outlinewidth\":0,\"ticks\":\"\"}}}],\"carpet\":[{\"aaxis\":{\"endlinecolor\":\"#2a3f5f\",\"gridcolor\":\"white\",\"linecolor\":\"white\",\"minorgridcolor\":\"white\",\"startlinecolor\":\"#2a3f5f\"},\"baxis\":{\"endlinecolor\":\"#2a3f5f\",\"gridcolor\":\"white\",\"linecolor\":\"white\",\"minorgridcolor\":\"white\",\"startlinecolor\":\"#2a3f5f\"},\"type\":\"carpet\"}],\"table\":[{\"cells\":{\"fill\":{\"color\":\"#EBF0F8\"},\"line\":{\"color\":\"white\"}},\"header\":{\"fill\":{\"color\":\"#C8D4E3\"},\"line\":{\"color\":\"white\"}},\"type\":\"table\"}],\"barpolar\":[{\"marker\":{\"line\":{\"color\":\"#E5ECF6\",\"width\":0.5},\"pattern\":{\"fillmode\":\"overlay\",\"size\":10,\"solidity\":0.2}},\"type\":\"barpolar\"}],\"pie\":[{\"automargin\":true,\"type\":\"pie\"}]},\"layout\":{\"autotypenumbers\":\"strict\",\"colorway\":[\"#636efa\",\"#EF553B\",\"#00cc96\",\"#ab63fa\",\"#FFA15A\",\"#19d3f3\",\"#FF6692\",\"#B6E880\",\"#FF97FF\",\"#FECB52\"],\"font\":{\"color\":\"#2a3f5f\"},\"hovermode\":\"closest\",\"hoverlabel\":{\"align\":\"left\"},\"paper_bgcolor\":\"white\",\"plot_bgcolor\":\"#E5ECF6\",\"polar\":{\"bgcolor\":\"#E5ECF6\",\"angularaxis\":{\"gridcolor\":\"white\",\"linecolor\":\"white\",\"ticks\":\"\"},\"radialaxis\":{\"gridcolor\":\"white\",\"linecolor\":\"white\",\"ticks\":\"\"}},\"ternary\":{\"bgcolor\":\"#E5ECF6\",\"aaxis\":{\"gridcolor\":\"white\",\"linecolor\":\"white\",\"ticks\":\"\"},\"baxis\":{\"gridcolor\":\"white\",\"linecolor\":\"white\",\"ticks\":\"\"},\"caxis\":{\"gridcolor\":\"white\",\"linecolor\":\"white\",\"ticks\":\"\"}},\"coloraxis\":{\"colorbar\":{\"outlinewidth\":0,\"ticks\":\"\"}},\"colorscale\":{\"sequential\":[[0.0,\"#0d0887\"],[0.1111111111111111,\"#46039f\"],[0.2222222222222222,\"#7201a8\"],[0.3333333333333333,\"#9c179e\"],[0.4444444444444444,\"#bd3786\"],[0.5555555555555556,\"#d8576b\"],[0.6666666666666666,\"#ed7953\"],[0.7777777777777778,\"#fb9f3a\"],[0.8888888888888888,\"#fdca26\"],[1.0,\"#f0f921\"]],\"sequentialminus\":[[0.0,\"#0d0887\"],[0.1111111111111111,\"#46039f\"],[0.2222222222222222,\"#7201a8\"],[0.3333333333333333,\"#9c179e\"],[0.4444444444444444,\"#bd3786\"],[0.5555555555555556,\"#d8576b\"],[0.6666666666666666,\"#ed7953\"],[0.7777777777777778,\"#fb9f3a\"],[0.8888888888888888,\"#fdca26\"],[1.0,\"#f0f921\"]],\"diverging\":[[0,\"#8e0152\"],[0.1,\"#c51b7d\"],[0.2,\"#de77ae\"],[0.3,\"#f1b6da\"],[0.4,\"#fde0ef\"],[0.5,\"#f7f7f7\"],[0.6,\"#e6f5d0\"],[0.7,\"#b8e186\"],[0.8,\"#7fbc41\"],[0.9,\"#4d9221\"],[1,\"#276419\"]]},\"xaxis\":{\"gridcolor\":\"white\",\"linecolor\":\"white\",\"ticks\":\"\",\"title\":{\"standoff\":15},\"zerolinecolor\":\"white\",\"automargin\":true,\"zerolinewidth\":2},\"yaxis\":{\"gridcolor\":\"white\",\"linecolor\":\"white\",\"ticks\":\"\",\"title\":{\"standoff\":15},\"zerolinecolor\":\"white\",\"automargin\":true,\"zerolinewidth\":2},\"scene\":{\"xaxis\":{\"backgroundcolor\":\"#E5ECF6\",\"gridcolor\":\"white\",\"linecolor\":\"white\",\"showbackground\":true,\"ticks\":\"\",\"zerolinecolor\":\"white\",\"gridwidth\":2},\"yaxis\":{\"backgroundcolor\":\"#E5ECF6\",\"gridcolor\":\"white\",\"linecolor\":\"white\",\"showbackground\":true,\"ticks\":\"\",\"zerolinecolor\":\"white\",\"gridwidth\":2},\"zaxis\":{\"backgroundcolor\":\"#E5ECF6\",\"gridcolor\":\"white\",\"linecolor\":\"white\",\"showbackground\":true,\"ticks\":\"\",\"zerolinecolor\":\"white\",\"gridwidth\":2}},\"shapedefaults\":{\"line\":{\"color\":\"#2a3f5f\"}},\"annotationdefaults\":{\"arrowcolor\":\"#2a3f5f\",\"arrowhead\":0,\"arrowwidth\":1},\"geo\":{\"bgcolor\":\"white\",\"landcolor\":\"#E5ECF6\",\"subunitcolor\":\"white\",\"showland\":true,\"showlakes\":true,\"lakecolor\":\"white\"},\"title\":{\"x\":0.05},\"mapbox\":{\"style\":\"light\"}}},\"title\":{\"text\":\"RNMBY stock price\"},\"yaxis\":{\"title\":{\"text\":\"Price\"}},\"xaxis\":{\"title\":{\"text\":\"Date\"}}},                        {\"responsive\": true}                    ).then(function(){\n",
       "                            \n",
       "var gd = document.getElementById('a820c3cf-a8c5-4f6a-ae00-ddf2152a206c');\n",
       "var x = new MutationObserver(function (mutations, observer) {{\n",
       "        var display = window.getComputedStyle(gd).display;\n",
       "        if (!display || display === 'none') {{\n",
       "            console.log([gd, 'removed!']);\n",
       "            Plotly.purge(gd);\n",
       "            observer.disconnect();\n",
       "        }}\n",
       "}});\n",
       "\n",
       "// Listen for the removal of the full notebook cells\n",
       "var notebookContainer = gd.closest('#notebook-container');\n",
       "if (notebookContainer) {{\n",
       "    x.observe(notebookContainer, {childList: true});\n",
       "}}\n",
       "\n",
       "// Listen for the clearing of the current output cell\n",
       "var outputEl = gd.closest('.output');\n",
       "if (outputEl) {{\n",
       "    x.observe(outputEl, {childList: true});\n",
       "}}\n",
       "\n",
       "                        })                };                });            </script>        </div>"
      ]
     },
     "metadata": {},
     "output_type": "display_data"
    }
   ],
   "source": [
    "ticker = \"RNMBY\"\n",
    "\n",
    "start_date = \"2024-05-10\"\n",
    "end_date = \"2024-05-24\"\n",
    "\n",
    "data = yf.download(ticker, start=start_date, end=end_date)\n",
    "\n",
    "data = data.reset_index()\n",
    "\n",
    "\n",
    "\n",
    "candlestick = go.Candlestick(x=data[\"Date\"], open=data[\"Open\"], high=data[\"High\"],\n",
    "                             low = data[\"Low\"], close = data[\"Close\"],\n",
    "                             increasing_line_color = \"green\", decreasing_line_color = \"red\")\n",
    "figure = go.Figure(data=[candlestick])\n",
    "figure.update_layout(title = f\"{ticker} stock price\", yaxis_title = \"Price\", xaxis_title = 'Date')\n",
    "figure.show()"
   ]
  },
  {
   "cell_type": "markdown",
   "id": "fec70043",
   "metadata": {},
   "source": [
    "from bs4 import BeautifulSoup\n",
    "politician_url = 'https://www.capitoltrades.com/trades/20003773574'\n",
    " \n",
    "text_test = requests.get(politician_url)\n",
    "soup = BeautifulSoup(text_test.text)\n",
    "\n",
    "traded = soup.find_all(class_=chamber_pattern)\n"
   ]
  },
  {
   "cell_type": "code",
   "execution_count": null,
   "id": "d71e6458",
   "metadata": {},
   "outputs": [],
   "source": []
  }
 ],
 "metadata": {
  "kernelspec": {
   "display_name": "Python 3 (ipykernel)",
   "language": "python",
   "name": "python3"
  },
  "language_info": {
   "codemirror_mode": {
    "name": "ipython",
    "version": 3
   },
   "file_extension": ".py",
   "mimetype": "text/x-python",
   "name": "python",
   "nbconvert_exporter": "python",
   "pygments_lexer": "ipython3",
   "version": "3.10.8"
  }
 },
 "nbformat": 4,
 "nbformat_minor": 5
}
