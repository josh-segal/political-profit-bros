{
 "cells": [
  {
   "cell_type": "code",
   "execution_count": 201,
   "id": "9715f0b4",
   "metadata": {},
   "outputs": [],
   "source": [
    "# Import necessary Libraries\n",
    "import numpy as np\n",
    "import pandas as pd\n",
    "import seaborn as sns\n",
    "import matplotlib.pyplot as plt \n",
    "from sklearn.metrics import r2_score\n",
    "from datetime import datetime, timedelta\n",
    "from dateutil.relativedelta import *\n",
    "\n",
    "\n",
    "def add_bias_column(X):\n",
    "    \"\"\"\n",
    "    Args:\n",
    "        X (array): can be either 1-d or 2-d\n",
    "    \n",
    "    Returns:\n",
    "        Xnew (array): the same array, but 2-d with a column of 1's in the first spot\n",
    "    \"\"\"\n",
    "    \n",
    "    # If the array is 1-d\n",
    "    if len(X.shape) == 1:\n",
    "        Xnew = np.column_stack([np.ones(X.shape[0]), X])\n",
    "    \n",
    "    # If the array is 2-d\n",
    "    elif len(X.shape) == 2:\n",
    "        bias_col = np.ones((X.shape[0], 1))\n",
    "        Xnew = np.hstack([bias_col, X])\n",
    "        \n",
    "    else:\n",
    "        raise ValueError(\"Input array must be either 1-d or 2-d\")\n",
    "\n",
    "    return Xnew\n",
    "\n",
    "def line_of_best_fit(X, Y): \n",
    "    \"\"\"\n",
    "    finds the line of best fit of two arrays using the (XtX)^-1Xty equation\n",
    "    \n",
    "    Args:\n",
    "        x (array): either 1-d or 2-d\n",
    "        y (array): 1-d\n",
    "    \n",
    "    Return:\n",
    "        m (array): vector including intercept(first num) and slope(second num) for line of best fit\n",
    "    \n",
    "    \"\"\"\n",
    "    \n",
    "    X_into_array = add_bias_column(X)\n",
    "    XtXinv = np.linalg.inv(np.matmul(X_into_array.T, X_into_array))\n",
    "    m = np.matmul(XtXinv, np.matmul(X_into_array.T, Y))\n",
    "    \n",
    "    return m\n",
    "\n",
    "def linreg_predict(Xnew, ynew, m):\n",
    "    \"\"\"\n",
    "    Predicts the linear regression and gives it a score on how well the variance is explained\n",
    "    Args: \n",
    "        Xnew (array): either 1-d or 2-d, includes all p predictor features\n",
    "        ynew (array): 1-d array, includes all correspondign response values to Xnew\n",
    "        m (array): array that shows the intercept and the slope to be used for calculating ypreds\n",
    "        \n",
    "    Returns:\n",
    "        dictionary (dict): four key-value pairs (ypreds, resids, mse, r2)\n",
    "    \n",
    "    \"\"\"\n",
    "    Xnew = add_bias_column(Xnew)\n",
    "    ypreds = np.matmul(Xnew, m)\n",
    "    resids = ynew - ypreds\n",
    "    mse = (resids**2).sum()/resids.size\n",
    "    r2 = r2_score(ynew, ypreds)\n",
    "    \n",
    "    dictionary = {'ypreds': ypreds,\n",
    "                  'resids':resids,\n",
    "                  'mse':mse,\n",
    "                  'r2':r2\n",
    "                 }\n",
    "    return dictionary\n"
   ]
  },
  {
   "cell_type": "code",
   "execution_count": 202,
   "id": "f833a2f7",
   "metadata": {},
   "outputs": [
    {
     "name": "stderr",
     "output_type": "stream",
     "text": [
      "/var/folders/s1/_6l1c54s6_bc396t_9ndyt900000gn/T/ipykernel_29503/438338352.py:5: UserWarning:\n",
      "\n",
      "Boolean Series key will be reindexed to match DataFrame index.\n",
      "\n"
     ]
    },
    {
     "data": {
      "text/html": [
       "<div>\n",
       "<style scoped>\n",
       "    .dataframe tbody tr th:only-of-type {\n",
       "        vertical-align: middle;\n",
       "    }\n",
       "\n",
       "    .dataframe tbody tr th {\n",
       "        vertical-align: top;\n",
       "    }\n",
       "\n",
       "    .dataframe thead th {\n",
       "        text-align: right;\n",
       "    }\n",
       "</style>\n",
       "<table border=\"1\" class=\"dataframe\">\n",
       "  <thead>\n",
       "    <tr style=\"text-align: right;\">\n",
       "      <th></th>\n",
       "      <th>txId</th>\n",
       "      <th>Name</th>\n",
       "      <th>Politician Id</th>\n",
       "      <th>Party</th>\n",
       "      <th>Chamber</th>\n",
       "      <th>State</th>\n",
       "      <th>Asset Type</th>\n",
       "      <th>Issuer</th>\n",
       "      <th>Ticker</th>\n",
       "      <th>Issuer Country</th>\n",
       "      <th>Type</th>\n",
       "      <th>Date Traded</th>\n",
       "      <th>Date Published</th>\n",
       "      <th>Trade Size</th>\n",
       "      <th>Trade Price</th>\n",
       "      <th>Trade Value</th>\n",
       "    </tr>\n",
       "  </thead>\n",
       "  <tbody>\n",
       "    <tr>\n",
       "      <th>6839</th>\n",
       "      <td>10000061314</td>\n",
       "      <td>Richard Scott</td>\n",
       "      <td>S001217</td>\n",
       "      <td>Republican</td>\n",
       "      <td>Senate</td>\n",
       "      <td>FL</td>\n",
       "      <td>Stock</td>\n",
       "      <td>WIRELESS TELECOM GROUP INC</td>\n",
       "      <td>WTT</td>\n",
       "      <td>us</td>\n",
       "      <td>Sell</td>\n",
       "      <td>2023-08-15</td>\n",
       "      <td>2023-09-15</td>\n",
       "      <td>1408452.0</td>\n",
       "      <td>2.13</td>\n",
       "      <td>3000000</td>\n",
       "    </tr>\n",
       "    <tr>\n",
       "      <th>2143</th>\n",
       "      <td>20003771272</td>\n",
       "      <td>Joshua Gottheimer</td>\n",
       "      <td>G000583</td>\n",
       "      <td>Democrat</td>\n",
       "      <td>House</td>\n",
       "      <td>NJ</td>\n",
       "      <td>Stock</td>\n",
       "      <td>Microsoft Corp</td>\n",
       "      <td>MSFT</td>\n",
       "      <td>us</td>\n",
       "      <td>Sell</td>\n",
       "      <td>2024-02-12</td>\n",
       "      <td>2024-03-07</td>\n",
       "      <td>7225.0</td>\n",
       "      <td>415.26</td>\n",
       "      <td>3000000</td>\n",
       "    </tr>\n",
       "    <tr>\n",
       "      <th>980</th>\n",
       "      <td>20003772715</td>\n",
       "      <td>Clifford Franklin</td>\n",
       "      <td>F000472</td>\n",
       "      <td>Republican</td>\n",
       "      <td>House</td>\n",
       "      <td>FL</td>\n",
       "      <td>Stock</td>\n",
       "      <td>Brp Group Inc</td>\n",
       "      <td>BRP</td>\n",
       "      <td>us</td>\n",
       "      <td>Sell</td>\n",
       "      <td>2024-03-21</td>\n",
       "      <td>2024-04-23</td>\n",
       "      <td>54445.0</td>\n",
       "      <td>30.04</td>\n",
       "      <td>1635630</td>\n",
       "    </tr>\n",
       "    <tr>\n",
       "      <th>984</th>\n",
       "      <td>20003772510</td>\n",
       "      <td>Michael McCaul</td>\n",
       "      <td>M001157</td>\n",
       "      <td>Republican</td>\n",
       "      <td>House</td>\n",
       "      <td>TX</td>\n",
       "      <td>Stock</td>\n",
       "      <td>JPMorgan Chase &amp; Co</td>\n",
       "      <td>JPM</td>\n",
       "      <td>us</td>\n",
       "      <td>Buy</td>\n",
       "      <td>2024-03-07</td>\n",
       "      <td>2024-04-22</td>\n",
       "      <td>5323.0</td>\n",
       "      <td>187.87</td>\n",
       "      <td>1000000</td>\n",
       "    </tr>\n",
       "    <tr>\n",
       "      <th>983</th>\n",
       "      <td>20003772509</td>\n",
       "      <td>Michael McCaul</td>\n",
       "      <td>M001157</td>\n",
       "      <td>Republican</td>\n",
       "      <td>House</td>\n",
       "      <td>TX</td>\n",
       "      <td>Stock</td>\n",
       "      <td>JPMorgan Chase &amp; Co</td>\n",
       "      <td>JPM</td>\n",
       "      <td>us</td>\n",
       "      <td>Buy</td>\n",
       "      <td>2024-03-21</td>\n",
       "      <td>2024-04-22</td>\n",
       "      <td>5024.0</td>\n",
       "      <td>199.06</td>\n",
       "      <td>1000000</td>\n",
       "    </tr>\n",
       "    <tr>\n",
       "      <th>1171</th>\n",
       "      <td>20003772702</td>\n",
       "      <td>Michael McCaul</td>\n",
       "      <td>M001157</td>\n",
       "      <td>Republican</td>\n",
       "      <td>House</td>\n",
       "      <td>TX</td>\n",
       "      <td>Stock</td>\n",
       "      <td>JPMorgan Chase &amp; Co</td>\n",
       "      <td>JPM</td>\n",
       "      <td>us</td>\n",
       "      <td>Sell</td>\n",
       "      <td>2024-03-07</td>\n",
       "      <td>2024-04-22</td>\n",
       "      <td>5323.0</td>\n",
       "      <td>187.87</td>\n",
       "      <td>1000000</td>\n",
       "    </tr>\n",
       "    <tr>\n",
       "      <th>1074</th>\n",
       "      <td>20003772600</td>\n",
       "      <td>Michael McCaul</td>\n",
       "      <td>M001157</td>\n",
       "      <td>Republican</td>\n",
       "      <td>House</td>\n",
       "      <td>TX</td>\n",
       "      <td>Stock</td>\n",
       "      <td>JPMorgan Chase &amp; Co</td>\n",
       "      <td>JPM</td>\n",
       "      <td>us</td>\n",
       "      <td>Sell</td>\n",
       "      <td>2024-03-21</td>\n",
       "      <td>2024-04-22</td>\n",
       "      <td>5024.0</td>\n",
       "      <td>199.06</td>\n",
       "      <td>1000000</td>\n",
       "    </tr>\n",
       "    <tr>\n",
       "      <th>1172</th>\n",
       "      <td>20003772703</td>\n",
       "      <td>Michael McCaul</td>\n",
       "      <td>M001157</td>\n",
       "      <td>Republican</td>\n",
       "      <td>House</td>\n",
       "      <td>TX</td>\n",
       "      <td>Stock</td>\n",
       "      <td>JPMorgan Chase &amp; Co</td>\n",
       "      <td>JPM</td>\n",
       "      <td>us</td>\n",
       "      <td>Sell</td>\n",
       "      <td>2024-03-21</td>\n",
       "      <td>2024-04-22</td>\n",
       "      <td>5024.0</td>\n",
       "      <td>199.06</td>\n",
       "      <td>1000000</td>\n",
       "    </tr>\n",
       "    <tr>\n",
       "      <th>1073</th>\n",
       "      <td>20003772599</td>\n",
       "      <td>Michael McCaul</td>\n",
       "      <td>M001157</td>\n",
       "      <td>Republican</td>\n",
       "      <td>House</td>\n",
       "      <td>TX</td>\n",
       "      <td>Stock</td>\n",
       "      <td>JPMorgan Chase &amp; Co</td>\n",
       "      <td>JPM</td>\n",
       "      <td>us</td>\n",
       "      <td>Sell</td>\n",
       "      <td>2024-03-07</td>\n",
       "      <td>2024-04-22</td>\n",
       "      <td>5323.0</td>\n",
       "      <td>187.87</td>\n",
       "      <td>1000000</td>\n",
       "    </tr>\n",
       "    <tr>\n",
       "      <th>1082</th>\n",
       "      <td>20003772613</td>\n",
       "      <td>Michael McCaul</td>\n",
       "      <td>M001157</td>\n",
       "      <td>Republican</td>\n",
       "      <td>House</td>\n",
       "      <td>TX</td>\n",
       "      <td>Stock</td>\n",
       "      <td>JPMorgan Chase &amp; Co</td>\n",
       "      <td>JPM</td>\n",
       "      <td>us</td>\n",
       "      <td>Buy</td>\n",
       "      <td>2024-03-07</td>\n",
       "      <td>2024-04-22</td>\n",
       "      <td>5323.0</td>\n",
       "      <td>187.87</td>\n",
       "      <td>1000000</td>\n",
       "    </tr>\n",
       "    <tr>\n",
       "      <th>1081</th>\n",
       "      <td>20003772612</td>\n",
       "      <td>Michael McCaul</td>\n",
       "      <td>M001157</td>\n",
       "      <td>Republican</td>\n",
       "      <td>House</td>\n",
       "      <td>TX</td>\n",
       "      <td>Stock</td>\n",
       "      <td>JPMorgan Chase &amp; Co</td>\n",
       "      <td>JPM</td>\n",
       "      <td>us</td>\n",
       "      <td>Buy</td>\n",
       "      <td>2024-03-21</td>\n",
       "      <td>2024-04-22</td>\n",
       "      <td>5024.0</td>\n",
       "      <td>199.06</td>\n",
       "      <td>1000000</td>\n",
       "    </tr>\n",
       "    <tr>\n",
       "      <th>6849</th>\n",
       "      <td>20003767292</td>\n",
       "      <td>Seth Moulton</td>\n",
       "      <td>M001196</td>\n",
       "      <td>Democrat</td>\n",
       "      <td>House</td>\n",
       "      <td>MA</td>\n",
       "      <td>Stock</td>\n",
       "      <td>Activision Blizzard Inc</td>\n",
       "      <td>ATVI</td>\n",
       "      <td>us</td>\n",
       "      <td>Sell</td>\n",
       "      <td>2023-08-18</td>\n",
       "      <td>2023-09-15</td>\n",
       "      <td>10051.0</td>\n",
       "      <td>90.47</td>\n",
       "      <td>909282</td>\n",
       "    </tr>\n",
       "    <tr>\n",
       "      <th>6854</th>\n",
       "      <td>20003767297</td>\n",
       "      <td>Seth Moulton</td>\n",
       "      <td>M001196</td>\n",
       "      <td>Democrat</td>\n",
       "      <td>House</td>\n",
       "      <td>MA</td>\n",
       "      <td>Stock</td>\n",
       "      <td>Activision Blizzard Inc</td>\n",
       "      <td>ATVI</td>\n",
       "      <td>us</td>\n",
       "      <td>Sell</td>\n",
       "      <td>2023-08-18</td>\n",
       "      <td>2023-09-15</td>\n",
       "      <td>9193.0</td>\n",
       "      <td>86.84</td>\n",
       "      <td>798320</td>\n",
       "    </tr>\n",
       "    <tr>\n",
       "      <th>6871</th>\n",
       "      <td>20003767277</td>\n",
       "      <td>Suzan DelBene</td>\n",
       "      <td>D000617</td>\n",
       "      <td>Democrat</td>\n",
       "      <td>House</td>\n",
       "      <td>WA</td>\n",
       "      <td>Stock</td>\n",
       "      <td>Microsoft Corp</td>\n",
       "      <td>MSFT</td>\n",
       "      <td>us</td>\n",
       "      <td>Sell</td>\n",
       "      <td>2023-08-31</td>\n",
       "      <td>2023-09-11</td>\n",
       "      <td>2289.0</td>\n",
       "      <td>327.76</td>\n",
       "      <td>750000</td>\n",
       "    </tr>\n",
       "    <tr>\n",
       "      <th>6770</th>\n",
       "      <td>10000061370</td>\n",
       "      <td>Richard Blumenthal</td>\n",
       "      <td>B001277</td>\n",
       "      <td>Democrat</td>\n",
       "      <td>Senate</td>\n",
       "      <td>CT</td>\n",
       "      <td>Stock</td>\n",
       "      <td>Radius Global Infrastructure Inc</td>\n",
       "      <td>RADI</td>\n",
       "      <td>NaN</td>\n",
       "      <td>Sell</td>\n",
       "      <td>2023-08-14</td>\n",
       "      <td>2023-09-19</td>\n",
       "      <td>50269.0</td>\n",
       "      <td>14.92</td>\n",
       "      <td>750000</td>\n",
       "    </tr>\n",
       "    <tr>\n",
       "      <th>6093</th>\n",
       "      <td>20003767930</td>\n",
       "      <td>Kevin Hern</td>\n",
       "      <td>H001082</td>\n",
       "      <td>Republican</td>\n",
       "      <td>House</td>\n",
       "      <td>OK</td>\n",
       "      <td>Stock</td>\n",
       "      <td>ONEOK Inc</td>\n",
       "      <td>OKE</td>\n",
       "      <td>us</td>\n",
       "      <td>Receive</td>\n",
       "      <td>2023-09-26</td>\n",
       "      <td>2023-10-13</td>\n",
       "      <td>NaN</td>\n",
       "      <td>NaN</td>\n",
       "      <td>750000</td>\n",
       "    </tr>\n",
       "    <tr>\n",
       "      <th>6841</th>\n",
       "      <td>10000061316</td>\n",
       "      <td>Richard Scott</td>\n",
       "      <td>S001217</td>\n",
       "      <td>Republican</td>\n",
       "      <td>Senate</td>\n",
       "      <td>FL</td>\n",
       "      <td>Stock</td>\n",
       "      <td>WIRELESS TELECOM GROUP INC</td>\n",
       "      <td>WTT</td>\n",
       "      <td>us</td>\n",
       "      <td>Sell</td>\n",
       "      <td>2023-08-15</td>\n",
       "      <td>2023-09-15</td>\n",
       "      <td>352114.0</td>\n",
       "      <td>2.13</td>\n",
       "      <td>750000</td>\n",
       "    </tr>\n",
       "    <tr>\n",
       "      <th>6840</th>\n",
       "      <td>10000061315</td>\n",
       "      <td>Richard Scott</td>\n",
       "      <td>S001217</td>\n",
       "      <td>Republican</td>\n",
       "      <td>Senate</td>\n",
       "      <td>FL</td>\n",
       "      <td>Stock</td>\n",
       "      <td>WIRELESS TELECOM GROUP INC</td>\n",
       "      <td>WTT</td>\n",
       "      <td>us</td>\n",
       "      <td>Sell</td>\n",
       "      <td>2023-08-15</td>\n",
       "      <td>2023-09-15</td>\n",
       "      <td>352114.0</td>\n",
       "      <td>2.13</td>\n",
       "      <td>750000</td>\n",
       "    </tr>\n",
       "    <tr>\n",
       "      <th>9436</th>\n",
       "      <td>20003764521</td>\n",
       "      <td>Nancy Pelosi</td>\n",
       "      <td>P000197</td>\n",
       "      <td>Democrat</td>\n",
       "      <td>House</td>\n",
       "      <td>CA</td>\n",
       "      <td>Stock</td>\n",
       "      <td>Microsoft Corp</td>\n",
       "      <td>MSFT</td>\n",
       "      <td>us</td>\n",
       "      <td>Buy</td>\n",
       "      <td>2023-06-15</td>\n",
       "      <td>2023-06-22</td>\n",
       "      <td>5000.0</td>\n",
       "      <td>180.00</td>\n",
       "      <td>750000</td>\n",
       "    </tr>\n",
       "    <tr>\n",
       "      <th>3045</th>\n",
       "      <td>10000062077</td>\n",
       "      <td>Richard Blumenthal</td>\n",
       "      <td>B001277</td>\n",
       "      <td>Democrat</td>\n",
       "      <td>Senate</td>\n",
       "      <td>CT</td>\n",
       "      <td>Stock</td>\n",
       "      <td>Microsoft Corp</td>\n",
       "      <td>MSFT</td>\n",
       "      <td>us</td>\n",
       "      <td>Sell</td>\n",
       "      <td>2023-12-29</td>\n",
       "      <td>2024-02-05</td>\n",
       "      <td>1995.0</td>\n",
       "      <td>376.04</td>\n",
       "      <td>750000</td>\n",
       "    </tr>\n",
       "  </tbody>\n",
       "</table>\n",
       "</div>"
      ],
      "text/plain": [
       "             txId                Name Politician Id       Party Chamber State  \\\n",
       "6839  10000061314       Richard Scott       S001217  Republican  Senate    FL   \n",
       "2143  20003771272   Joshua Gottheimer       G000583    Democrat   House    NJ   \n",
       "980   20003772715   Clifford Franklin       F000472  Republican   House    FL   \n",
       "984   20003772510      Michael McCaul       M001157  Republican   House    TX   \n",
       "983   20003772509      Michael McCaul       M001157  Republican   House    TX   \n",
       "1171  20003772702      Michael McCaul       M001157  Republican   House    TX   \n",
       "1074  20003772600      Michael McCaul       M001157  Republican   House    TX   \n",
       "1172  20003772703      Michael McCaul       M001157  Republican   House    TX   \n",
       "1073  20003772599      Michael McCaul       M001157  Republican   House    TX   \n",
       "1082  20003772613      Michael McCaul       M001157  Republican   House    TX   \n",
       "1081  20003772612      Michael McCaul       M001157  Republican   House    TX   \n",
       "6849  20003767292        Seth Moulton       M001196    Democrat   House    MA   \n",
       "6854  20003767297        Seth Moulton       M001196    Democrat   House    MA   \n",
       "6871  20003767277       Suzan DelBene       D000617    Democrat   House    WA   \n",
       "6770  10000061370  Richard Blumenthal       B001277    Democrat  Senate    CT   \n",
       "6093  20003767930          Kevin Hern       H001082  Republican   House    OK   \n",
       "6841  10000061316       Richard Scott       S001217  Republican  Senate    FL   \n",
       "6840  10000061315       Richard Scott       S001217  Republican  Senate    FL   \n",
       "9436  20003764521        Nancy Pelosi       P000197    Democrat   House    CA   \n",
       "3045  10000062077  Richard Blumenthal       B001277    Democrat  Senate    CT   \n",
       "\n",
       "     Asset Type                            Issuer Ticker Issuer Country  \\\n",
       "6839      Stock        WIRELESS TELECOM GROUP INC    WTT             us   \n",
       "2143      Stock                    Microsoft Corp   MSFT             us   \n",
       "980       Stock                     Brp Group Inc    BRP             us   \n",
       "984       Stock               JPMorgan Chase & Co    JPM             us   \n",
       "983       Stock               JPMorgan Chase & Co    JPM             us   \n",
       "1171      Stock               JPMorgan Chase & Co    JPM             us   \n",
       "1074      Stock               JPMorgan Chase & Co    JPM             us   \n",
       "1172      Stock               JPMorgan Chase & Co    JPM             us   \n",
       "1073      Stock               JPMorgan Chase & Co    JPM             us   \n",
       "1082      Stock               JPMorgan Chase & Co    JPM             us   \n",
       "1081      Stock               JPMorgan Chase & Co    JPM             us   \n",
       "6849      Stock           Activision Blizzard Inc   ATVI             us   \n",
       "6854      Stock           Activision Blizzard Inc   ATVI             us   \n",
       "6871      Stock                    Microsoft Corp   MSFT             us   \n",
       "6770      Stock  Radius Global Infrastructure Inc   RADI            NaN   \n",
       "6093      Stock                         ONEOK Inc    OKE             us   \n",
       "6841      Stock        WIRELESS TELECOM GROUP INC    WTT             us   \n",
       "6840      Stock        WIRELESS TELECOM GROUP INC    WTT             us   \n",
       "9436      Stock                    Microsoft Corp   MSFT             us   \n",
       "3045      Stock                    Microsoft Corp   MSFT             us   \n",
       "\n",
       "         Type Date Traded Date Published  Trade Size  Trade Price  Trade Value  \n",
       "6839     Sell  2023-08-15     2023-09-15   1408452.0         2.13      3000000  \n",
       "2143     Sell  2024-02-12     2024-03-07      7225.0       415.26      3000000  \n",
       "980      Sell  2024-03-21     2024-04-23     54445.0        30.04      1635630  \n",
       "984       Buy  2024-03-07     2024-04-22      5323.0       187.87      1000000  \n",
       "983       Buy  2024-03-21     2024-04-22      5024.0       199.06      1000000  \n",
       "1171     Sell  2024-03-07     2024-04-22      5323.0       187.87      1000000  \n",
       "1074     Sell  2024-03-21     2024-04-22      5024.0       199.06      1000000  \n",
       "1172     Sell  2024-03-21     2024-04-22      5024.0       199.06      1000000  \n",
       "1073     Sell  2024-03-07     2024-04-22      5323.0       187.87      1000000  \n",
       "1082      Buy  2024-03-07     2024-04-22      5323.0       187.87      1000000  \n",
       "1081      Buy  2024-03-21     2024-04-22      5024.0       199.06      1000000  \n",
       "6849     Sell  2023-08-18     2023-09-15     10051.0        90.47       909282  \n",
       "6854     Sell  2023-08-18     2023-09-15      9193.0        86.84       798320  \n",
       "6871     Sell  2023-08-31     2023-09-11      2289.0       327.76       750000  \n",
       "6770     Sell  2023-08-14     2023-09-19     50269.0        14.92       750000  \n",
       "6093  Receive  2023-09-26     2023-10-13         NaN          NaN       750000  \n",
       "6841     Sell  2023-08-15     2023-09-15    352114.0         2.13       750000  \n",
       "6840     Sell  2023-08-15     2023-09-15    352114.0         2.13       750000  \n",
       "9436      Buy  2023-06-15     2023-06-22      5000.0       180.00       750000  \n",
       "3045     Sell  2023-12-29     2024-02-05      1995.0       376.04       750000  "
      ]
     },
     "execution_count": 202,
     "metadata": {},
     "output_type": "execute_result"
    }
   ],
   "source": [
    "# Read in the data\n",
    "politician_data = pd.read_csv('politician_dataset.csv', index_col=0)\n",
    "\n",
    "# Sort values by Trade Value and only filter by Stocks\n",
    "politician_data.sort_values(by='Trade Value', ascending=False)[politician_data['Asset Type'] == 'Stock'].head(20)\n"
   ]
  },
  {
   "cell_type": "code",
   "execution_count": 203,
   "id": "b04bb66f",
   "metadata": {},
   "outputs": [
    {
     "data": {
      "text/plain": [
       "{'ypreds': array([29.93463984, 29.83866041, 29.74268099, 29.64670157, 29.55072215,\n",
       "        29.45474273, 29.35876331, 29.26278388, 29.16680446, 29.07082504,\n",
       "        28.97484562, 28.8788662 , 28.78288678, 28.68690735, 28.59092793,\n",
       "        28.49494851, 28.39896909, 28.30298967, 28.20701024, 28.11103082,\n",
       "        28.0150514 , 27.91907198, 27.82309256, 27.72711314, 27.63113371,\n",
       "        27.53515429, 27.43917487, 27.34319545, 27.24721603, 27.15123661,\n",
       "        27.05525718, 26.95927776, 26.86329834, 26.76731892, 26.6713395 ,\n",
       "        26.57536007]),\n",
       " 'resids': array([-0.9946393 , -0.17866057,  0.84731916, -0.20670104, -0.25072291,\n",
       "        -0.03474265,  0.321237  ,  0.92721665,  0.69319615,  0.17917496,\n",
       "        -0.67484638, -0.50886536, -0.01288632,  0.25309318, -0.04092869,\n",
       "        -0.08494866,  0.16103038, -0.87298936, -0.24701116,  0.91896986,\n",
       "         0.64494845,  0.27092855, -0.15309248, -0.09711398, -0.42113463,\n",
       "        -0.31515498, -1.00917457, -0.53319598,  0.34278413,  0.25876324,\n",
       "         0.94474282,  0.3507217 , -0.21329872, -0.06731816, -0.26133965,\n",
       "         0.06463931]),\n",
       " 'mse': 0.256297289612484,\n",
       " 'r2': 0.7950328334603026}"
      ]
     },
     "execution_count": 203,
     "metadata": {},
     "output_type": "execute_result"
    }
   ],
   "source": [
    "X = np.array(list(range(1, len(brp) + 1)))\n",
    "Y = np.array(brp['Adj Close'])\n",
    "\n",
    "equation = line_of_best_fit(X, Y)\n",
    "predict = linreg_predict(X, Y, equation)\n",
    "predict"
   ]
  },
  {
   "cell_type": "code",
   "execution_count": 196,
   "id": "49090e3b",
   "metadata": {},
   "outputs": [
    {
     "name": "stdout",
     "output_type": "stream",
     "text": [
      "[*********************100%%**********************]  1 of 1 completed\n"
     ]
    },
    {
     "data": {
      "application/vnd.plotly.v1+json": {
       "config": {
        "plotlyServerURL": "https://plot.ly"
       },
       "data": [
        {
         "close": [
          28.940000534057617,
          29.65999984741211,
          30.59000015258789,
          29.440000534057617,
          29.299999237060547,
          29.420000076293945,
          29.68000030517578,
          30.190000534057617,
          29.860000610351562,
          29.25,
          28.299999237060547,
          28.3700008392334,
          28.770000457763672,
          28.940000534057617,
          28.549999237060547,
          28.40999984741211,
          28.559999465942383,
          27.43000030517578,
          27.959999084472656,
          29.030000686645508,
          28.65999984741211,
          28.190000534057617,
          27.670000076293945,
          27.6299991607666,
          27.209999084472656,
          27.219999313354492,
          26.43000030517578,
          26.809999465942383,
          27.59000015258789,
          27.40999984741211,
          28,
          27.309999465942383,
          26.649999618530273,
          26.700000762939453,
          26.40999984741211,
          26.639999389648438
         ],
         "high": [
          29.385000228881836,
          29.68000030517578,
          30.84000015258789,
          30.3700008392334,
          29.6299991607666,
          29.850000381469727,
          30.670000076293945,
          30.389999389648438,
          30.280000686645508,
          29.950000762939453,
          29.559999465942383,
          28.43000030517578,
          29.0049991607666,
          29.399999618530273,
          28.850000381469727,
          28.549999237060547,
          28.899999618530273,
          28.840900421142578,
          28.139999389648438,
          29.360000610351562,
          29.32360076904297,
          28.40999984741211,
          28.149999618530273,
          27.75,
          28.09000015258789,
          27.645000457763672,
          27.68000030517578,
          27.030000686645508,
          27.670000076293945,
          27.709999084472656,
          28.079999923706055,
          28.19499969482422,
          27.489999771118164,
          26.729999542236328,
          27.079999923706055,
          26.878999710083008
         ],
         "low": [
          28.709999084472656,
          28.270000457763672,
          29.422000885009766,
          28.93000030517578,
          28.829999923706055,
          28.68000030517578,
          29.079999923706055,
          29.5,
          29.68000030517578,
          29.239999771118164,
          28.219999313354492,
          27.920000076293945,
          28.309999465942383,
          28.770000457763672,
          28.200000762939453,
          28.104999542236328,
          28.360000610351562,
          27.420000076293945,
          27.219999313354492,
          28.440000534057617,
          28.299999237060547,
          27.31999969482422,
          27.309999465942383,
          27.023500442504883,
          26.88129997253418,
          26.709999084472656,
          26.3799991607666,
          26.389999389648438,
          26.56999969482422,
          27.09000015258789,
          27.510000228881836,
          27.270000457763672,
          26.459999084472656,
          26.139999389648438,
          26.389999389648438,
          26.079999923706055
         ],
         "open": [
          29.309999465942383,
          28.674999237060547,
          29.559999465942383,
          30.309999465942383,
          29.200000762939453,
          29.149999618530273,
          29.639999389648438,
          29.670000076293945,
          30.239999771118164,
          29.8799991607666,
          29.170000076293945,
          28.299999237060547,
          28.3700008392334,
          28.770000457763672,
          28.850000381469727,
          28.280000686645508,
          28.40999984741211,
          28.770000457763672,
          27.440000534057617,
          29.360000610351562,
          29.18000030517578,
          27.809999465942383,
          27.889999389648438,
          27.31999969482422,
          27.739999771118164,
          26.959999084472656,
          27.520000457763672,
          26.540000915527344,
          26.829999923706055,
          27.709999084472656,
          27.510000228881836,
          27.799999237060547,
          26.899999618530273,
          26.6299991607666,
          26.850000381469727,
          26.200000762939453
         ],
         "type": "candlestick",
         "x": [
          "2024-03-11T00:00:00",
          "2024-03-12T00:00:00",
          "2024-03-13T00:00:00",
          "2024-03-14T00:00:00",
          "2024-03-15T00:00:00",
          "2024-03-18T00:00:00",
          "2024-03-19T00:00:00",
          "2024-03-20T00:00:00",
          "2024-03-21T00:00:00",
          "2024-03-22T00:00:00",
          "2024-03-25T00:00:00",
          "2024-03-26T00:00:00",
          "2024-03-27T00:00:00",
          "2024-03-28T00:00:00",
          "2024-04-01T00:00:00",
          "2024-04-02T00:00:00",
          "2024-04-03T00:00:00",
          "2024-04-04T00:00:00",
          "2024-04-05T00:00:00",
          "2024-04-08T00:00:00",
          "2024-04-09T00:00:00",
          "2024-04-10T00:00:00",
          "2024-04-11T00:00:00",
          "2024-04-12T00:00:00",
          "2024-04-15T00:00:00",
          "2024-04-16T00:00:00",
          "2024-04-17T00:00:00",
          "2024-04-18T00:00:00",
          "2024-04-19T00:00:00",
          "2024-04-22T00:00:00",
          "2024-04-23T00:00:00",
          "2024-04-24T00:00:00",
          "2024-04-25T00:00:00",
          "2024-04-26T00:00:00",
          "2024-04-29T00:00:00",
          "2024-04-30T00:00:00"
         ]
        },
        {
         "mode": "lines",
         "name": "Adj Close Prediction",
         "type": "scatter",
         "x": [
          "2024-03-11T00:00:00",
          "2024-03-12T00:00:00",
          "2024-03-13T00:00:00",
          "2024-03-14T00:00:00",
          "2024-03-15T00:00:00",
          "2024-03-18T00:00:00",
          "2024-03-19T00:00:00",
          "2024-03-20T00:00:00",
          "2024-03-21T00:00:00",
          "2024-03-22T00:00:00",
          "2024-03-25T00:00:00",
          "2024-03-26T00:00:00",
          "2024-03-27T00:00:00",
          "2024-03-28T00:00:00",
          "2024-04-01T00:00:00",
          "2024-04-02T00:00:00",
          "2024-04-03T00:00:00",
          "2024-04-04T00:00:00",
          "2024-04-05T00:00:00",
          "2024-04-08T00:00:00",
          "2024-04-09T00:00:00",
          "2024-04-10T00:00:00",
          "2024-04-11T00:00:00",
          "2024-04-12T00:00:00",
          "2024-04-15T00:00:00",
          "2024-04-16T00:00:00",
          "2024-04-17T00:00:00",
          "2024-04-18T00:00:00",
          "2024-04-19T00:00:00",
          "2024-04-22T00:00:00",
          "2024-04-23T00:00:00",
          "2024-04-24T00:00:00",
          "2024-04-25T00:00:00",
          "2024-04-26T00:00:00",
          "2024-04-29T00:00:00",
          "2024-04-30T00:00:00"
         ],
         "y": [
          29.934639836216835,
          29.838660414461316,
          29.742680992705793,
          29.64670157095027,
          29.550722149194748,
          29.45474272743923,
          29.358763305683706,
          29.262783883928183,
          29.166804462172664,
          29.07082504041714,
          28.974845618661618,
          28.8788661969061,
          28.782886775150576,
          28.686907353395053,
          28.59092793163953,
          28.49494850988401,
          28.39896908812849,
          28.302989666372966,
          28.207010244617447,
          28.111030822861924,
          28.0150514011064,
          27.91907197935088,
          27.82309255759536,
          27.727113135839836,
          27.631133714084314,
          27.535154292328794,
          27.43917487057327,
          27.34319544881775,
          27.247216027062226,
          27.151236605306707,
          27.055257183551184,
          26.95927776179566,
          26.863298340040142,
          26.76731891828462,
          26.671339496529097,
          26.575360074773577
         ]
        }
       ],
       "layout": {
        "annotations": [
         {
          "showarrow": false,
          "text": "When stock was sold",
          "x": "2024-03-21",
          "xanchor": "left",
          "xref": "x",
          "y": 0.05,
          "yref": "paper"
         },
         {
          "showarrow": false,
          "text": "y_hat = -0.096x + 30.031, MSE = 0.256, R^2 = 0.795",
          "x": 0.97,
          "xanchor": "right",
          "xref": "paper",
          "y": 0.95,
          "yanchor": "top",
          "yref": "paper"
         }
        ],
        "shapes": [
         {
          "line": {
           "width": 2
          },
          "x0": "2024-03-21",
          "x1": "2024-03-21",
          "xref": "x",
          "y0": 0,
          "y1": 1,
          "yref": "paper"
         }
        ],
        "template": {
         "data": {
          "bar": [
           {
            "error_x": {
             "color": "#2a3f5f"
            },
            "error_y": {
             "color": "#2a3f5f"
            },
            "marker": {
             "line": {
              "color": "#E5ECF6",
              "width": 0.5
             },
             "pattern": {
              "fillmode": "overlay",
              "size": 10,
              "solidity": 0.2
             }
            },
            "type": "bar"
           }
          ],
          "barpolar": [
           {
            "marker": {
             "line": {
              "color": "#E5ECF6",
              "width": 0.5
             },
             "pattern": {
              "fillmode": "overlay",
              "size": 10,
              "solidity": 0.2
             }
            },
            "type": "barpolar"
           }
          ],
          "carpet": [
           {
            "aaxis": {
             "endlinecolor": "#2a3f5f",
             "gridcolor": "white",
             "linecolor": "white",
             "minorgridcolor": "white",
             "startlinecolor": "#2a3f5f"
            },
            "baxis": {
             "endlinecolor": "#2a3f5f",
             "gridcolor": "white",
             "linecolor": "white",
             "minorgridcolor": "white",
             "startlinecolor": "#2a3f5f"
            },
            "type": "carpet"
           }
          ],
          "choropleth": [
           {
            "colorbar": {
             "outlinewidth": 0,
             "ticks": ""
            },
            "type": "choropleth"
           }
          ],
          "contour": [
           {
            "colorbar": {
             "outlinewidth": 0,
             "ticks": ""
            },
            "colorscale": [
             [
              0,
              "#0d0887"
             ],
             [
              0.1111111111111111,
              "#46039f"
             ],
             [
              0.2222222222222222,
              "#7201a8"
             ],
             [
              0.3333333333333333,
              "#9c179e"
             ],
             [
              0.4444444444444444,
              "#bd3786"
             ],
             [
              0.5555555555555556,
              "#d8576b"
             ],
             [
              0.6666666666666666,
              "#ed7953"
             ],
             [
              0.7777777777777778,
              "#fb9f3a"
             ],
             [
              0.8888888888888888,
              "#fdca26"
             ],
             [
              1,
              "#f0f921"
             ]
            ],
            "type": "contour"
           }
          ],
          "contourcarpet": [
           {
            "colorbar": {
             "outlinewidth": 0,
             "ticks": ""
            },
            "type": "contourcarpet"
           }
          ],
          "heatmap": [
           {
            "colorbar": {
             "outlinewidth": 0,
             "ticks": ""
            },
            "colorscale": [
             [
              0,
              "#0d0887"
             ],
             [
              0.1111111111111111,
              "#46039f"
             ],
             [
              0.2222222222222222,
              "#7201a8"
             ],
             [
              0.3333333333333333,
              "#9c179e"
             ],
             [
              0.4444444444444444,
              "#bd3786"
             ],
             [
              0.5555555555555556,
              "#d8576b"
             ],
             [
              0.6666666666666666,
              "#ed7953"
             ],
             [
              0.7777777777777778,
              "#fb9f3a"
             ],
             [
              0.8888888888888888,
              "#fdca26"
             ],
             [
              1,
              "#f0f921"
             ]
            ],
            "type": "heatmap"
           }
          ],
          "heatmapgl": [
           {
            "colorbar": {
             "outlinewidth": 0,
             "ticks": ""
            },
            "colorscale": [
             [
              0,
              "#0d0887"
             ],
             [
              0.1111111111111111,
              "#46039f"
             ],
             [
              0.2222222222222222,
              "#7201a8"
             ],
             [
              0.3333333333333333,
              "#9c179e"
             ],
             [
              0.4444444444444444,
              "#bd3786"
             ],
             [
              0.5555555555555556,
              "#d8576b"
             ],
             [
              0.6666666666666666,
              "#ed7953"
             ],
             [
              0.7777777777777778,
              "#fb9f3a"
             ],
             [
              0.8888888888888888,
              "#fdca26"
             ],
             [
              1,
              "#f0f921"
             ]
            ],
            "type": "heatmapgl"
           }
          ],
          "histogram": [
           {
            "marker": {
             "pattern": {
              "fillmode": "overlay",
              "size": 10,
              "solidity": 0.2
             }
            },
            "type": "histogram"
           }
          ],
          "histogram2d": [
           {
            "colorbar": {
             "outlinewidth": 0,
             "ticks": ""
            },
            "colorscale": [
             [
              0,
              "#0d0887"
             ],
             [
              0.1111111111111111,
              "#46039f"
             ],
             [
              0.2222222222222222,
              "#7201a8"
             ],
             [
              0.3333333333333333,
              "#9c179e"
             ],
             [
              0.4444444444444444,
              "#bd3786"
             ],
             [
              0.5555555555555556,
              "#d8576b"
             ],
             [
              0.6666666666666666,
              "#ed7953"
             ],
             [
              0.7777777777777778,
              "#fb9f3a"
             ],
             [
              0.8888888888888888,
              "#fdca26"
             ],
             [
              1,
              "#f0f921"
             ]
            ],
            "type": "histogram2d"
           }
          ],
          "histogram2dcontour": [
           {
            "colorbar": {
             "outlinewidth": 0,
             "ticks": ""
            },
            "colorscale": [
             [
              0,
              "#0d0887"
             ],
             [
              0.1111111111111111,
              "#46039f"
             ],
             [
              0.2222222222222222,
              "#7201a8"
             ],
             [
              0.3333333333333333,
              "#9c179e"
             ],
             [
              0.4444444444444444,
              "#bd3786"
             ],
             [
              0.5555555555555556,
              "#d8576b"
             ],
             [
              0.6666666666666666,
              "#ed7953"
             ],
             [
              0.7777777777777778,
              "#fb9f3a"
             ],
             [
              0.8888888888888888,
              "#fdca26"
             ],
             [
              1,
              "#f0f921"
             ]
            ],
            "type": "histogram2dcontour"
           }
          ],
          "mesh3d": [
           {
            "colorbar": {
             "outlinewidth": 0,
             "ticks": ""
            },
            "type": "mesh3d"
           }
          ],
          "parcoords": [
           {
            "line": {
             "colorbar": {
              "outlinewidth": 0,
              "ticks": ""
             }
            },
            "type": "parcoords"
           }
          ],
          "pie": [
           {
            "automargin": true,
            "type": "pie"
           }
          ],
          "scatter": [
           {
            "fillpattern": {
             "fillmode": "overlay",
             "size": 10,
             "solidity": 0.2
            },
            "type": "scatter"
           }
          ],
          "scatter3d": [
           {
            "line": {
             "colorbar": {
              "outlinewidth": 0,
              "ticks": ""
             }
            },
            "marker": {
             "colorbar": {
              "outlinewidth": 0,
              "ticks": ""
             }
            },
            "type": "scatter3d"
           }
          ],
          "scattercarpet": [
           {
            "marker": {
             "colorbar": {
              "outlinewidth": 0,
              "ticks": ""
             }
            },
            "type": "scattercarpet"
           }
          ],
          "scattergeo": [
           {
            "marker": {
             "colorbar": {
              "outlinewidth": 0,
              "ticks": ""
             }
            },
            "type": "scattergeo"
           }
          ],
          "scattergl": [
           {
            "marker": {
             "colorbar": {
              "outlinewidth": 0,
              "ticks": ""
             }
            },
            "type": "scattergl"
           }
          ],
          "scattermapbox": [
           {
            "marker": {
             "colorbar": {
              "outlinewidth": 0,
              "ticks": ""
             }
            },
            "type": "scattermapbox"
           }
          ],
          "scatterpolar": [
           {
            "marker": {
             "colorbar": {
              "outlinewidth": 0,
              "ticks": ""
             }
            },
            "type": "scatterpolar"
           }
          ],
          "scatterpolargl": [
           {
            "marker": {
             "colorbar": {
              "outlinewidth": 0,
              "ticks": ""
             }
            },
            "type": "scatterpolargl"
           }
          ],
          "scatterternary": [
           {
            "marker": {
             "colorbar": {
              "outlinewidth": 0,
              "ticks": ""
             }
            },
            "type": "scatterternary"
           }
          ],
          "surface": [
           {
            "colorbar": {
             "outlinewidth": 0,
             "ticks": ""
            },
            "colorscale": [
             [
              0,
              "#0d0887"
             ],
             [
              0.1111111111111111,
              "#46039f"
             ],
             [
              0.2222222222222222,
              "#7201a8"
             ],
             [
              0.3333333333333333,
              "#9c179e"
             ],
             [
              0.4444444444444444,
              "#bd3786"
             ],
             [
              0.5555555555555556,
              "#d8576b"
             ],
             [
              0.6666666666666666,
              "#ed7953"
             ],
             [
              0.7777777777777778,
              "#fb9f3a"
             ],
             [
              0.8888888888888888,
              "#fdca26"
             ],
             [
              1,
              "#f0f921"
             ]
            ],
            "type": "surface"
           }
          ],
          "table": [
           {
            "cells": {
             "fill": {
              "color": "#EBF0F8"
             },
             "line": {
              "color": "white"
             }
            },
            "header": {
             "fill": {
              "color": "#C8D4E3"
             },
             "line": {
              "color": "white"
             }
            },
            "type": "table"
           }
          ]
         },
         "layout": {
          "annotationdefaults": {
           "arrowcolor": "#2a3f5f",
           "arrowhead": 0,
           "arrowwidth": 1
          },
          "autotypenumbers": "strict",
          "coloraxis": {
           "colorbar": {
            "outlinewidth": 0,
            "ticks": ""
           }
          },
          "colorscale": {
           "diverging": [
            [
             0,
             "#8e0152"
            ],
            [
             0.1,
             "#c51b7d"
            ],
            [
             0.2,
             "#de77ae"
            ],
            [
             0.3,
             "#f1b6da"
            ],
            [
             0.4,
             "#fde0ef"
            ],
            [
             0.5,
             "#f7f7f7"
            ],
            [
             0.6,
             "#e6f5d0"
            ],
            [
             0.7,
             "#b8e186"
            ],
            [
             0.8,
             "#7fbc41"
            ],
            [
             0.9,
             "#4d9221"
            ],
            [
             1,
             "#276419"
            ]
           ],
           "sequential": [
            [
             0,
             "#0d0887"
            ],
            [
             0.1111111111111111,
             "#46039f"
            ],
            [
             0.2222222222222222,
             "#7201a8"
            ],
            [
             0.3333333333333333,
             "#9c179e"
            ],
            [
             0.4444444444444444,
             "#bd3786"
            ],
            [
             0.5555555555555556,
             "#d8576b"
            ],
            [
             0.6666666666666666,
             "#ed7953"
            ],
            [
             0.7777777777777778,
             "#fb9f3a"
            ],
            [
             0.8888888888888888,
             "#fdca26"
            ],
            [
             1,
             "#f0f921"
            ]
           ],
           "sequentialminus": [
            [
             0,
             "#0d0887"
            ],
            [
             0.1111111111111111,
             "#46039f"
            ],
            [
             0.2222222222222222,
             "#7201a8"
            ],
            [
             0.3333333333333333,
             "#9c179e"
            ],
            [
             0.4444444444444444,
             "#bd3786"
            ],
            [
             0.5555555555555556,
             "#d8576b"
            ],
            [
             0.6666666666666666,
             "#ed7953"
            ],
            [
             0.7777777777777778,
             "#fb9f3a"
            ],
            [
             0.8888888888888888,
             "#fdca26"
            ],
            [
             1,
             "#f0f921"
            ]
           ]
          },
          "colorway": [
           "#636efa",
           "#EF553B",
           "#00cc96",
           "#ab63fa",
           "#FFA15A",
           "#19d3f3",
           "#FF6692",
           "#B6E880",
           "#FF97FF",
           "#FECB52"
          ],
          "font": {
           "color": "#2a3f5f"
          },
          "geo": {
           "bgcolor": "white",
           "lakecolor": "white",
           "landcolor": "#E5ECF6",
           "showlakes": true,
           "showland": true,
           "subunitcolor": "white"
          },
          "hoverlabel": {
           "align": "left"
          },
          "hovermode": "closest",
          "mapbox": {
           "style": "light"
          },
          "paper_bgcolor": "white",
          "plot_bgcolor": "#E5ECF6",
          "polar": {
           "angularaxis": {
            "gridcolor": "white",
            "linecolor": "white",
            "ticks": ""
           },
           "bgcolor": "#E5ECF6",
           "radialaxis": {
            "gridcolor": "white",
            "linecolor": "white",
            "ticks": ""
           }
          },
          "scene": {
           "xaxis": {
            "backgroundcolor": "#E5ECF6",
            "gridcolor": "white",
            "gridwidth": 2,
            "linecolor": "white",
            "showbackground": true,
            "ticks": "",
            "zerolinecolor": "white"
           },
           "yaxis": {
            "backgroundcolor": "#E5ECF6",
            "gridcolor": "white",
            "gridwidth": 2,
            "linecolor": "white",
            "showbackground": true,
            "ticks": "",
            "zerolinecolor": "white"
           },
           "zaxis": {
            "backgroundcolor": "#E5ECF6",
            "gridcolor": "white",
            "gridwidth": 2,
            "linecolor": "white",
            "showbackground": true,
            "ticks": "",
            "zerolinecolor": "white"
           }
          },
          "shapedefaults": {
           "line": {
            "color": "#2a3f5f"
           }
          },
          "ternary": {
           "aaxis": {
            "gridcolor": "white",
            "linecolor": "white",
            "ticks": ""
           },
           "baxis": {
            "gridcolor": "white",
            "linecolor": "white",
            "ticks": ""
           },
           "bgcolor": "#E5ECF6",
           "caxis": {
            "gridcolor": "white",
            "linecolor": "white",
            "ticks": ""
           }
          },
          "title": {
           "x": 0.05
          },
          "xaxis": {
           "automargin": true,
           "gridcolor": "white",
           "linecolor": "white",
           "ticks": "",
           "title": {
            "standoff": 15
           },
           "zerolinecolor": "white",
           "zerolinewidth": 2
          },
          "yaxis": {
           "automargin": true,
           "gridcolor": "white",
           "linecolor": "white",
           "ticks": "",
           "title": {
            "standoff": 15
           },
           "zerolinecolor": "white",
           "zerolinewidth": 2
          }
         }
        },
        "title": {
         "text": "BRP Stock Price Over time [Clifford Franklin (R)]"
        },
        "yaxis": {
         "title": {
          "text": "BRP Stock"
         }
        }
       }
      },
      "text/html": [
       "<div>                            <div id=\"29d9a797-8b5c-48da-a3bf-582aecf95129\" class=\"plotly-graph-div\" style=\"height:525px; width:100%;\"></div>            <script type=\"text/javascript\">                require([\"plotly\"], function(Plotly) {                    window.PLOTLYENV=window.PLOTLYENV || {};                                    if (document.getElementById(\"29d9a797-8b5c-48da-a3bf-582aecf95129\")) {                    Plotly.newPlot(                        \"29d9a797-8b5c-48da-a3bf-582aecf95129\",                        [{\"close\":[28.940000534057617,29.65999984741211,30.59000015258789,29.440000534057617,29.299999237060547,29.420000076293945,29.68000030517578,30.190000534057617,29.860000610351562,29.25,28.299999237060547,28.3700008392334,28.770000457763672,28.940000534057617,28.549999237060547,28.40999984741211,28.559999465942383,27.43000030517578,27.959999084472656,29.030000686645508,28.65999984741211,28.190000534057617,27.670000076293945,27.6299991607666,27.209999084472656,27.219999313354492,26.43000030517578,26.809999465942383,27.59000015258789,27.40999984741211,28.0,27.309999465942383,26.649999618530273,26.700000762939453,26.40999984741211,26.639999389648438],\"high\":[29.385000228881836,29.68000030517578,30.84000015258789,30.3700008392334,29.6299991607666,29.850000381469727,30.670000076293945,30.389999389648438,30.280000686645508,29.950000762939453,29.559999465942383,28.43000030517578,29.0049991607666,29.399999618530273,28.850000381469727,28.549999237060547,28.899999618530273,28.840900421142578,28.139999389648438,29.360000610351562,29.32360076904297,28.40999984741211,28.149999618530273,27.75,28.09000015258789,27.645000457763672,27.68000030517578,27.030000686645508,27.670000076293945,27.709999084472656,28.079999923706055,28.19499969482422,27.489999771118164,26.729999542236328,27.079999923706055,26.878999710083008],\"low\":[28.709999084472656,28.270000457763672,29.422000885009766,28.93000030517578,28.829999923706055,28.68000030517578,29.079999923706055,29.5,29.68000030517578,29.239999771118164,28.219999313354492,27.920000076293945,28.309999465942383,28.770000457763672,28.200000762939453,28.104999542236328,28.360000610351562,27.420000076293945,27.219999313354492,28.440000534057617,28.299999237060547,27.31999969482422,27.309999465942383,27.023500442504883,26.88129997253418,26.709999084472656,26.3799991607666,26.389999389648438,26.56999969482422,27.09000015258789,27.510000228881836,27.270000457763672,26.459999084472656,26.139999389648438,26.389999389648438,26.079999923706055],\"open\":[29.309999465942383,28.674999237060547,29.559999465942383,30.309999465942383,29.200000762939453,29.149999618530273,29.639999389648438,29.670000076293945,30.239999771118164,29.8799991607666,29.170000076293945,28.299999237060547,28.3700008392334,28.770000457763672,28.850000381469727,28.280000686645508,28.40999984741211,28.770000457763672,27.440000534057617,29.360000610351562,29.18000030517578,27.809999465942383,27.889999389648438,27.31999969482422,27.739999771118164,26.959999084472656,27.520000457763672,26.540000915527344,26.829999923706055,27.709999084472656,27.510000228881836,27.799999237060547,26.899999618530273,26.6299991607666,26.850000381469727,26.200000762939453],\"x\":[\"2024-03-11T00:00:00\",\"2024-03-12T00:00:00\",\"2024-03-13T00:00:00\",\"2024-03-14T00:00:00\",\"2024-03-15T00:00:00\",\"2024-03-18T00:00:00\",\"2024-03-19T00:00:00\",\"2024-03-20T00:00:00\",\"2024-03-21T00:00:00\",\"2024-03-22T00:00:00\",\"2024-03-25T00:00:00\",\"2024-03-26T00:00:00\",\"2024-03-27T00:00:00\",\"2024-03-28T00:00:00\",\"2024-04-01T00:00:00\",\"2024-04-02T00:00:00\",\"2024-04-03T00:00:00\",\"2024-04-04T00:00:00\",\"2024-04-05T00:00:00\",\"2024-04-08T00:00:00\",\"2024-04-09T00:00:00\",\"2024-04-10T00:00:00\",\"2024-04-11T00:00:00\",\"2024-04-12T00:00:00\",\"2024-04-15T00:00:00\",\"2024-04-16T00:00:00\",\"2024-04-17T00:00:00\",\"2024-04-18T00:00:00\",\"2024-04-19T00:00:00\",\"2024-04-22T00:00:00\",\"2024-04-23T00:00:00\",\"2024-04-24T00:00:00\",\"2024-04-25T00:00:00\",\"2024-04-26T00:00:00\",\"2024-04-29T00:00:00\",\"2024-04-30T00:00:00\"],\"type\":\"candlestick\"},{\"mode\":\"lines\",\"name\":\"Adj Close Prediction\",\"x\":[\"2024-03-11T00:00:00\",\"2024-03-12T00:00:00\",\"2024-03-13T00:00:00\",\"2024-03-14T00:00:00\",\"2024-03-15T00:00:00\",\"2024-03-18T00:00:00\",\"2024-03-19T00:00:00\",\"2024-03-20T00:00:00\",\"2024-03-21T00:00:00\",\"2024-03-22T00:00:00\",\"2024-03-25T00:00:00\",\"2024-03-26T00:00:00\",\"2024-03-27T00:00:00\",\"2024-03-28T00:00:00\",\"2024-04-01T00:00:00\",\"2024-04-02T00:00:00\",\"2024-04-03T00:00:00\",\"2024-04-04T00:00:00\",\"2024-04-05T00:00:00\",\"2024-04-08T00:00:00\",\"2024-04-09T00:00:00\",\"2024-04-10T00:00:00\",\"2024-04-11T00:00:00\",\"2024-04-12T00:00:00\",\"2024-04-15T00:00:00\",\"2024-04-16T00:00:00\",\"2024-04-17T00:00:00\",\"2024-04-18T00:00:00\",\"2024-04-19T00:00:00\",\"2024-04-22T00:00:00\",\"2024-04-23T00:00:00\",\"2024-04-24T00:00:00\",\"2024-04-25T00:00:00\",\"2024-04-26T00:00:00\",\"2024-04-29T00:00:00\",\"2024-04-30T00:00:00\"],\"y\":[29.934639836216835,29.838660414461316,29.742680992705793,29.64670157095027,29.550722149194748,29.45474272743923,29.358763305683706,29.262783883928183,29.166804462172664,29.07082504041714,28.974845618661618,28.8788661969061,28.782886775150576,28.686907353395053,28.59092793163953,28.49494850988401,28.39896908812849,28.302989666372966,28.207010244617447,28.111030822861924,28.0150514011064,27.91907197935088,27.82309255759536,27.727113135839836,27.631133714084314,27.535154292328794,27.43917487057327,27.34319544881775,27.247216027062226,27.151236605306707,27.055257183551184,26.95927776179566,26.863298340040142,26.76731891828462,26.671339496529097,26.575360074773577],\"type\":\"scatter\"}],                        {\"template\":{\"data\":{\"histogram2dcontour\":[{\"type\":\"histogram2dcontour\",\"colorbar\":{\"outlinewidth\":0,\"ticks\":\"\"},\"colorscale\":[[0.0,\"#0d0887\"],[0.1111111111111111,\"#46039f\"],[0.2222222222222222,\"#7201a8\"],[0.3333333333333333,\"#9c179e\"],[0.4444444444444444,\"#bd3786\"],[0.5555555555555556,\"#d8576b\"],[0.6666666666666666,\"#ed7953\"],[0.7777777777777778,\"#fb9f3a\"],[0.8888888888888888,\"#fdca26\"],[1.0,\"#f0f921\"]]}],\"choropleth\":[{\"type\":\"choropleth\",\"colorbar\":{\"outlinewidth\":0,\"ticks\":\"\"}}],\"histogram2d\":[{\"type\":\"histogram2d\",\"colorbar\":{\"outlinewidth\":0,\"ticks\":\"\"},\"colorscale\":[[0.0,\"#0d0887\"],[0.1111111111111111,\"#46039f\"],[0.2222222222222222,\"#7201a8\"],[0.3333333333333333,\"#9c179e\"],[0.4444444444444444,\"#bd3786\"],[0.5555555555555556,\"#d8576b\"],[0.6666666666666666,\"#ed7953\"],[0.7777777777777778,\"#fb9f3a\"],[0.8888888888888888,\"#fdca26\"],[1.0,\"#f0f921\"]]}],\"heatmap\":[{\"type\":\"heatmap\",\"colorbar\":{\"outlinewidth\":0,\"ticks\":\"\"},\"colorscale\":[[0.0,\"#0d0887\"],[0.1111111111111111,\"#46039f\"],[0.2222222222222222,\"#7201a8\"],[0.3333333333333333,\"#9c179e\"],[0.4444444444444444,\"#bd3786\"],[0.5555555555555556,\"#d8576b\"],[0.6666666666666666,\"#ed7953\"],[0.7777777777777778,\"#fb9f3a\"],[0.8888888888888888,\"#fdca26\"],[1.0,\"#f0f921\"]]}],\"heatmapgl\":[{\"type\":\"heatmapgl\",\"colorbar\":{\"outlinewidth\":0,\"ticks\":\"\"},\"colorscale\":[[0.0,\"#0d0887\"],[0.1111111111111111,\"#46039f\"],[0.2222222222222222,\"#7201a8\"],[0.3333333333333333,\"#9c179e\"],[0.4444444444444444,\"#bd3786\"],[0.5555555555555556,\"#d8576b\"],[0.6666666666666666,\"#ed7953\"],[0.7777777777777778,\"#fb9f3a\"],[0.8888888888888888,\"#fdca26\"],[1.0,\"#f0f921\"]]}],\"contourcarpet\":[{\"type\":\"contourcarpet\",\"colorbar\":{\"outlinewidth\":0,\"ticks\":\"\"}}],\"contour\":[{\"type\":\"contour\",\"colorbar\":{\"outlinewidth\":0,\"ticks\":\"\"},\"colorscale\":[[0.0,\"#0d0887\"],[0.1111111111111111,\"#46039f\"],[0.2222222222222222,\"#7201a8\"],[0.3333333333333333,\"#9c179e\"],[0.4444444444444444,\"#bd3786\"],[0.5555555555555556,\"#d8576b\"],[0.6666666666666666,\"#ed7953\"],[0.7777777777777778,\"#fb9f3a\"],[0.8888888888888888,\"#fdca26\"],[1.0,\"#f0f921\"]]}],\"surface\":[{\"type\":\"surface\",\"colorbar\":{\"outlinewidth\":0,\"ticks\":\"\"},\"colorscale\":[[0.0,\"#0d0887\"],[0.1111111111111111,\"#46039f\"],[0.2222222222222222,\"#7201a8\"],[0.3333333333333333,\"#9c179e\"],[0.4444444444444444,\"#bd3786\"],[0.5555555555555556,\"#d8576b\"],[0.6666666666666666,\"#ed7953\"],[0.7777777777777778,\"#fb9f3a\"],[0.8888888888888888,\"#fdca26\"],[1.0,\"#f0f921\"]]}],\"mesh3d\":[{\"type\":\"mesh3d\",\"colorbar\":{\"outlinewidth\":0,\"ticks\":\"\"}}],\"scatter\":[{\"fillpattern\":{\"fillmode\":\"overlay\",\"size\":10,\"solidity\":0.2},\"type\":\"scatter\"}],\"parcoords\":[{\"type\":\"parcoords\",\"line\":{\"colorbar\":{\"outlinewidth\":0,\"ticks\":\"\"}}}],\"scatterpolargl\":[{\"type\":\"scatterpolargl\",\"marker\":{\"colorbar\":{\"outlinewidth\":0,\"ticks\":\"\"}}}],\"bar\":[{\"error_x\":{\"color\":\"#2a3f5f\"},\"error_y\":{\"color\":\"#2a3f5f\"},\"marker\":{\"line\":{\"color\":\"#E5ECF6\",\"width\":0.5},\"pattern\":{\"fillmode\":\"overlay\",\"size\":10,\"solidity\":0.2}},\"type\":\"bar\"}],\"scattergeo\":[{\"type\":\"scattergeo\",\"marker\":{\"colorbar\":{\"outlinewidth\":0,\"ticks\":\"\"}}}],\"scatterpolar\":[{\"type\":\"scatterpolar\",\"marker\":{\"colorbar\":{\"outlinewidth\":0,\"ticks\":\"\"}}}],\"histogram\":[{\"marker\":{\"pattern\":{\"fillmode\":\"overlay\",\"size\":10,\"solidity\":0.2}},\"type\":\"histogram\"}],\"scattergl\":[{\"type\":\"scattergl\",\"marker\":{\"colorbar\":{\"outlinewidth\":0,\"ticks\":\"\"}}}],\"scatter3d\":[{\"type\":\"scatter3d\",\"line\":{\"colorbar\":{\"outlinewidth\":0,\"ticks\":\"\"}},\"marker\":{\"colorbar\":{\"outlinewidth\":0,\"ticks\":\"\"}}}],\"scattermapbox\":[{\"type\":\"scattermapbox\",\"marker\":{\"colorbar\":{\"outlinewidth\":0,\"ticks\":\"\"}}}],\"scatterternary\":[{\"type\":\"scatterternary\",\"marker\":{\"colorbar\":{\"outlinewidth\":0,\"ticks\":\"\"}}}],\"scattercarpet\":[{\"type\":\"scattercarpet\",\"marker\":{\"colorbar\":{\"outlinewidth\":0,\"ticks\":\"\"}}}],\"carpet\":[{\"aaxis\":{\"endlinecolor\":\"#2a3f5f\",\"gridcolor\":\"white\",\"linecolor\":\"white\",\"minorgridcolor\":\"white\",\"startlinecolor\":\"#2a3f5f\"},\"baxis\":{\"endlinecolor\":\"#2a3f5f\",\"gridcolor\":\"white\",\"linecolor\":\"white\",\"minorgridcolor\":\"white\",\"startlinecolor\":\"#2a3f5f\"},\"type\":\"carpet\"}],\"table\":[{\"cells\":{\"fill\":{\"color\":\"#EBF0F8\"},\"line\":{\"color\":\"white\"}},\"header\":{\"fill\":{\"color\":\"#C8D4E3\"},\"line\":{\"color\":\"white\"}},\"type\":\"table\"}],\"barpolar\":[{\"marker\":{\"line\":{\"color\":\"#E5ECF6\",\"width\":0.5},\"pattern\":{\"fillmode\":\"overlay\",\"size\":10,\"solidity\":0.2}},\"type\":\"barpolar\"}],\"pie\":[{\"automargin\":true,\"type\":\"pie\"}]},\"layout\":{\"autotypenumbers\":\"strict\",\"colorway\":[\"#636efa\",\"#EF553B\",\"#00cc96\",\"#ab63fa\",\"#FFA15A\",\"#19d3f3\",\"#FF6692\",\"#B6E880\",\"#FF97FF\",\"#FECB52\"],\"font\":{\"color\":\"#2a3f5f\"},\"hovermode\":\"closest\",\"hoverlabel\":{\"align\":\"left\"},\"paper_bgcolor\":\"white\",\"plot_bgcolor\":\"#E5ECF6\",\"polar\":{\"bgcolor\":\"#E5ECF6\",\"angularaxis\":{\"gridcolor\":\"white\",\"linecolor\":\"white\",\"ticks\":\"\"},\"radialaxis\":{\"gridcolor\":\"white\",\"linecolor\":\"white\",\"ticks\":\"\"}},\"ternary\":{\"bgcolor\":\"#E5ECF6\",\"aaxis\":{\"gridcolor\":\"white\",\"linecolor\":\"white\",\"ticks\":\"\"},\"baxis\":{\"gridcolor\":\"white\",\"linecolor\":\"white\",\"ticks\":\"\"},\"caxis\":{\"gridcolor\":\"white\",\"linecolor\":\"white\",\"ticks\":\"\"}},\"coloraxis\":{\"colorbar\":{\"outlinewidth\":0,\"ticks\":\"\"}},\"colorscale\":{\"sequential\":[[0.0,\"#0d0887\"],[0.1111111111111111,\"#46039f\"],[0.2222222222222222,\"#7201a8\"],[0.3333333333333333,\"#9c179e\"],[0.4444444444444444,\"#bd3786\"],[0.5555555555555556,\"#d8576b\"],[0.6666666666666666,\"#ed7953\"],[0.7777777777777778,\"#fb9f3a\"],[0.8888888888888888,\"#fdca26\"],[1.0,\"#f0f921\"]],\"sequentialminus\":[[0.0,\"#0d0887\"],[0.1111111111111111,\"#46039f\"],[0.2222222222222222,\"#7201a8\"],[0.3333333333333333,\"#9c179e\"],[0.4444444444444444,\"#bd3786\"],[0.5555555555555556,\"#d8576b\"],[0.6666666666666666,\"#ed7953\"],[0.7777777777777778,\"#fb9f3a\"],[0.8888888888888888,\"#fdca26\"],[1.0,\"#f0f921\"]],\"diverging\":[[0,\"#8e0152\"],[0.1,\"#c51b7d\"],[0.2,\"#de77ae\"],[0.3,\"#f1b6da\"],[0.4,\"#fde0ef\"],[0.5,\"#f7f7f7\"],[0.6,\"#e6f5d0\"],[0.7,\"#b8e186\"],[0.8,\"#7fbc41\"],[0.9,\"#4d9221\"],[1,\"#276419\"]]},\"xaxis\":{\"gridcolor\":\"white\",\"linecolor\":\"white\",\"ticks\":\"\",\"title\":{\"standoff\":15},\"zerolinecolor\":\"white\",\"automargin\":true,\"zerolinewidth\":2},\"yaxis\":{\"gridcolor\":\"white\",\"linecolor\":\"white\",\"ticks\":\"\",\"title\":{\"standoff\":15},\"zerolinecolor\":\"white\",\"automargin\":true,\"zerolinewidth\":2},\"scene\":{\"xaxis\":{\"backgroundcolor\":\"#E5ECF6\",\"gridcolor\":\"white\",\"linecolor\":\"white\",\"showbackground\":true,\"ticks\":\"\",\"zerolinecolor\":\"white\",\"gridwidth\":2},\"yaxis\":{\"backgroundcolor\":\"#E5ECF6\",\"gridcolor\":\"white\",\"linecolor\":\"white\",\"showbackground\":true,\"ticks\":\"\",\"zerolinecolor\":\"white\",\"gridwidth\":2},\"zaxis\":{\"backgroundcolor\":\"#E5ECF6\",\"gridcolor\":\"white\",\"linecolor\":\"white\",\"showbackground\":true,\"ticks\":\"\",\"zerolinecolor\":\"white\",\"gridwidth\":2}},\"shapedefaults\":{\"line\":{\"color\":\"#2a3f5f\"}},\"annotationdefaults\":{\"arrowcolor\":\"#2a3f5f\",\"arrowhead\":0,\"arrowwidth\":1},\"geo\":{\"bgcolor\":\"white\",\"landcolor\":\"#E5ECF6\",\"subunitcolor\":\"white\",\"showland\":true,\"showlakes\":true,\"lakecolor\":\"white\"},\"title\":{\"x\":0.05},\"mapbox\":{\"style\":\"light\"}}},\"title\":{\"text\":\"BRP Stock Price Over time [Clifford Franklin (R)]\"},\"yaxis\":{\"title\":{\"text\":\"BRP Stock\"}},\"shapes\":[{\"x0\":\"2024-03-21\",\"x1\":\"2024-03-21\",\"xref\":\"x\",\"y0\":0,\"y1\":1,\"yref\":\"paper\",\"line\":{\"width\":2}}],\"annotations\":[{\"showarrow\":false,\"text\":\"When stock was sold\",\"x\":\"2024-03-21\",\"xanchor\":\"left\",\"xref\":\"x\",\"y\":0.05,\"yref\":\"paper\"},{\"showarrow\":false,\"text\":\"y_hat = -0.096x + 30.031, MSE = 0.256, R^2 = 0.795\",\"x\":0.97,\"xanchor\":\"right\",\"xref\":\"paper\",\"y\":0.95,\"yanchor\":\"top\",\"yref\":\"paper\"}]},                        {\"responsive\": true}                    ).then(function(){\n",
       "                            \n",
       "var gd = document.getElementById('29d9a797-8b5c-48da-a3bf-582aecf95129');\n",
       "var x = new MutationObserver(function (mutations, observer) {{\n",
       "        var display = window.getComputedStyle(gd).display;\n",
       "        if (!display || display === 'none') {{\n",
       "            console.log([gd, 'removed!']);\n",
       "            Plotly.purge(gd);\n",
       "            observer.disconnect();\n",
       "        }}\n",
       "}});\n",
       "\n",
       "// Listen for the removal of the full notebook cells\n",
       "var notebookContainer = gd.closest('#notebook-container');\n",
       "if (notebookContainer) {{\n",
       "    x.observe(notebookContainer, {childList: true});\n",
       "}}\n",
       "\n",
       "// Listen for the clearing of the current output cell\n",
       "var outputEl = gd.closest('.output');\n",
       "if (outputEl) {{\n",
       "    x.observe(outputEl, {childList: true});\n",
       "}}\n",
       "\n",
       "                        })                };                });            </script>        </div>"
      ]
     },
     "metadata": {},
     "output_type": "display_data"
    }
   ],
   "source": [
    "brp = yf.download(['BRP'], start='2024-03-10', end='2024-05-01').reset_index()\n",
    "brp['Adj Close Pred'] = predict['ypreds']\n",
    "\n",
    "fig = go.Figure(data=[go.Candlestick(x=brp['Date'],\n",
    "                open=brp['Open'], high=brp['High'],\n",
    "                low=brp['Low'], close=brp['Close'])\n",
    "                      ])\n",
    "fig.add_trace(go.Scatter(x=brp['Date'], y=brp['Adj Close Pred'], mode='lines', name='Adj Close Prediction'))\n",
    "\n",
    "fig.update_layout(\n",
    "    title='BRP Stock Price Over time [Clifford Franklin (R)]',\n",
    "    yaxis_title='BRP Stock',\n",
    "    shapes = [dict(\n",
    "        x0='2024-03-21', x1='2024-03-21', y0=0, y1=1, xref='x', yref='paper',\n",
    "        line_width=2)],\n",
    "    annotations=[\n",
    "        dict(\n",
    "        x='2024-03-21', y=0.05, xref='x', yref='paper',\n",
    "        showarrow=False, xanchor='left', text='When stock was sold'),\n",
    "        dict(\n",
    "            x=0.97, y=0.95, xref='paper', yref='paper',\n",
    "            showarrow=False, xanchor='right', yanchor='top', \n",
    "            text=f'y_hat = {equation[1]:.3f}x + {equation[0]:.3f}, MSE = {predict[\"mse\"]:.3f}, R^2 = {predict[\"r2\"]:.3f}')\n",
    "\n",
    "        ]\n",
    "    )\n",
    "    \n",
    "fig.show()"
   ]
  },
  {
   "cell_type": "markdown",
   "id": "4c38350e",
   "metadata": {},
   "source": [
    "Explore and Transfer one ML model to a Python Script (out\n",
    "of Jupyter NB format)\n",
    "- Transfer model training/testing cleaned data into the database\n",
    "- Fully explore the first ML model (checking assumptions, model\n",
    "validation...) via Jupyter\n",
    "- Convert NB code into pure Python Script. Separate into\n",
    "training/testing functions and inference functions\n",
    "- Where possible, train once and store the appropriate model\n",
    "weights/values in the database and use those for future prediction\n",
    "instead of retraining every time a call is made"
   ]
  },
  {
   "cell_type": "markdown",
   "id": "790d46a5",
   "metadata": {},
   "source": [
    "### Exploring First ML (regression) model\n",
    "\n",
    "##### Checking Assumptions"
   ]
  },
  {
   "cell_type": "code",
   "execution_count": 188,
   "id": "e90b50fa",
   "metadata": {},
   "outputs": [
    {
     "data": {
      "image/png": "[encoded data removed]",
      "text/plain": [
       "<Figure size 640x480 with 1 Axes>"
      ]
     },
     "metadata": {},
     "output_type": "display_data"
    }
   ],
   "source": [
    "# Checking for linearity and homoscedasticity\n",
    "plt.scatter(brp['Date'], predict['resids'])\n",
    "plt.xticks(rotation=45)\n",
    "plt.xlabel('Date')\n",
    "plt.ylabel('Adj Close Residuals')\n",
    "plt.title('Residual plot vs Date')\n",
    "plt.grid()\n",
    "plt.show()"
   ]
  },
  {
   "cell_type": "markdown",
   "id": "819584a1",
   "metadata": {},
   "source": [
    "* Seems like points are scattered randomly witout any distinct patterns\n",
    "* And is hovering around Residual=0"
   ]
  },
  {
   "cell_type": "code",
   "execution_count": 197,
   "id": "d476c48c",
   "metadata": {
    "scrolled": true
   },
   "outputs": [
    {
     "data": {
      "image/png": "[encoded data removed]",
      "text/plain": [
       "<Figure size 640x480 with 1 Axes>"
      ]
     },
     "metadata": {},
     "output_type": "display_data"
    }
   ],
   "source": [
    "# Checking for No Autocorrelation (plotting by order)\n",
    "plt.scatter(range(len(brp['Date'])), predict['resids'], alpha=0.8)\n",
    "plt.xlabel(\"index\")\n",
    "plt.ylabel(\"Adj Close residuals\")\n",
    "plt.title(\"residual plot vs. order\")\n",
    "plt.grid()\n",
    "plt.show()\n"
   ]
  },
  {
   "cell_type": "markdown",
   "id": "f009be5b",
   "metadata": {},
   "source": [
    "* No distinct pattern can be identified in this graph"
   ]
  },
  {
   "cell_type": "code",
   "execution_count": 205,
   "id": "8492475a",
   "metadata": {
    "scrolled": true
   },
   "outputs": [
    {
     "data": {
      "image/png": "[encoded data removed]",
      "text/plain": [
       "<Figure size 640x480 with 1 Axes>"
      ]
     },
     "metadata": {},
     "output_type": "display_data"
    }
   ],
   "source": [
    "# Histogram of residuals\n",
    "sns.histplot(predict['resids'], kde=False, bins = 10)\n",
    "plt.xlabel(\"residuals\")\n",
    "plt.title(\"histogram of residuals\")\n",
    "plt.grid()\n",
    "plt.show()"
   ]
  },
  {
   "cell_type": "markdown",
   "id": "dede1700",
   "metadata": {},
   "source": [
    "### Cross Validating the Data"
   ]
  },
  {
   "cell_type": "code",
   "execution_count": 191,
   "id": "f6e3e2b7",
   "metadata": {},
   "outputs": [
    {
     "data": {
      "text/plain": [
       "{'ypreds': array([29.44338321, 27.06666144, 27.9309239 , 27.49879267, 28.03895671,\n",
       "        27.39075986, 28.25502232, 26.95862863, 28.47108794, 26.31043178,\n",
       "        29.3353504 ]),\n",
       " 'resids': array([-0.14338397, -0.63666113,  0.02907518,  0.17120741, -0.6089564 ,\n",
       "         0.2392393 ,  0.15497752, -0.14862916,  0.4689126 ,  0.38956898,\n",
       "         0.08464968]),\n",
       " 'mse': 0.11900311702556882,\n",
       " 'r2': 0.878204002234767}"
      ]
     },
     "execution_count": 191,
     "metadata": {},
     "output_type": "execute_result"
    }
   ],
   "source": [
    "# Test size 30%\n",
    "x_value = np.array(list(range(1, len(brp) + 1)))\n",
    "y_value = np.array(brp['Adj Close'])\n",
    "crossval = train_test_split(x_value,\n",
    "                            y_value,\n",
    "                            test_size=0.30,\n",
    "                            random_state=3)\n",
    "\n",
    "Xtrain, Xtest, ytrain, ytest = crossval\n",
    "cross_equation = line_of_best_fit(Xtest, ytest)\n",
    "cross_predict = linreg_predict(Xtest, ytest, cross_equation)\n",
    "\n",
    "cross_predict\n"
   ]
  },
  {
   "cell_type": "markdown",
   "id": "2807207e",
   "metadata": {},
   "source": [
    "* Mean Squared Error: 0.119003\n",
    "* R^2: 0.878204\n",
    "    * Means that 87.82% of the variance in the Dates can be explained by the variance of the Adj Close price"
   ]
  },
  {
   "cell_type": "code",
   "execution_count": 192,
   "id": "c480ab0c",
   "metadata": {},
   "outputs": [
    {
     "data": {
      "image/png": "[encoded data removed]",
      "text/plain": [
       "<Figure size 640x480 with 1 Axes>"
      ]
     },
     "metadata": {},
     "output_type": "display_data"
    }
   ],
   "source": [
    "X = np.array(list(range(1, len(brp) + 1)))\n",
    "Y = np.array(brp['Adj Close'])\n",
    "\n",
    "equation = line_of_best_fit(X, Y)\n",
    "predict = linreg_predict(X, Y, equation)\n",
    "predict\n",
    "\n",
    "fig, ax = plt.subplots(1,1)\n",
    "ax.plot(brp['Date'].astype(str), Y)\n",
    "ax.plot(brp['Date'].astype(str), predict['ypreds'])\n",
    "ax.xaxis.set_major_locator(ticker.MultipleLocator(3))\n",
    "plt.xticks(rotation=45)\n",
    "plt.show()"
   ]
  }
 ],
 "metadata": {
  "kernelspec": {
   "display_name": "Python 3 (ipykernel)",
   "language": "python",
   "name": "python3"
  },
  "language_info": {
   "codemirror_mode": {
    "name": "ipython",
    "version": 3
   },
   "file_extension": ".py",
   "mimetype": "text/x-python",
   "name": "python",
   "nbconvert_exporter": "python",
   "pygments_lexer": "ipython3",
   "version": "3.10.8"
  }
 },
 "nbformat": 4,
 "nbformat_minor": 5
}
